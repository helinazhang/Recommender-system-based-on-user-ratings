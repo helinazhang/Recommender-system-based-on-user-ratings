{
  "nbformat": 4,
  "nbformat_minor": 0,
  "metadata": {
    "accelerator": "GPU",
    "colab": {
      "name": "RS_Project1.ipynb",
      "provenance": [],
      "collapsed_sections": []
    },
    "kernelspec": {
      "display_name": "Python 3",
      "language": "python",
      "name": "python3"
    },
    "widgets": {
      "application/vnd.jupyter.widget-state+json": {
        "7e6d81c7a1754b0c95c4df2bb75bea15": {
          "model_module": "@jupyter-widgets/controls",
          "model_name": "HBoxModel",
          "state": {
            "_dom_classes": [],
            "_model_module": "@jupyter-widgets/controls",
            "_model_module_version": "1.5.0",
            "_model_name": "HBoxModel",
            "_view_count": null,
            "_view_module": "@jupyter-widgets/controls",
            "_view_module_version": "1.5.0",
            "_view_name": "HBoxView",
            "box_style": "",
            "children": [
              "IPY_MODEL_a4de592814b043b49546e2750407c10f",
              "IPY_MODEL_a11f9bb33c0d4260b7db3157173f48e5"
            ],
            "layout": "IPY_MODEL_f732d479560d4a8cabde98a3c41192ae"
          }
        },
        "f732d479560d4a8cabde98a3c41192ae": {
          "model_module": "@jupyter-widgets/base",
          "model_name": "LayoutModel",
          "state": {
            "_model_module": "@jupyter-widgets/base",
            "_model_module_version": "1.2.0",
            "_model_name": "LayoutModel",
            "_view_count": null,
            "_view_module": "@jupyter-widgets/base",
            "_view_module_version": "1.2.0",
            "_view_name": "LayoutView",
            "align_content": null,
            "align_items": null,
            "align_self": null,
            "border": null,
            "bottom": null,
            "display": null,
            "flex": null,
            "flex_flow": null,
            "grid_area": null,
            "grid_auto_columns": null,
            "grid_auto_flow": null,
            "grid_auto_rows": null,
            "grid_column": null,
            "grid_gap": null,
            "grid_row": null,
            "grid_template_areas": null,
            "grid_template_columns": null,
            "grid_template_rows": null,
            "height": null,
            "justify_content": null,
            "justify_items": null,
            "left": null,
            "margin": null,
            "max_height": null,
            "max_width": null,
            "min_height": null,
            "min_width": null,
            "object_fit": null,
            "object_position": null,
            "order": null,
            "overflow": null,
            "overflow_x": null,
            "overflow_y": null,
            "padding": null,
            "right": null,
            "top": null,
            "visibility": null,
            "width": null
          }
        },
        "a4de592814b043b49546e2750407c10f": {
          "model_module": "@jupyter-widgets/controls",
          "model_name": "FloatProgressModel",
          "state": {
            "_dom_classes": [],
            "_model_module": "@jupyter-widgets/controls",
            "_model_module_version": "1.5.0",
            "_model_name": "FloatProgressModel",
            "_view_count": null,
            "_view_module": "@jupyter-widgets/controls",
            "_view_module_version": "1.5.0",
            "_view_name": "ProgressView",
            "bar_style": "success",
            "description": "Ranking: 100%",
            "description_tooltip": null,
            "layout": "IPY_MODEL_ad9ec7055bb94e669460e49e94360573",
            "max": 9402,
            "min": 0,
            "orientation": "horizontal",
            "style": "IPY_MODEL_e97bfbf4783a40af8a01574d29e60eaa",
            "value": 9402
          }
        },
        "a11f9bb33c0d4260b7db3157173f48e5": {
          "model_module": "@jupyter-widgets/controls",
          "model_name": "HTMLModel",
          "state": {
            "_dom_classes": [],
            "_model_module": "@jupyter-widgets/controls",
            "_model_module_version": "1.5.0",
            "_model_name": "HTMLModel",
            "_view_count": null,
            "_view_module": "@jupyter-widgets/controls",
            "_view_module_version": "1.5.0",
            "_view_name": "HTMLView",
            "description": "",
            "description_tooltip": null,
            "layout": "IPY_MODEL_7ba1e057c6bd4299b4f18e5a7a6acb94",
            "placeholder": "​",
            "style": "IPY_MODEL_3cfcbba6209749499976eee02394dfcf",
            "value": " 9402/9402 [01:06&lt;00:00, 141.14it/s]"
          }
        },
        "e97bfbf4783a40af8a01574d29e60eaa": {
          "model_module": "@jupyter-widgets/controls",
          "model_name": "ProgressStyleModel",
          "state": {
            "_model_module": "@jupyter-widgets/controls",
            "_model_module_version": "1.5.0",
            "_model_name": "ProgressStyleModel",
            "_view_count": null,
            "_view_module": "@jupyter-widgets/base",
            "_view_module_version": "1.2.0",
            "_view_name": "StyleView",
            "bar_color": null,
            "description_width": "initial"
          }
        },
        "ad9ec7055bb94e669460e49e94360573": {
          "model_module": "@jupyter-widgets/base",
          "model_name": "LayoutModel",
          "state": {
            "_model_module": "@jupyter-widgets/base",
            "_model_module_version": "1.2.0",
            "_model_name": "LayoutModel",
            "_view_count": null,
            "_view_module": "@jupyter-widgets/base",
            "_view_module_version": "1.2.0",
            "_view_name": "LayoutView",
            "align_content": null,
            "align_items": null,
            "align_self": null,
            "border": null,
            "bottom": null,
            "display": null,
            "flex": null,
            "flex_flow": null,
            "grid_area": null,
            "grid_auto_columns": null,
            "grid_auto_flow": null,
            "grid_auto_rows": null,
            "grid_column": null,
            "grid_gap": null,
            "grid_row": null,
            "grid_template_areas": null,
            "grid_template_columns": null,
            "grid_template_rows": null,
            "height": null,
            "justify_content": null,
            "justify_items": null,
            "left": null,
            "margin": null,
            "max_height": null,
            "max_width": null,
            "min_height": null,
            "min_width": null,
            "object_fit": null,
            "object_position": null,
            "order": null,
            "overflow": null,
            "overflow_x": null,
            "overflow_y": null,
            "padding": null,
            "right": null,
            "top": null,
            "visibility": null,
            "width": null
          }
        },
        "3cfcbba6209749499976eee02394dfcf": {
          "model_module": "@jupyter-widgets/controls",
          "model_name": "DescriptionStyleModel",
          "state": {
            "_model_module": "@jupyter-widgets/controls",
            "_model_module_version": "1.5.0",
            "_model_name": "DescriptionStyleModel",
            "_view_count": null,
            "_view_module": "@jupyter-widgets/base",
            "_view_module_version": "1.2.0",
            "_view_name": "StyleView",
            "description_width": ""
          }
        },
        "7ba1e057c6bd4299b4f18e5a7a6acb94": {
          "model_module": "@jupyter-widgets/base",
          "model_name": "LayoutModel",
          "state": {
            "_model_module": "@jupyter-widgets/base",
            "_model_module_version": "1.2.0",
            "_model_name": "LayoutModel",
            "_view_count": null,
            "_view_module": "@jupyter-widgets/base",
            "_view_module_version": "1.2.0",
            "_view_name": "LayoutView",
            "align_content": null,
            "align_items": null,
            "align_self": null,
            "border": null,
            "bottom": null,
            "display": null,
            "flex": null,
            "flex_flow": null,
            "grid_area": null,
            "grid_auto_columns": null,
            "grid_auto_flow": null,
            "grid_auto_rows": null,
            "grid_column": null,
            "grid_gap": null,
            "grid_row": null,
            "grid_template_areas": null,
            "grid_template_columns": null,
            "grid_template_rows": null,
            "height": null,
            "justify_content": null,
            "justify_items": null,
            "left": null,
            "margin": null,
            "max_height": null,
            "max_width": null,
            "min_height": null,
            "min_width": null,
            "object_fit": null,
            "object_position": null,
            "order": null,
            "overflow": null,
            "overflow_x": null,
            "overflow_y": null,
            "padding": null,
            "right": null,
            "top": null,
            "visibility": null,
            "width": null
          }
        },
        "ab7ee39051d94b1b97dffa07259984fb": {
          "model_module": "@jupyter-widgets/controls",
          "model_name": "HBoxModel",
          "state": {
            "_dom_classes": [],
            "_model_module": "@jupyter-widgets/controls",
            "_model_module_version": "1.5.0",
            "_model_name": "HBoxModel",
            "_view_count": null,
            "_view_module": "@jupyter-widgets/controls",
            "_view_module_version": "1.5.0",
            "_view_name": "HBoxView",
            "box_style": "",
            "children": [
              "IPY_MODEL_340bd62ef688497287c0d4a5c8c364c9",
              "IPY_MODEL_32fdf26855f241adb15305c500c06166"
            ],
            "layout": "IPY_MODEL_20b057e945af4a75a0587a3fcb6f0eb0"
          }
        },
        "20b057e945af4a75a0587a3fcb6f0eb0": {
          "model_module": "@jupyter-widgets/base",
          "model_name": "LayoutModel",
          "state": {
            "_model_module": "@jupyter-widgets/base",
            "_model_module_version": "1.2.0",
            "_model_name": "LayoutModel",
            "_view_count": null,
            "_view_module": "@jupyter-widgets/base",
            "_view_module_version": "1.2.0",
            "_view_name": "LayoutView",
            "align_content": null,
            "align_items": null,
            "align_self": null,
            "border": null,
            "bottom": null,
            "display": null,
            "flex": null,
            "flex_flow": null,
            "grid_area": null,
            "grid_auto_columns": null,
            "grid_auto_flow": null,
            "grid_auto_rows": null,
            "grid_column": null,
            "grid_gap": null,
            "grid_row": null,
            "grid_template_areas": null,
            "grid_template_columns": null,
            "grid_template_rows": null,
            "height": null,
            "justify_content": null,
            "justify_items": null,
            "left": null,
            "margin": null,
            "max_height": null,
            "max_width": null,
            "min_height": null,
            "min_width": null,
            "object_fit": null,
            "object_position": null,
            "order": null,
            "overflow": null,
            "overflow_x": null,
            "overflow_y": null,
            "padding": null,
            "right": null,
            "top": null,
            "visibility": null,
            "width": null
          }
        },
        "340bd62ef688497287c0d4a5c8c364c9": {
          "model_module": "@jupyter-widgets/controls",
          "model_name": "FloatProgressModel",
          "state": {
            "_dom_classes": [],
            "_model_module": "@jupyter-widgets/controls",
            "_model_module_version": "1.5.0",
            "_model_name": "FloatProgressModel",
            "_view_count": null,
            "_view_module": "@jupyter-widgets/controls",
            "_view_module_version": "1.5.0",
            "_view_name": "ProgressView",
            "bar_style": "success",
            "description": "Ranking: 100%",
            "description_tooltip": null,
            "layout": "IPY_MODEL_eaa884855d8d4ad2b4a96e3530980a93",
            "max": 9402,
            "min": 0,
            "orientation": "horizontal",
            "style": "IPY_MODEL_218d4f5b23064189a6cd5a0227fa1537",
            "value": 9402
          }
        },
        "32fdf26855f241adb15305c500c06166": {
          "model_module": "@jupyter-widgets/controls",
          "model_name": "HTMLModel",
          "state": {
            "_dom_classes": [],
            "_model_module": "@jupyter-widgets/controls",
            "_model_module_version": "1.5.0",
            "_model_name": "HTMLModel",
            "_view_count": null,
            "_view_module": "@jupyter-widgets/controls",
            "_view_module_version": "1.5.0",
            "_view_name": "HTMLView",
            "description": "",
            "description_tooltip": null,
            "layout": "IPY_MODEL_bf9e10dc642248a8858989f1236d8aac",
            "placeholder": "​",
            "style": "IPY_MODEL_7e7ad7cbe5cb46b6aa9c81d1af02f7f3",
            "value": " 9402/9402 [08:13&lt;00:00, 19.04it/s]"
          }
        },
        "218d4f5b23064189a6cd5a0227fa1537": {
          "model_module": "@jupyter-widgets/controls",
          "model_name": "ProgressStyleModel",
          "state": {
            "_model_module": "@jupyter-widgets/controls",
            "_model_module_version": "1.5.0",
            "_model_name": "ProgressStyleModel",
            "_view_count": null,
            "_view_module": "@jupyter-widgets/base",
            "_view_module_version": "1.2.0",
            "_view_name": "StyleView",
            "bar_color": null,
            "description_width": "initial"
          }
        },
        "eaa884855d8d4ad2b4a96e3530980a93": {
          "model_module": "@jupyter-widgets/base",
          "model_name": "LayoutModel",
          "state": {
            "_model_module": "@jupyter-widgets/base",
            "_model_module_version": "1.2.0",
            "_model_name": "LayoutModel",
            "_view_count": null,
            "_view_module": "@jupyter-widgets/base",
            "_view_module_version": "1.2.0",
            "_view_name": "LayoutView",
            "align_content": null,
            "align_items": null,
            "align_self": null,
            "border": null,
            "bottom": null,
            "display": null,
            "flex": null,
            "flex_flow": null,
            "grid_area": null,
            "grid_auto_columns": null,
            "grid_auto_flow": null,
            "grid_auto_rows": null,
            "grid_column": null,
            "grid_gap": null,
            "grid_row": null,
            "grid_template_areas": null,
            "grid_template_columns": null,
            "grid_template_rows": null,
            "height": null,
            "justify_content": null,
            "justify_items": null,
            "left": null,
            "margin": null,
            "max_height": null,
            "max_width": null,
            "min_height": null,
            "min_width": null,
            "object_fit": null,
            "object_position": null,
            "order": null,
            "overflow": null,
            "overflow_x": null,
            "overflow_y": null,
            "padding": null,
            "right": null,
            "top": null,
            "visibility": null,
            "width": null
          }
        },
        "7e7ad7cbe5cb46b6aa9c81d1af02f7f3": {
          "model_module": "@jupyter-widgets/controls",
          "model_name": "DescriptionStyleModel",
          "state": {
            "_model_module": "@jupyter-widgets/controls",
            "_model_module_version": "1.5.0",
            "_model_name": "DescriptionStyleModel",
            "_view_count": null,
            "_view_module": "@jupyter-widgets/base",
            "_view_module_version": "1.2.0",
            "_view_name": "StyleView",
            "description_width": ""
          }
        },
        "bf9e10dc642248a8858989f1236d8aac": {
          "model_module": "@jupyter-widgets/base",
          "model_name": "LayoutModel",
          "state": {
            "_model_module": "@jupyter-widgets/base",
            "_model_module_version": "1.2.0",
            "_model_name": "LayoutModel",
            "_view_count": null,
            "_view_module": "@jupyter-widgets/base",
            "_view_module_version": "1.2.0",
            "_view_name": "LayoutView",
            "align_content": null,
            "align_items": null,
            "align_self": null,
            "border": null,
            "bottom": null,
            "display": null,
            "flex": null,
            "flex_flow": null,
            "grid_area": null,
            "grid_auto_columns": null,
            "grid_auto_flow": null,
            "grid_auto_rows": null,
            "grid_column": null,
            "grid_gap": null,
            "grid_row": null,
            "grid_template_areas": null,
            "grid_template_columns": null,
            "grid_template_rows": null,
            "height": null,
            "justify_content": null,
            "justify_items": null,
            "left": null,
            "margin": null,
            "max_height": null,
            "max_width": null,
            "min_height": null,
            "min_width": null,
            "object_fit": null,
            "object_position": null,
            "order": null,
            "overflow": null,
            "overflow_x": null,
            "overflow_y": null,
            "padding": null,
            "right": null,
            "top": null,
            "visibility": null,
            "width": null
          }
        },
        "fec50f149bdb4fc4b5126c1ec701e611": {
          "model_module": "@jupyter-widgets/controls",
          "model_name": "HBoxModel",
          "state": {
            "_dom_classes": [],
            "_model_module": "@jupyter-widgets/controls",
            "_model_module_version": "1.5.0",
            "_model_name": "HBoxModel",
            "_view_count": null,
            "_view_module": "@jupyter-widgets/controls",
            "_view_module_version": "1.5.0",
            "_view_name": "HBoxView",
            "box_style": "",
            "children": [
              "IPY_MODEL_8a2019bb0f7a4d2abe0ecbfaab4fea8c",
              "IPY_MODEL_b5ea59bda43a43838dee52781a2a204d"
            ],
            "layout": "IPY_MODEL_634636bcbc5843149e47986ef44e4929"
          }
        },
        "634636bcbc5843149e47986ef44e4929": {
          "model_module": "@jupyter-widgets/base",
          "model_name": "LayoutModel",
          "state": {
            "_model_module": "@jupyter-widgets/base",
            "_model_module_version": "1.2.0",
            "_model_name": "LayoutModel",
            "_view_count": null,
            "_view_module": "@jupyter-widgets/base",
            "_view_module_version": "1.2.0",
            "_view_name": "LayoutView",
            "align_content": null,
            "align_items": null,
            "align_self": null,
            "border": null,
            "bottom": null,
            "display": null,
            "flex": null,
            "flex_flow": null,
            "grid_area": null,
            "grid_auto_columns": null,
            "grid_auto_flow": null,
            "grid_auto_rows": null,
            "grid_column": null,
            "grid_gap": null,
            "grid_row": null,
            "grid_template_areas": null,
            "grid_template_columns": null,
            "grid_template_rows": null,
            "height": null,
            "justify_content": null,
            "justify_items": null,
            "left": null,
            "margin": null,
            "max_height": null,
            "max_width": null,
            "min_height": null,
            "min_width": null,
            "object_fit": null,
            "object_position": null,
            "order": null,
            "overflow": null,
            "overflow_x": null,
            "overflow_y": null,
            "padding": null,
            "right": null,
            "top": null,
            "visibility": null,
            "width": null
          }
        },
        "8a2019bb0f7a4d2abe0ecbfaab4fea8c": {
          "model_module": "@jupyter-widgets/controls",
          "model_name": "FloatProgressModel",
          "state": {
            "_dom_classes": [],
            "_model_module": "@jupyter-widgets/controls",
            "_model_module_version": "1.5.0",
            "_model_name": "FloatProgressModel",
            "_view_count": null,
            "_view_module": "@jupyter-widgets/controls",
            "_view_module_version": "1.5.0",
            "_view_name": "ProgressView",
            "bar_style": "success",
            "description": "Ranking: 100%",
            "description_tooltip": null,
            "layout": "IPY_MODEL_e314ef4dc3ca43ba85071b397bf7c7ea",
            "max": 9402,
            "min": 0,
            "orientation": "horizontal",
            "style": "IPY_MODEL_733cf60c885b4baf8d182664ad9a86bd",
            "value": 9402
          }
        },
        "b5ea59bda43a43838dee52781a2a204d": {
          "model_module": "@jupyter-widgets/controls",
          "model_name": "HTMLModel",
          "state": {
            "_dom_classes": [],
            "_model_module": "@jupyter-widgets/controls",
            "_model_module_version": "1.5.0",
            "_model_name": "HTMLModel",
            "_view_count": null,
            "_view_module": "@jupyter-widgets/controls",
            "_view_module_version": "1.5.0",
            "_view_name": "HTMLView",
            "description": "",
            "description_tooltip": null,
            "layout": "IPY_MODEL_3c6c8f56d9ac46a98fd99fe5924d9e17",
            "placeholder": "​",
            "style": "IPY_MODEL_b17598f03bc7407083fcf12cea226a1f",
            "value": " 9402/9402 [08:10&lt;00:00, 19.17it/s]"
          }
        },
        "733cf60c885b4baf8d182664ad9a86bd": {
          "model_module": "@jupyter-widgets/controls",
          "model_name": "ProgressStyleModel",
          "state": {
            "_model_module": "@jupyter-widgets/controls",
            "_model_module_version": "1.5.0",
            "_model_name": "ProgressStyleModel",
            "_view_count": null,
            "_view_module": "@jupyter-widgets/base",
            "_view_module_version": "1.2.0",
            "_view_name": "StyleView",
            "bar_color": null,
            "description_width": "initial"
          }
        },
        "e314ef4dc3ca43ba85071b397bf7c7ea": {
          "model_module": "@jupyter-widgets/base",
          "model_name": "LayoutModel",
          "state": {
            "_model_module": "@jupyter-widgets/base",
            "_model_module_version": "1.2.0",
            "_model_name": "LayoutModel",
            "_view_count": null,
            "_view_module": "@jupyter-widgets/base",
            "_view_module_version": "1.2.0",
            "_view_name": "LayoutView",
            "align_content": null,
            "align_items": null,
            "align_self": null,
            "border": null,
            "bottom": null,
            "display": null,
            "flex": null,
            "flex_flow": null,
            "grid_area": null,
            "grid_auto_columns": null,
            "grid_auto_flow": null,
            "grid_auto_rows": null,
            "grid_column": null,
            "grid_gap": null,
            "grid_row": null,
            "grid_template_areas": null,
            "grid_template_columns": null,
            "grid_template_rows": null,
            "height": null,
            "justify_content": null,
            "justify_items": null,
            "left": null,
            "margin": null,
            "max_height": null,
            "max_width": null,
            "min_height": null,
            "min_width": null,
            "object_fit": null,
            "object_position": null,
            "order": null,
            "overflow": null,
            "overflow_x": null,
            "overflow_y": null,
            "padding": null,
            "right": null,
            "top": null,
            "visibility": null,
            "width": null
          }
        },
        "b17598f03bc7407083fcf12cea226a1f": {
          "model_module": "@jupyter-widgets/controls",
          "model_name": "DescriptionStyleModel",
          "state": {
            "_model_module": "@jupyter-widgets/controls",
            "_model_module_version": "1.5.0",
            "_model_name": "DescriptionStyleModel",
            "_view_count": null,
            "_view_module": "@jupyter-widgets/base",
            "_view_module_version": "1.2.0",
            "_view_name": "StyleView",
            "description_width": ""
          }
        },
        "3c6c8f56d9ac46a98fd99fe5924d9e17": {
          "model_module": "@jupyter-widgets/base",
          "model_name": "LayoutModel",
          "state": {
            "_model_module": "@jupyter-widgets/base",
            "_model_module_version": "1.2.0",
            "_model_name": "LayoutModel",
            "_view_count": null,
            "_view_module": "@jupyter-widgets/base",
            "_view_module_version": "1.2.0",
            "_view_name": "LayoutView",
            "align_content": null,
            "align_items": null,
            "align_self": null,
            "border": null,
            "bottom": null,
            "display": null,
            "flex": null,
            "flex_flow": null,
            "grid_area": null,
            "grid_auto_columns": null,
            "grid_auto_flow": null,
            "grid_auto_rows": null,
            "grid_column": null,
            "grid_gap": null,
            "grid_row": null,
            "grid_template_areas": null,
            "grid_template_columns": null,
            "grid_template_rows": null,
            "height": null,
            "justify_content": null,
            "justify_items": null,
            "left": null,
            "margin": null,
            "max_height": null,
            "max_width": null,
            "min_height": null,
            "min_width": null,
            "object_fit": null,
            "object_position": null,
            "order": null,
            "overflow": null,
            "overflow_x": null,
            "overflow_y": null,
            "padding": null,
            "right": null,
            "top": null,
            "visibility": null,
            "width": null
          }
        },
        "977d77cb996f4b85a95c6e44a98ccf2e": {
          "model_module": "@jupyter-widgets/controls",
          "model_name": "HBoxModel",
          "state": {
            "_dom_classes": [],
            "_model_module": "@jupyter-widgets/controls",
            "_model_module_version": "1.5.0",
            "_model_name": "HBoxModel",
            "_view_count": null,
            "_view_module": "@jupyter-widgets/controls",
            "_view_module_version": "1.5.0",
            "_view_name": "HBoxView",
            "box_style": "",
            "children": [
              "IPY_MODEL_cff0394a89e9489eb6fad3cfd951ed38",
              "IPY_MODEL_8eac01625c43466c95d334e61289bd4c"
            ],
            "layout": "IPY_MODEL_3ddb18aac222460581aa823ff57a1178"
          }
        },
        "3ddb18aac222460581aa823ff57a1178": {
          "model_module": "@jupyter-widgets/base",
          "model_name": "LayoutModel",
          "state": {
            "_model_module": "@jupyter-widgets/base",
            "_model_module_version": "1.2.0",
            "_model_name": "LayoutModel",
            "_view_count": null,
            "_view_module": "@jupyter-widgets/base",
            "_view_module_version": "1.2.0",
            "_view_name": "LayoutView",
            "align_content": null,
            "align_items": null,
            "align_self": null,
            "border": null,
            "bottom": null,
            "display": null,
            "flex": null,
            "flex_flow": null,
            "grid_area": null,
            "grid_auto_columns": null,
            "grid_auto_flow": null,
            "grid_auto_rows": null,
            "grid_column": null,
            "grid_gap": null,
            "grid_row": null,
            "grid_template_areas": null,
            "grid_template_columns": null,
            "grid_template_rows": null,
            "height": null,
            "justify_content": null,
            "justify_items": null,
            "left": null,
            "margin": null,
            "max_height": null,
            "max_width": null,
            "min_height": null,
            "min_width": null,
            "object_fit": null,
            "object_position": null,
            "order": null,
            "overflow": null,
            "overflow_x": null,
            "overflow_y": null,
            "padding": null,
            "right": null,
            "top": null,
            "visibility": null,
            "width": null
          }
        },
        "cff0394a89e9489eb6fad3cfd951ed38": {
          "model_module": "@jupyter-widgets/controls",
          "model_name": "FloatProgressModel",
          "state": {
            "_dom_classes": [],
            "_model_module": "@jupyter-widgets/controls",
            "_model_module_version": "1.5.0",
            "_model_name": "FloatProgressModel",
            "_view_count": null,
            "_view_module": "@jupyter-widgets/controls",
            "_view_module_version": "1.5.0",
            "_view_name": "ProgressView",
            "bar_style": "success",
            "description": "Ranking: 100%",
            "description_tooltip": null,
            "layout": "IPY_MODEL_bb321b0f297a4b22b2f365df3b00f164",
            "max": 9402,
            "min": 0,
            "orientation": "horizontal",
            "style": "IPY_MODEL_d398d8c0b4ae4dbc8f3298eb10c02647",
            "value": 9402
          }
        },
        "8eac01625c43466c95d334e61289bd4c": {
          "model_module": "@jupyter-widgets/controls",
          "model_name": "HTMLModel",
          "state": {
            "_dom_classes": [],
            "_model_module": "@jupyter-widgets/controls",
            "_model_module_version": "1.5.0",
            "_model_name": "HTMLModel",
            "_view_count": null,
            "_view_module": "@jupyter-widgets/controls",
            "_view_module_version": "1.5.0",
            "_view_name": "HTMLView",
            "description": "",
            "description_tooltip": null,
            "layout": "IPY_MODEL_dce433b1ddfc402c85628402fb480be6",
            "placeholder": "​",
            "style": "IPY_MODEL_a68c5b86cb824d54865ff0a8a6791771",
            "value": " 9402/9402 [08:11&lt;00:00, 19.12it/s]"
          }
        },
        "d398d8c0b4ae4dbc8f3298eb10c02647": {
          "model_module": "@jupyter-widgets/controls",
          "model_name": "ProgressStyleModel",
          "state": {
            "_model_module": "@jupyter-widgets/controls",
            "_model_module_version": "1.5.0",
            "_model_name": "ProgressStyleModel",
            "_view_count": null,
            "_view_module": "@jupyter-widgets/base",
            "_view_module_version": "1.2.0",
            "_view_name": "StyleView",
            "bar_color": null,
            "description_width": "initial"
          }
        },
        "bb321b0f297a4b22b2f365df3b00f164": {
          "model_module": "@jupyter-widgets/base",
          "model_name": "LayoutModel",
          "state": {
            "_model_module": "@jupyter-widgets/base",
            "_model_module_version": "1.2.0",
            "_model_name": "LayoutModel",
            "_view_count": null,
            "_view_module": "@jupyter-widgets/base",
            "_view_module_version": "1.2.0",
            "_view_name": "LayoutView",
            "align_content": null,
            "align_items": null,
            "align_self": null,
            "border": null,
            "bottom": null,
            "display": null,
            "flex": null,
            "flex_flow": null,
            "grid_area": null,
            "grid_auto_columns": null,
            "grid_auto_flow": null,
            "grid_auto_rows": null,
            "grid_column": null,
            "grid_gap": null,
            "grid_row": null,
            "grid_template_areas": null,
            "grid_template_columns": null,
            "grid_template_rows": null,
            "height": null,
            "justify_content": null,
            "justify_items": null,
            "left": null,
            "margin": null,
            "max_height": null,
            "max_width": null,
            "min_height": null,
            "min_width": null,
            "object_fit": null,
            "object_position": null,
            "order": null,
            "overflow": null,
            "overflow_x": null,
            "overflow_y": null,
            "padding": null,
            "right": null,
            "top": null,
            "visibility": null,
            "width": null
          }
        },
        "a68c5b86cb824d54865ff0a8a6791771": {
          "model_module": "@jupyter-widgets/controls",
          "model_name": "DescriptionStyleModel",
          "state": {
            "_model_module": "@jupyter-widgets/controls",
            "_model_module_version": "1.5.0",
            "_model_name": "DescriptionStyleModel",
            "_view_count": null,
            "_view_module": "@jupyter-widgets/base",
            "_view_module_version": "1.2.0",
            "_view_name": "StyleView",
            "description_width": ""
          }
        },
        "dce433b1ddfc402c85628402fb480be6": {
          "model_module": "@jupyter-widgets/base",
          "model_name": "LayoutModel",
          "state": {
            "_model_module": "@jupyter-widgets/base",
            "_model_module_version": "1.2.0",
            "_model_name": "LayoutModel",
            "_view_count": null,
            "_view_module": "@jupyter-widgets/base",
            "_view_module_version": "1.2.0",
            "_view_name": "LayoutView",
            "align_content": null,
            "align_items": null,
            "align_self": null,
            "border": null,
            "bottom": null,
            "display": null,
            "flex": null,
            "flex_flow": null,
            "grid_area": null,
            "grid_auto_columns": null,
            "grid_auto_flow": null,
            "grid_auto_rows": null,
            "grid_column": null,
            "grid_gap": null,
            "grid_row": null,
            "grid_template_areas": null,
            "grid_template_columns": null,
            "grid_template_rows": null,
            "height": null,
            "justify_content": null,
            "justify_items": null,
            "left": null,
            "margin": null,
            "max_height": null,
            "max_width": null,
            "min_height": null,
            "min_width": null,
            "object_fit": null,
            "object_position": null,
            "order": null,
            "overflow": null,
            "overflow_x": null,
            "overflow_y": null,
            "padding": null,
            "right": null,
            "top": null,
            "visibility": null,
            "width": null
          }
        },
        "11a929ad1868454fb75872f365927722": {
          "model_module": "@jupyter-widgets/controls",
          "model_name": "HBoxModel",
          "state": {
            "_dom_classes": [],
            "_model_module": "@jupyter-widgets/controls",
            "_model_module_version": "1.5.0",
            "_model_name": "HBoxModel",
            "_view_count": null,
            "_view_module": "@jupyter-widgets/controls",
            "_view_module_version": "1.5.0",
            "_view_name": "HBoxView",
            "box_style": "",
            "children": [
              "IPY_MODEL_472fa6789aef4c79a8685eab72270243",
              "IPY_MODEL_bf398a3d07b04b7587957077c09f900e"
            ],
            "layout": "IPY_MODEL_9098a05e2a534fac82b35c4886c3133f"
          }
        },
        "9098a05e2a534fac82b35c4886c3133f": {
          "model_module": "@jupyter-widgets/base",
          "model_name": "LayoutModel",
          "state": {
            "_model_module": "@jupyter-widgets/base",
            "_model_module_version": "1.2.0",
            "_model_name": "LayoutModel",
            "_view_count": null,
            "_view_module": "@jupyter-widgets/base",
            "_view_module_version": "1.2.0",
            "_view_name": "LayoutView",
            "align_content": null,
            "align_items": null,
            "align_self": null,
            "border": null,
            "bottom": null,
            "display": null,
            "flex": null,
            "flex_flow": null,
            "grid_area": null,
            "grid_auto_columns": null,
            "grid_auto_flow": null,
            "grid_auto_rows": null,
            "grid_column": null,
            "grid_gap": null,
            "grid_row": null,
            "grid_template_areas": null,
            "grid_template_columns": null,
            "grid_template_rows": null,
            "height": null,
            "justify_content": null,
            "justify_items": null,
            "left": null,
            "margin": null,
            "max_height": null,
            "max_width": null,
            "min_height": null,
            "min_width": null,
            "object_fit": null,
            "object_position": null,
            "order": null,
            "overflow": null,
            "overflow_x": null,
            "overflow_y": null,
            "padding": null,
            "right": null,
            "top": null,
            "visibility": null,
            "width": null
          }
        },
        "472fa6789aef4c79a8685eab72270243": {
          "model_module": "@jupyter-widgets/controls",
          "model_name": "FloatProgressModel",
          "state": {
            "_dom_classes": [],
            "_model_module": "@jupyter-widgets/controls",
            "_model_module_version": "1.5.0",
            "_model_name": "FloatProgressModel",
            "_view_count": null,
            "_view_module": "@jupyter-widgets/controls",
            "_view_module_version": "1.5.0",
            "_view_name": "ProgressView",
            "bar_style": "success",
            "description": "Ranking: 100%",
            "description_tooltip": null,
            "layout": "IPY_MODEL_b5f7f012e7984dcca1ece830b4f99395",
            "max": 9402,
            "min": 0,
            "orientation": "horizontal",
            "style": "IPY_MODEL_e6d3c9fdb9d84568b87db1ed0a06c3cb",
            "value": 9402
          }
        },
        "bf398a3d07b04b7587957077c09f900e": {
          "model_module": "@jupyter-widgets/controls",
          "model_name": "HTMLModel",
          "state": {
            "_dom_classes": [],
            "_model_module": "@jupyter-widgets/controls",
            "_model_module_version": "1.5.0",
            "_model_name": "HTMLModel",
            "_view_count": null,
            "_view_module": "@jupyter-widgets/controls",
            "_view_module_version": "1.5.0",
            "_view_name": "HTMLView",
            "description": "",
            "description_tooltip": null,
            "layout": "IPY_MODEL_2164a77975894351835c5dad10d5da92",
            "placeholder": "​",
            "style": "IPY_MODEL_585bbeb2c6984e4c96aa4415a5e2522d",
            "value": " 9402/9402 [08:09&lt;00:00, 19.19it/s]"
          }
        },
        "e6d3c9fdb9d84568b87db1ed0a06c3cb": {
          "model_module": "@jupyter-widgets/controls",
          "model_name": "ProgressStyleModel",
          "state": {
            "_model_module": "@jupyter-widgets/controls",
            "_model_module_version": "1.5.0",
            "_model_name": "ProgressStyleModel",
            "_view_count": null,
            "_view_module": "@jupyter-widgets/base",
            "_view_module_version": "1.2.0",
            "_view_name": "StyleView",
            "bar_color": null,
            "description_width": "initial"
          }
        },
        "b5f7f012e7984dcca1ece830b4f99395": {
          "model_module": "@jupyter-widgets/base",
          "model_name": "LayoutModel",
          "state": {
            "_model_module": "@jupyter-widgets/base",
            "_model_module_version": "1.2.0",
            "_model_name": "LayoutModel",
            "_view_count": null,
            "_view_module": "@jupyter-widgets/base",
            "_view_module_version": "1.2.0",
            "_view_name": "LayoutView",
            "align_content": null,
            "align_items": null,
            "align_self": null,
            "border": null,
            "bottom": null,
            "display": null,
            "flex": null,
            "flex_flow": null,
            "grid_area": null,
            "grid_auto_columns": null,
            "grid_auto_flow": null,
            "grid_auto_rows": null,
            "grid_column": null,
            "grid_gap": null,
            "grid_row": null,
            "grid_template_areas": null,
            "grid_template_columns": null,
            "grid_template_rows": null,
            "height": null,
            "justify_content": null,
            "justify_items": null,
            "left": null,
            "margin": null,
            "max_height": null,
            "max_width": null,
            "min_height": null,
            "min_width": null,
            "object_fit": null,
            "object_position": null,
            "order": null,
            "overflow": null,
            "overflow_x": null,
            "overflow_y": null,
            "padding": null,
            "right": null,
            "top": null,
            "visibility": null,
            "width": null
          }
        },
        "585bbeb2c6984e4c96aa4415a5e2522d": {
          "model_module": "@jupyter-widgets/controls",
          "model_name": "DescriptionStyleModel",
          "state": {
            "_model_module": "@jupyter-widgets/controls",
            "_model_module_version": "1.5.0",
            "_model_name": "DescriptionStyleModel",
            "_view_count": null,
            "_view_module": "@jupyter-widgets/base",
            "_view_module_version": "1.2.0",
            "_view_name": "StyleView",
            "description_width": ""
          }
        },
        "2164a77975894351835c5dad10d5da92": {
          "model_module": "@jupyter-widgets/base",
          "model_name": "LayoutModel",
          "state": {
            "_model_module": "@jupyter-widgets/base",
            "_model_module_version": "1.2.0",
            "_model_name": "LayoutModel",
            "_view_count": null,
            "_view_module": "@jupyter-widgets/base",
            "_view_module_version": "1.2.0",
            "_view_name": "LayoutView",
            "align_content": null,
            "align_items": null,
            "align_self": null,
            "border": null,
            "bottom": null,
            "display": null,
            "flex": null,
            "flex_flow": null,
            "grid_area": null,
            "grid_auto_columns": null,
            "grid_auto_flow": null,
            "grid_auto_rows": null,
            "grid_column": null,
            "grid_gap": null,
            "grid_row": null,
            "grid_template_areas": null,
            "grid_template_columns": null,
            "grid_template_rows": null,
            "height": null,
            "justify_content": null,
            "justify_items": null,
            "left": null,
            "margin": null,
            "max_height": null,
            "max_width": null,
            "min_height": null,
            "min_width": null,
            "object_fit": null,
            "object_position": null,
            "order": null,
            "overflow": null,
            "overflow_x": null,
            "overflow_y": null,
            "padding": null,
            "right": null,
            "top": null,
            "visibility": null,
            "width": null
          }
        },
        "7af121b3bd0b4ce6ba14dd59588eda5a": {
          "model_module": "@jupyter-widgets/controls",
          "model_name": "HBoxModel",
          "state": {
            "_view_name": "HBoxView",
            "_dom_classes": [],
            "_model_name": "HBoxModel",
            "_view_module": "@jupyter-widgets/controls",
            "_model_module_version": "1.5.0",
            "_view_count": null,
            "_view_module_version": "1.5.0",
            "box_style": "",
            "layout": "IPY_MODEL_afc601136c44410fb9741b37e73fbddb",
            "_model_module": "@jupyter-widgets/controls",
            "children": [
              "IPY_MODEL_c905c20c97794fa8925dc7a025041eef",
              "IPY_MODEL_5fbc81d697334876a7fe2ff9b4888815"
            ]
          }
        },
        "afc601136c44410fb9741b37e73fbddb": {
          "model_module": "@jupyter-widgets/base",
          "model_name": "LayoutModel",
          "state": {
            "_view_name": "LayoutView",
            "grid_template_rows": null,
            "right": null,
            "justify_content": null,
            "_view_module": "@jupyter-widgets/base",
            "overflow": null,
            "_model_module_version": "1.2.0",
            "_view_count": null,
            "flex_flow": null,
            "width": null,
            "min_width": null,
            "border": null,
            "align_items": null,
            "bottom": null,
            "_model_module": "@jupyter-widgets/base",
            "top": null,
            "grid_column": null,
            "overflow_y": null,
            "overflow_x": null,
            "grid_auto_flow": null,
            "grid_area": null,
            "grid_template_columns": null,
            "flex": null,
            "_model_name": "LayoutModel",
            "justify_items": null,
            "grid_row": null,
            "max_height": null,
            "align_content": null,
            "visibility": null,
            "align_self": null,
            "height": null,
            "min_height": null,
            "padding": null,
            "grid_auto_rows": null,
            "grid_gap": null,
            "max_width": null,
            "order": null,
            "_view_module_version": "1.2.0",
            "grid_template_areas": null,
            "object_position": null,
            "object_fit": null,
            "grid_auto_columns": null,
            "margin": null,
            "display": null,
            "left": null
          }
        },
        "c905c20c97794fa8925dc7a025041eef": {
          "model_module": "@jupyter-widgets/controls",
          "model_name": "FloatProgressModel",
          "state": {
            "_view_name": "ProgressView",
            "style": "IPY_MODEL_96f60e8f293b493784870e04261d59f6",
            "_dom_classes": [],
            "description": "Ranking: 100%",
            "_model_name": "FloatProgressModel",
            "bar_style": "success",
            "max": 9402,
            "_view_module": "@jupyter-widgets/controls",
            "_model_module_version": "1.5.0",
            "value": 9402,
            "_view_count": null,
            "_view_module_version": "1.5.0",
            "orientation": "horizontal",
            "min": 0,
            "description_tooltip": null,
            "_model_module": "@jupyter-widgets/controls",
            "layout": "IPY_MODEL_8d8b1b0caa994860a1c6f7307b0ecbef"
          }
        },
        "5fbc81d697334876a7fe2ff9b4888815": {
          "model_module": "@jupyter-widgets/controls",
          "model_name": "HTMLModel",
          "state": {
            "_view_name": "HTMLView",
            "style": "IPY_MODEL_fd3d3318a1be4a37b56c5b864d2e7b4b",
            "_dom_classes": [],
            "description": "",
            "_model_name": "HTMLModel",
            "placeholder": "​",
            "_view_module": "@jupyter-widgets/controls",
            "_model_module_version": "1.5.0",
            "value": " 9402/9402 [24:22&lt;00:00,  6.43it/s]",
            "_view_count": null,
            "_view_module_version": "1.5.0",
            "description_tooltip": null,
            "_model_module": "@jupyter-widgets/controls",
            "layout": "IPY_MODEL_dd3bbb323ad847ad96d74a6cdd04cdc0"
          }
        },
        "96f60e8f293b493784870e04261d59f6": {
          "model_module": "@jupyter-widgets/controls",
          "model_name": "ProgressStyleModel",
          "state": {
            "_view_name": "StyleView",
            "_model_name": "ProgressStyleModel",
            "description_width": "initial",
            "_view_module": "@jupyter-widgets/base",
            "_model_module_version": "1.5.0",
            "_view_count": null,
            "_view_module_version": "1.2.0",
            "bar_color": null,
            "_model_module": "@jupyter-widgets/controls"
          }
        },
        "8d8b1b0caa994860a1c6f7307b0ecbef": {
          "model_module": "@jupyter-widgets/base",
          "model_name": "LayoutModel",
          "state": {
            "_view_name": "LayoutView",
            "grid_template_rows": null,
            "right": null,
            "justify_content": null,
            "_view_module": "@jupyter-widgets/base",
            "overflow": null,
            "_model_module_version": "1.2.0",
            "_view_count": null,
            "flex_flow": null,
            "width": null,
            "min_width": null,
            "border": null,
            "align_items": null,
            "bottom": null,
            "_model_module": "@jupyter-widgets/base",
            "top": null,
            "grid_column": null,
            "overflow_y": null,
            "overflow_x": null,
            "grid_auto_flow": null,
            "grid_area": null,
            "grid_template_columns": null,
            "flex": null,
            "_model_name": "LayoutModel",
            "justify_items": null,
            "grid_row": null,
            "max_height": null,
            "align_content": null,
            "visibility": null,
            "align_self": null,
            "height": null,
            "min_height": null,
            "padding": null,
            "grid_auto_rows": null,
            "grid_gap": null,
            "max_width": null,
            "order": null,
            "_view_module_version": "1.2.0",
            "grid_template_areas": null,
            "object_position": null,
            "object_fit": null,
            "grid_auto_columns": null,
            "margin": null,
            "display": null,
            "left": null
          }
        },
        "fd3d3318a1be4a37b56c5b864d2e7b4b": {
          "model_module": "@jupyter-widgets/controls",
          "model_name": "DescriptionStyleModel",
          "state": {
            "_view_name": "StyleView",
            "_model_name": "DescriptionStyleModel",
            "description_width": "",
            "_view_module": "@jupyter-widgets/base",
            "_model_module_version": "1.5.0",
            "_view_count": null,
            "_view_module_version": "1.2.0",
            "_model_module": "@jupyter-widgets/controls"
          }
        },
        "dd3bbb323ad847ad96d74a6cdd04cdc0": {
          "model_module": "@jupyter-widgets/base",
          "model_name": "LayoutModel",
          "state": {
            "_view_name": "LayoutView",
            "grid_template_rows": null,
            "right": null,
            "justify_content": null,
            "_view_module": "@jupyter-widgets/base",
            "overflow": null,
            "_model_module_version": "1.2.0",
            "_view_count": null,
            "flex_flow": null,
            "width": null,
            "min_width": null,
            "border": null,
            "align_items": null,
            "bottom": null,
            "_model_module": "@jupyter-widgets/base",
            "top": null,
            "grid_column": null,
            "overflow_y": null,
            "overflow_x": null,
            "grid_auto_flow": null,
            "grid_area": null,
            "grid_template_columns": null,
            "flex": null,
            "_model_name": "LayoutModel",
            "justify_items": null,
            "grid_row": null,
            "max_height": null,
            "align_content": null,
            "visibility": null,
            "align_self": null,
            "height": null,
            "min_height": null,
            "padding": null,
            "grid_auto_rows": null,
            "grid_gap": null,
            "max_width": null,
            "order": null,
            "_view_module_version": "1.2.0",
            "grid_template_areas": null,
            "object_position": null,
            "object_fit": null,
            "grid_auto_columns": null,
            "margin": null,
            "display": null,
            "left": null
          }
        },
        "0b815fbd7fa4474d9b182428290bd8b1": {
          "model_module": "@jupyter-widgets/controls",
          "model_name": "HBoxModel",
          "state": {
            "_dom_classes": [],
            "_model_module": "@jupyter-widgets/controls",
            "_model_module_version": "1.5.0",
            "_model_name": "HBoxModel",
            "_view_count": null,
            "_view_module": "@jupyter-widgets/controls",
            "_view_module_version": "1.5.0",
            "_view_name": "HBoxView",
            "box_style": "",
            "children": [
              "IPY_MODEL_5a329e3dba6c4a1aa9e269c389676256",
              "IPY_MODEL_78f0edeabf0c4718a00cebe60c7338f7"
            ],
            "layout": "IPY_MODEL_6dcf553090604a1a873af97c3d458e39"
          }
        },
        "6dcf553090604a1a873af97c3d458e39": {
          "model_module": "@jupyter-widgets/base",
          "model_name": "LayoutModel",
          "state": {
            "_model_module": "@jupyter-widgets/base",
            "_model_module_version": "1.2.0",
            "_model_name": "LayoutModel",
            "_view_count": null,
            "_view_module": "@jupyter-widgets/base",
            "_view_module_version": "1.2.0",
            "_view_name": "LayoutView",
            "align_content": null,
            "align_items": null,
            "align_self": null,
            "border": null,
            "bottom": null,
            "display": null,
            "flex": null,
            "flex_flow": null,
            "grid_area": null,
            "grid_auto_columns": null,
            "grid_auto_flow": null,
            "grid_auto_rows": null,
            "grid_column": null,
            "grid_gap": null,
            "grid_row": null,
            "grid_template_areas": null,
            "grid_template_columns": null,
            "grid_template_rows": null,
            "height": null,
            "justify_content": null,
            "justify_items": null,
            "left": null,
            "margin": null,
            "max_height": null,
            "max_width": null,
            "min_height": null,
            "min_width": null,
            "object_fit": null,
            "object_position": null,
            "order": null,
            "overflow": null,
            "overflow_x": null,
            "overflow_y": null,
            "padding": null,
            "right": null,
            "top": null,
            "visibility": null,
            "width": null
          }
        },
        "5a329e3dba6c4a1aa9e269c389676256": {
          "model_module": "@jupyter-widgets/controls",
          "model_name": "FloatProgressModel",
          "state": {
            "_dom_classes": [],
            "_model_module": "@jupyter-widgets/controls",
            "_model_module_version": "1.5.0",
            "_model_name": "FloatProgressModel",
            "_view_count": null,
            "_view_module": "@jupyter-widgets/controls",
            "_view_module_version": "1.5.0",
            "_view_name": "ProgressView",
            "bar_style": "success",
            "description": "Ranking: 100%",
            "description_tooltip": null,
            "layout": "IPY_MODEL_dfb9b7a8f77d468d9cbecd093a086dd0",
            "max": 9402,
            "min": 0,
            "orientation": "horizontal",
            "style": "IPY_MODEL_9e7457cfb31849a592c11d21936f3432",
            "value": 9402
          }
        },
        "78f0edeabf0c4718a00cebe60c7338f7": {
          "model_module": "@jupyter-widgets/controls",
          "model_name": "HTMLModel",
          "state": {
            "_dom_classes": [],
            "_model_module": "@jupyter-widgets/controls",
            "_model_module_version": "1.5.0",
            "_model_name": "HTMLModel",
            "_view_count": null,
            "_view_module": "@jupyter-widgets/controls",
            "_view_module_version": "1.5.0",
            "_view_name": "HTMLView",
            "description": "",
            "description_tooltip": null,
            "layout": "IPY_MODEL_c828022af4ab47d9b4bac56b99b14894",
            "placeholder": "​",
            "style": "IPY_MODEL_f6ed7def4535479f8db5c200aab3d653",
            "value": " 9402/9402 [00:22&lt;00:00, 419.05it/s]"
          }
        },
        "9e7457cfb31849a592c11d21936f3432": {
          "model_module": "@jupyter-widgets/controls",
          "model_name": "ProgressStyleModel",
          "state": {
            "_model_module": "@jupyter-widgets/controls",
            "_model_module_version": "1.5.0",
            "_model_name": "ProgressStyleModel",
            "_view_count": null,
            "_view_module": "@jupyter-widgets/base",
            "_view_module_version": "1.2.0",
            "_view_name": "StyleView",
            "bar_color": null,
            "description_width": "initial"
          }
        },
        "dfb9b7a8f77d468d9cbecd093a086dd0": {
          "model_module": "@jupyter-widgets/base",
          "model_name": "LayoutModel",
          "state": {
            "_model_module": "@jupyter-widgets/base",
            "_model_module_version": "1.2.0",
            "_model_name": "LayoutModel",
            "_view_count": null,
            "_view_module": "@jupyter-widgets/base",
            "_view_module_version": "1.2.0",
            "_view_name": "LayoutView",
            "align_content": null,
            "align_items": null,
            "align_self": null,
            "border": null,
            "bottom": null,
            "display": null,
            "flex": null,
            "flex_flow": null,
            "grid_area": null,
            "grid_auto_columns": null,
            "grid_auto_flow": null,
            "grid_auto_rows": null,
            "grid_column": null,
            "grid_gap": null,
            "grid_row": null,
            "grid_template_areas": null,
            "grid_template_columns": null,
            "grid_template_rows": null,
            "height": null,
            "justify_content": null,
            "justify_items": null,
            "left": null,
            "margin": null,
            "max_height": null,
            "max_width": null,
            "min_height": null,
            "min_width": null,
            "object_fit": null,
            "object_position": null,
            "order": null,
            "overflow": null,
            "overflow_x": null,
            "overflow_y": null,
            "padding": null,
            "right": null,
            "top": null,
            "visibility": null,
            "width": null
          }
        },
        "f6ed7def4535479f8db5c200aab3d653": {
          "model_module": "@jupyter-widgets/controls",
          "model_name": "DescriptionStyleModel",
          "state": {
            "_model_module": "@jupyter-widgets/controls",
            "_model_module_version": "1.5.0",
            "_model_name": "DescriptionStyleModel",
            "_view_count": null,
            "_view_module": "@jupyter-widgets/base",
            "_view_module_version": "1.2.0",
            "_view_name": "StyleView",
            "description_width": ""
          }
        },
        "c828022af4ab47d9b4bac56b99b14894": {
          "model_module": "@jupyter-widgets/base",
          "model_name": "LayoutModel",
          "state": {
            "_model_module": "@jupyter-widgets/base",
            "_model_module_version": "1.2.0",
            "_model_name": "LayoutModel",
            "_view_count": null,
            "_view_module": "@jupyter-widgets/base",
            "_view_module_version": "1.2.0",
            "_view_name": "LayoutView",
            "align_content": null,
            "align_items": null,
            "align_self": null,
            "border": null,
            "bottom": null,
            "display": null,
            "flex": null,
            "flex_flow": null,
            "grid_area": null,
            "grid_auto_columns": null,
            "grid_auto_flow": null,
            "grid_auto_rows": null,
            "grid_column": null,
            "grid_gap": null,
            "grid_row": null,
            "grid_template_areas": null,
            "grid_template_columns": null,
            "grid_template_rows": null,
            "height": null,
            "justify_content": null,
            "justify_items": null,
            "left": null,
            "margin": null,
            "max_height": null,
            "max_width": null,
            "min_height": null,
            "min_width": null,
            "object_fit": null,
            "object_position": null,
            "order": null,
            "overflow": null,
            "overflow_x": null,
            "overflow_y": null,
            "padding": null,
            "right": null,
            "top": null,
            "visibility": null,
            "width": null
          }
        },
        "e94919ea06da46d19d1694ca4f3bc0b1": {
          "model_module": "@jupyter-widgets/controls",
          "model_name": "HBoxModel",
          "state": {
            "_dom_classes": [],
            "_model_module": "@jupyter-widgets/controls",
            "_model_module_version": "1.5.0",
            "_model_name": "HBoxModel",
            "_view_count": null,
            "_view_module": "@jupyter-widgets/controls",
            "_view_module_version": "1.5.0",
            "_view_name": "HBoxView",
            "box_style": "",
            "children": [
              "IPY_MODEL_be0356b4518c452fae72d7b3ca95dc93",
              "IPY_MODEL_3a932b4e991a4f2988a65c80760a44bb"
            ],
            "layout": "IPY_MODEL_4eef0319b27447a4bb8b28515f7586cb"
          }
        },
        "4eef0319b27447a4bb8b28515f7586cb": {
          "model_module": "@jupyter-widgets/base",
          "model_name": "LayoutModel",
          "state": {
            "_model_module": "@jupyter-widgets/base",
            "_model_module_version": "1.2.0",
            "_model_name": "LayoutModel",
            "_view_count": null,
            "_view_module": "@jupyter-widgets/base",
            "_view_module_version": "1.2.0",
            "_view_name": "LayoutView",
            "align_content": null,
            "align_items": null,
            "align_self": null,
            "border": null,
            "bottom": null,
            "display": null,
            "flex": null,
            "flex_flow": null,
            "grid_area": null,
            "grid_auto_columns": null,
            "grid_auto_flow": null,
            "grid_auto_rows": null,
            "grid_column": null,
            "grid_gap": null,
            "grid_row": null,
            "grid_template_areas": null,
            "grid_template_columns": null,
            "grid_template_rows": null,
            "height": null,
            "justify_content": null,
            "justify_items": null,
            "left": null,
            "margin": null,
            "max_height": null,
            "max_width": null,
            "min_height": null,
            "min_width": null,
            "object_fit": null,
            "object_position": null,
            "order": null,
            "overflow": null,
            "overflow_x": null,
            "overflow_y": null,
            "padding": null,
            "right": null,
            "top": null,
            "visibility": null,
            "width": null
          }
        },
        "be0356b4518c452fae72d7b3ca95dc93": {
          "model_module": "@jupyter-widgets/controls",
          "model_name": "FloatProgressModel",
          "state": {
            "_dom_classes": [],
            "_model_module": "@jupyter-widgets/controls",
            "_model_module_version": "1.5.0",
            "_model_name": "FloatProgressModel",
            "_view_count": null,
            "_view_module": "@jupyter-widgets/controls",
            "_view_module_version": "1.5.0",
            "_view_name": "ProgressView",
            "bar_style": "success",
            "description": "Ranking: 100%",
            "description_tooltip": null,
            "layout": "IPY_MODEL_65cf7dcd17814581bb14461738ba0d05",
            "max": 9402,
            "min": 0,
            "orientation": "horizontal",
            "style": "IPY_MODEL_f10f0d9e9b9948f2bb7aaaf5a77d1c61",
            "value": 9402
          }
        },
        "3a932b4e991a4f2988a65c80760a44bb": {
          "model_module": "@jupyter-widgets/controls",
          "model_name": "HTMLModel",
          "state": {
            "_dom_classes": [],
            "_model_module": "@jupyter-widgets/controls",
            "_model_module_version": "1.5.0",
            "_model_name": "HTMLModel",
            "_view_count": null,
            "_view_module": "@jupyter-widgets/controls",
            "_view_module_version": "1.5.0",
            "_view_name": "HTMLView",
            "description": "",
            "description_tooltip": null,
            "layout": "IPY_MODEL_f007747d43a147a7a4bcb9c8c4c28c4c",
            "placeholder": "​",
            "style": "IPY_MODEL_6627686708294cc586af773f8f482311",
            "value": " 9402/9402 [05:12&lt;00:00, 30.08it/s]"
          }
        },
        "f10f0d9e9b9948f2bb7aaaf5a77d1c61": {
          "model_module": "@jupyter-widgets/controls",
          "model_name": "ProgressStyleModel",
          "state": {
            "_model_module": "@jupyter-widgets/controls",
            "_model_module_version": "1.5.0",
            "_model_name": "ProgressStyleModel",
            "_view_count": null,
            "_view_module": "@jupyter-widgets/base",
            "_view_module_version": "1.2.0",
            "_view_name": "StyleView",
            "bar_color": null,
            "description_width": "initial"
          }
        },
        "65cf7dcd17814581bb14461738ba0d05": {
          "model_module": "@jupyter-widgets/base",
          "model_name": "LayoutModel",
          "state": {
            "_model_module": "@jupyter-widgets/base",
            "_model_module_version": "1.2.0",
            "_model_name": "LayoutModel",
            "_view_count": null,
            "_view_module": "@jupyter-widgets/base",
            "_view_module_version": "1.2.0",
            "_view_name": "LayoutView",
            "align_content": null,
            "align_items": null,
            "align_self": null,
            "border": null,
            "bottom": null,
            "display": null,
            "flex": null,
            "flex_flow": null,
            "grid_area": null,
            "grid_auto_columns": null,
            "grid_auto_flow": null,
            "grid_auto_rows": null,
            "grid_column": null,
            "grid_gap": null,
            "grid_row": null,
            "grid_template_areas": null,
            "grid_template_columns": null,
            "grid_template_rows": null,
            "height": null,
            "justify_content": null,
            "justify_items": null,
            "left": null,
            "margin": null,
            "max_height": null,
            "max_width": null,
            "min_height": null,
            "min_width": null,
            "object_fit": null,
            "object_position": null,
            "order": null,
            "overflow": null,
            "overflow_x": null,
            "overflow_y": null,
            "padding": null,
            "right": null,
            "top": null,
            "visibility": null,
            "width": null
          }
        },
        "6627686708294cc586af773f8f482311": {
          "model_module": "@jupyter-widgets/controls",
          "model_name": "DescriptionStyleModel",
          "state": {
            "_model_module": "@jupyter-widgets/controls",
            "_model_module_version": "1.5.0",
            "_model_name": "DescriptionStyleModel",
            "_view_count": null,
            "_view_module": "@jupyter-widgets/base",
            "_view_module_version": "1.2.0",
            "_view_name": "StyleView",
            "description_width": ""
          }
        },
        "f007747d43a147a7a4bcb9c8c4c28c4c": {
          "model_module": "@jupyter-widgets/base",
          "model_name": "LayoutModel",
          "state": {
            "_model_module": "@jupyter-widgets/base",
            "_model_module_version": "1.2.0",
            "_model_name": "LayoutModel",
            "_view_count": null,
            "_view_module": "@jupyter-widgets/base",
            "_view_module_version": "1.2.0",
            "_view_name": "LayoutView",
            "align_content": null,
            "align_items": null,
            "align_self": null,
            "border": null,
            "bottom": null,
            "display": null,
            "flex": null,
            "flex_flow": null,
            "grid_area": null,
            "grid_auto_columns": null,
            "grid_auto_flow": null,
            "grid_auto_rows": null,
            "grid_column": null,
            "grid_gap": null,
            "grid_row": null,
            "grid_template_areas": null,
            "grid_template_columns": null,
            "grid_template_rows": null,
            "height": null,
            "justify_content": null,
            "justify_items": null,
            "left": null,
            "margin": null,
            "max_height": null,
            "max_width": null,
            "min_height": null,
            "min_width": null,
            "object_fit": null,
            "object_position": null,
            "order": null,
            "overflow": null,
            "overflow_x": null,
            "overflow_y": null,
            "padding": null,
            "right": null,
            "top": null,
            "visibility": null,
            "width": null
          }
        },
        "ef2c141b5c5b4174bdf04abf8f298ed1": {
          "model_module": "@jupyter-widgets/controls",
          "model_name": "HBoxModel",
          "state": {
            "_dom_classes": [],
            "_model_module": "@jupyter-widgets/controls",
            "_model_module_version": "1.5.0",
            "_model_name": "HBoxModel",
            "_view_count": null,
            "_view_module": "@jupyter-widgets/controls",
            "_view_module_version": "1.5.0",
            "_view_name": "HBoxView",
            "box_style": "",
            "children": [
              "IPY_MODEL_9b7d40397268443dbd9d497c969d10a6",
              "IPY_MODEL_a559685c8e974771b1498c90b37c76e6"
            ],
            "layout": "IPY_MODEL_90821ec348c54039b8835eb278762472"
          }
        },
        "90821ec348c54039b8835eb278762472": {
          "model_module": "@jupyter-widgets/base",
          "model_name": "LayoutModel",
          "state": {
            "_model_module": "@jupyter-widgets/base",
            "_model_module_version": "1.2.0",
            "_model_name": "LayoutModel",
            "_view_count": null,
            "_view_module": "@jupyter-widgets/base",
            "_view_module_version": "1.2.0",
            "_view_name": "LayoutView",
            "align_content": null,
            "align_items": null,
            "align_self": null,
            "border": null,
            "bottom": null,
            "display": null,
            "flex": null,
            "flex_flow": null,
            "grid_area": null,
            "grid_auto_columns": null,
            "grid_auto_flow": null,
            "grid_auto_rows": null,
            "grid_column": null,
            "grid_gap": null,
            "grid_row": null,
            "grid_template_areas": null,
            "grid_template_columns": null,
            "grid_template_rows": null,
            "height": null,
            "justify_content": null,
            "justify_items": null,
            "left": null,
            "margin": null,
            "max_height": null,
            "max_width": null,
            "min_height": null,
            "min_width": null,
            "object_fit": null,
            "object_position": null,
            "order": null,
            "overflow": null,
            "overflow_x": null,
            "overflow_y": null,
            "padding": null,
            "right": null,
            "top": null,
            "visibility": null,
            "width": null
          }
        },
        "9b7d40397268443dbd9d497c969d10a6": {
          "model_module": "@jupyter-widgets/controls",
          "model_name": "FloatProgressModel",
          "state": {
            "_dom_classes": [],
            "_model_module": "@jupyter-widgets/controls",
            "_model_module_version": "1.5.0",
            "_model_name": "FloatProgressModel",
            "_view_count": null,
            "_view_module": "@jupyter-widgets/controls",
            "_view_module_version": "1.5.0",
            "_view_name": "ProgressView",
            "bar_style": "success",
            "description": "100%",
            "description_tooltip": null,
            "layout": "IPY_MODEL_8afdbea2bc584180bb47adfc2317acbf",
            "max": 20,
            "min": 0,
            "orientation": "horizontal",
            "style": "IPY_MODEL_87c34400b9f24270b5bfe04a7792a5a7",
            "value": 20
          }
        },
        "a559685c8e974771b1498c90b37c76e6": {
          "model_module": "@jupyter-widgets/controls",
          "model_name": "HTMLModel",
          "state": {
            "_dom_classes": [],
            "_model_module": "@jupyter-widgets/controls",
            "_model_module_version": "1.5.0",
            "_model_name": "HTMLModel",
            "_view_count": null,
            "_view_module": "@jupyter-widgets/controls",
            "_view_module_version": "1.5.0",
            "_view_name": "HTMLView",
            "description": "",
            "description_tooltip": null,
            "layout": "IPY_MODEL_4105cbb6dbfe4be5abebb20f9d90f6b7",
            "placeholder": "​",
            "style": "IPY_MODEL_0d811964d66d4c24bf4b38e1ea99b948",
            "value": " 20/20 [05:58&lt;00:00, 17.93s/it, loss=0.0371]"
          }
        },
        "87c34400b9f24270b5bfe04a7792a5a7": {
          "model_module": "@jupyter-widgets/controls",
          "model_name": "ProgressStyleModel",
          "state": {
            "_model_module": "@jupyter-widgets/controls",
            "_model_module_version": "1.5.0",
            "_model_name": "ProgressStyleModel",
            "_view_count": null,
            "_view_module": "@jupyter-widgets/base",
            "_view_module_version": "1.2.0",
            "_view_name": "StyleView",
            "bar_color": null,
            "description_width": "initial"
          }
        },
        "8afdbea2bc584180bb47adfc2317acbf": {
          "model_module": "@jupyter-widgets/base",
          "model_name": "LayoutModel",
          "state": {
            "_model_module": "@jupyter-widgets/base",
            "_model_module_version": "1.2.0",
            "_model_name": "LayoutModel",
            "_view_count": null,
            "_view_module": "@jupyter-widgets/base",
            "_view_module_version": "1.2.0",
            "_view_name": "LayoutView",
            "align_content": null,
            "align_items": null,
            "align_self": null,
            "border": null,
            "bottom": null,
            "display": null,
            "flex": null,
            "flex_flow": null,
            "grid_area": null,
            "grid_auto_columns": null,
            "grid_auto_flow": null,
            "grid_auto_rows": null,
            "grid_column": null,
            "grid_gap": null,
            "grid_row": null,
            "grid_template_areas": null,
            "grid_template_columns": null,
            "grid_template_rows": null,
            "height": null,
            "justify_content": null,
            "justify_items": null,
            "left": null,
            "margin": null,
            "max_height": null,
            "max_width": null,
            "min_height": null,
            "min_width": null,
            "object_fit": null,
            "object_position": null,
            "order": null,
            "overflow": null,
            "overflow_x": null,
            "overflow_y": null,
            "padding": null,
            "right": null,
            "top": null,
            "visibility": null,
            "width": null
          }
        },
        "0d811964d66d4c24bf4b38e1ea99b948": {
          "model_module": "@jupyter-widgets/controls",
          "model_name": "DescriptionStyleModel",
          "state": {
            "_model_module": "@jupyter-widgets/controls",
            "_model_module_version": "1.5.0",
            "_model_name": "DescriptionStyleModel",
            "_view_count": null,
            "_view_module": "@jupyter-widgets/base",
            "_view_module_version": "1.2.0",
            "_view_name": "StyleView",
            "description_width": ""
          }
        },
        "4105cbb6dbfe4be5abebb20f9d90f6b7": {
          "model_module": "@jupyter-widgets/base",
          "model_name": "LayoutModel",
          "state": {
            "_model_module": "@jupyter-widgets/base",
            "_model_module_version": "1.2.0",
            "_model_name": "LayoutModel",
            "_view_count": null,
            "_view_module": "@jupyter-widgets/base",
            "_view_module_version": "1.2.0",
            "_view_name": "LayoutView",
            "align_content": null,
            "align_items": null,
            "align_self": null,
            "border": null,
            "bottom": null,
            "display": null,
            "flex": null,
            "flex_flow": null,
            "grid_area": null,
            "grid_auto_columns": null,
            "grid_auto_flow": null,
            "grid_auto_rows": null,
            "grid_column": null,
            "grid_gap": null,
            "grid_row": null,
            "grid_template_areas": null,
            "grid_template_columns": null,
            "grid_template_rows": null,
            "height": null,
            "justify_content": null,
            "justify_items": null,
            "left": null,
            "margin": null,
            "max_height": null,
            "max_width": null,
            "min_height": null,
            "min_width": null,
            "object_fit": null,
            "object_position": null,
            "order": null,
            "overflow": null,
            "overflow_x": null,
            "overflow_y": null,
            "padding": null,
            "right": null,
            "top": null,
            "visibility": null,
            "width": null
          }
        },
        "94d1b69390524a70ada7389690951112": {
          "model_module": "@jupyter-widgets/controls",
          "model_name": "HBoxModel",
          "state": {
            "_dom_classes": [],
            "_model_module": "@jupyter-widgets/controls",
            "_model_module_version": "1.5.0",
            "_model_name": "HBoxModel",
            "_view_count": null,
            "_view_module": "@jupyter-widgets/controls",
            "_view_module_version": "1.5.0",
            "_view_name": "HBoxView",
            "box_style": "",
            "children": [
              "IPY_MODEL_e856de41c39a463687768635c0285be0",
              "IPY_MODEL_b65c054fdf124fe4a691c5fa845a0c4f"
            ],
            "layout": "IPY_MODEL_cbbbd22060ce41c69c13970c7104e3a8"
          }
        },
        "cbbbd22060ce41c69c13970c7104e3a8": {
          "model_module": "@jupyter-widgets/base",
          "model_name": "LayoutModel",
          "state": {
            "_model_module": "@jupyter-widgets/base",
            "_model_module_version": "1.2.0",
            "_model_name": "LayoutModel",
            "_view_count": null,
            "_view_module": "@jupyter-widgets/base",
            "_view_module_version": "1.2.0",
            "_view_name": "LayoutView",
            "align_content": null,
            "align_items": null,
            "align_self": null,
            "border": null,
            "bottom": null,
            "display": null,
            "flex": null,
            "flex_flow": null,
            "grid_area": null,
            "grid_auto_columns": null,
            "grid_auto_flow": null,
            "grid_auto_rows": null,
            "grid_column": null,
            "grid_gap": null,
            "grid_row": null,
            "grid_template_areas": null,
            "grid_template_columns": null,
            "grid_template_rows": null,
            "height": null,
            "justify_content": null,
            "justify_items": null,
            "left": null,
            "margin": null,
            "max_height": null,
            "max_width": null,
            "min_height": null,
            "min_width": null,
            "object_fit": null,
            "object_position": null,
            "order": null,
            "overflow": null,
            "overflow_x": null,
            "overflow_y": null,
            "padding": null,
            "right": null,
            "top": null,
            "visibility": null,
            "width": null
          }
        },
        "e856de41c39a463687768635c0285be0": {
          "model_module": "@jupyter-widgets/controls",
          "model_name": "FloatProgressModel",
          "state": {
            "_dom_classes": [],
            "_model_module": "@jupyter-widgets/controls",
            "_model_module_version": "1.5.0",
            "_model_name": "FloatProgressModel",
            "_view_count": null,
            "_view_module": "@jupyter-widgets/controls",
            "_view_module_version": "1.5.0",
            "_view_name": "ProgressView",
            "bar_style": "success",
            "description": "100%",
            "description_tooltip": null,
            "layout": "IPY_MODEL_debadc4e83e04e428dd8fc48843775e3",
            "max": 50,
            "min": 0,
            "orientation": "horizontal",
            "style": "IPY_MODEL_b365b127c17e40b6beec30f1bef30f01",
            "value": 50
          }
        },
        "b65c054fdf124fe4a691c5fa845a0c4f": {
          "model_module": "@jupyter-widgets/controls",
          "model_name": "HTMLModel",
          "state": {
            "_dom_classes": [],
            "_model_module": "@jupyter-widgets/controls",
            "_model_module_version": "1.5.0",
            "_model_name": "HTMLModel",
            "_view_count": null,
            "_view_module": "@jupyter-widgets/controls",
            "_view_module_version": "1.5.0",
            "_view_name": "HTMLView",
            "description": "",
            "description_tooltip": null,
            "layout": "IPY_MODEL_be336e5c23f945f2b10d3dc33ca0aa32",
            "placeholder": "​",
            "style": "IPY_MODEL_2b14b425c4184114957df8fdfe08071e",
            "value": " 50/50 [00:47&lt;00:00,  1.05it/s]"
          }
        },
        "b365b127c17e40b6beec30f1bef30f01": {
          "model_module": "@jupyter-widgets/controls",
          "model_name": "ProgressStyleModel",
          "state": {
            "_model_module": "@jupyter-widgets/controls",
            "_model_module_version": "1.5.0",
            "_model_name": "ProgressStyleModel",
            "_view_count": null,
            "_view_module": "@jupyter-widgets/base",
            "_view_module_version": "1.2.0",
            "_view_name": "StyleView",
            "bar_color": null,
            "description_width": "initial"
          }
        },
        "debadc4e83e04e428dd8fc48843775e3": {
          "model_module": "@jupyter-widgets/base",
          "model_name": "LayoutModel",
          "state": {
            "_model_module": "@jupyter-widgets/base",
            "_model_module_version": "1.2.0",
            "_model_name": "LayoutModel",
            "_view_count": null,
            "_view_module": "@jupyter-widgets/base",
            "_view_module_version": "1.2.0",
            "_view_name": "LayoutView",
            "align_content": null,
            "align_items": null,
            "align_self": null,
            "border": null,
            "bottom": null,
            "display": null,
            "flex": null,
            "flex_flow": null,
            "grid_area": null,
            "grid_auto_columns": null,
            "grid_auto_flow": null,
            "grid_auto_rows": null,
            "grid_column": null,
            "grid_gap": null,
            "grid_row": null,
            "grid_template_areas": null,
            "grid_template_columns": null,
            "grid_template_rows": null,
            "height": null,
            "justify_content": null,
            "justify_items": null,
            "left": null,
            "margin": null,
            "max_height": null,
            "max_width": null,
            "min_height": null,
            "min_width": null,
            "object_fit": null,
            "object_position": null,
            "order": null,
            "overflow": null,
            "overflow_x": null,
            "overflow_y": null,
            "padding": null,
            "right": null,
            "top": null,
            "visibility": null,
            "width": null
          }
        },
        "2b14b425c4184114957df8fdfe08071e": {
          "model_module": "@jupyter-widgets/controls",
          "model_name": "DescriptionStyleModel",
          "state": {
            "_model_module": "@jupyter-widgets/controls",
            "_model_module_version": "1.5.0",
            "_model_name": "DescriptionStyleModel",
            "_view_count": null,
            "_view_module": "@jupyter-widgets/base",
            "_view_module_version": "1.2.0",
            "_view_name": "StyleView",
            "description_width": ""
          }
        },
        "be336e5c23f945f2b10d3dc33ca0aa32": {
          "model_module": "@jupyter-widgets/base",
          "model_name": "LayoutModel",
          "state": {
            "_model_module": "@jupyter-widgets/base",
            "_model_module_version": "1.2.0",
            "_model_name": "LayoutModel",
            "_view_count": null,
            "_view_module": "@jupyter-widgets/base",
            "_view_module_version": "1.2.0",
            "_view_name": "LayoutView",
            "align_content": null,
            "align_items": null,
            "align_self": null,
            "border": null,
            "bottom": null,
            "display": null,
            "flex": null,
            "flex_flow": null,
            "grid_area": null,
            "grid_auto_columns": null,
            "grid_auto_flow": null,
            "grid_auto_rows": null,
            "grid_column": null,
            "grid_gap": null,
            "grid_row": null,
            "grid_template_areas": null,
            "grid_template_columns": null,
            "grid_template_rows": null,
            "height": null,
            "justify_content": null,
            "justify_items": null,
            "left": null,
            "margin": null,
            "max_height": null,
            "max_width": null,
            "min_height": null,
            "min_width": null,
            "object_fit": null,
            "object_position": null,
            "order": null,
            "overflow": null,
            "overflow_x": null,
            "overflow_y": null,
            "padding": null,
            "right": null,
            "top": null,
            "visibility": null,
            "width": null
          }
        },
        "df90f79645134c25a8cfd230ba62de91": {
          "model_module": "@jupyter-widgets/controls",
          "model_name": "HBoxModel",
          "state": {
            "_dom_classes": [],
            "_model_module": "@jupyter-widgets/controls",
            "_model_module_version": "1.5.0",
            "_model_name": "HBoxModel",
            "_view_count": null,
            "_view_module": "@jupyter-widgets/controls",
            "_view_module_version": "1.5.0",
            "_view_name": "HBoxView",
            "box_style": "",
            "children": [
              "IPY_MODEL_b050e356d9974b5796c1721427afda3e",
              "IPY_MODEL_583dfc1d56864e83b5b4e5cbafeff8f4"
            ],
            "layout": "IPY_MODEL_badbbb52b9f6492cb4d22180c8016836"
          }
        },
        "badbbb52b9f6492cb4d22180c8016836": {
          "model_module": "@jupyter-widgets/base",
          "model_name": "LayoutModel",
          "state": {
            "_model_module": "@jupyter-widgets/base",
            "_model_module_version": "1.2.0",
            "_model_name": "LayoutModel",
            "_view_count": null,
            "_view_module": "@jupyter-widgets/base",
            "_view_module_version": "1.2.0",
            "_view_name": "LayoutView",
            "align_content": null,
            "align_items": null,
            "align_self": null,
            "border": null,
            "bottom": null,
            "display": null,
            "flex": null,
            "flex_flow": null,
            "grid_area": null,
            "grid_auto_columns": null,
            "grid_auto_flow": null,
            "grid_auto_rows": null,
            "grid_column": null,
            "grid_gap": null,
            "grid_row": null,
            "grid_template_areas": null,
            "grid_template_columns": null,
            "grid_template_rows": null,
            "height": null,
            "justify_content": null,
            "justify_items": null,
            "left": null,
            "margin": null,
            "max_height": null,
            "max_width": null,
            "min_height": null,
            "min_width": null,
            "object_fit": null,
            "object_position": null,
            "order": null,
            "overflow": null,
            "overflow_x": null,
            "overflow_y": null,
            "padding": null,
            "right": null,
            "top": null,
            "visibility": null,
            "width": null
          }
        },
        "b050e356d9974b5796c1721427afda3e": {
          "model_module": "@jupyter-widgets/controls",
          "model_name": "FloatProgressModel",
          "state": {
            "_dom_classes": [],
            "_model_module": "@jupyter-widgets/controls",
            "_model_module_version": "1.5.0",
            "_model_name": "FloatProgressModel",
            "_view_count": null,
            "_view_module": "@jupyter-widgets/controls",
            "_view_module_version": "1.5.0",
            "_view_name": "ProgressView",
            "bar_style": "success",
            "description": "100%",
            "description_tooltip": null,
            "layout": "IPY_MODEL_4be0768be99944d5b27d0c5859c33bbb",
            "max": 50,
            "min": 0,
            "orientation": "horizontal",
            "style": "IPY_MODEL_b3d2664fe1d34f6f9c26933760752cd3",
            "value": 50
          }
        },
        "583dfc1d56864e83b5b4e5cbafeff8f4": {
          "model_module": "@jupyter-widgets/controls",
          "model_name": "HTMLModel",
          "state": {
            "_dom_classes": [],
            "_model_module": "@jupyter-widgets/controls",
            "_model_module_version": "1.5.0",
            "_model_name": "HTMLModel",
            "_view_count": null,
            "_view_module": "@jupyter-widgets/controls",
            "_view_module_version": "1.5.0",
            "_view_name": "HTMLView",
            "description": "",
            "description_tooltip": null,
            "layout": "IPY_MODEL_365c07b4011c44f1b53028097da3419b",
            "placeholder": "​",
            "style": "IPY_MODEL_5fed64d010584751829d3ce71c03489d",
            "value": " 50/50 [00:25&lt;00:00,  1.92it/s]"
          }
        },
        "b3d2664fe1d34f6f9c26933760752cd3": {
          "model_module": "@jupyter-widgets/controls",
          "model_name": "ProgressStyleModel",
          "state": {
            "_model_module": "@jupyter-widgets/controls",
            "_model_module_version": "1.5.0",
            "_model_name": "ProgressStyleModel",
            "_view_count": null,
            "_view_module": "@jupyter-widgets/base",
            "_view_module_version": "1.2.0",
            "_view_name": "StyleView",
            "bar_color": null,
            "description_width": "initial"
          }
        },
        "4be0768be99944d5b27d0c5859c33bbb": {
          "model_module": "@jupyter-widgets/base",
          "model_name": "LayoutModel",
          "state": {
            "_model_module": "@jupyter-widgets/base",
            "_model_module_version": "1.2.0",
            "_model_name": "LayoutModel",
            "_view_count": null,
            "_view_module": "@jupyter-widgets/base",
            "_view_module_version": "1.2.0",
            "_view_name": "LayoutView",
            "align_content": null,
            "align_items": null,
            "align_self": null,
            "border": null,
            "bottom": null,
            "display": null,
            "flex": null,
            "flex_flow": null,
            "grid_area": null,
            "grid_auto_columns": null,
            "grid_auto_flow": null,
            "grid_auto_rows": null,
            "grid_column": null,
            "grid_gap": null,
            "grid_row": null,
            "grid_template_areas": null,
            "grid_template_columns": null,
            "grid_template_rows": null,
            "height": null,
            "justify_content": null,
            "justify_items": null,
            "left": null,
            "margin": null,
            "max_height": null,
            "max_width": null,
            "min_height": null,
            "min_width": null,
            "object_fit": null,
            "object_position": null,
            "order": null,
            "overflow": null,
            "overflow_x": null,
            "overflow_y": null,
            "padding": null,
            "right": null,
            "top": null,
            "visibility": null,
            "width": null
          }
        },
        "5fed64d010584751829d3ce71c03489d": {
          "model_module": "@jupyter-widgets/controls",
          "model_name": "DescriptionStyleModel",
          "state": {
            "_model_module": "@jupyter-widgets/controls",
            "_model_module_version": "1.5.0",
            "_model_name": "DescriptionStyleModel",
            "_view_count": null,
            "_view_module": "@jupyter-widgets/base",
            "_view_module_version": "1.2.0",
            "_view_name": "StyleView",
            "description_width": ""
          }
        },
        "365c07b4011c44f1b53028097da3419b": {
          "model_module": "@jupyter-widgets/base",
          "model_name": "LayoutModel",
          "state": {
            "_model_module": "@jupyter-widgets/base",
            "_model_module_version": "1.2.0",
            "_model_name": "LayoutModel",
            "_view_count": null,
            "_view_module": "@jupyter-widgets/base",
            "_view_module_version": "1.2.0",
            "_view_name": "LayoutView",
            "align_content": null,
            "align_items": null,
            "align_self": null,
            "border": null,
            "bottom": null,
            "display": null,
            "flex": null,
            "flex_flow": null,
            "grid_area": null,
            "grid_auto_columns": null,
            "grid_auto_flow": null,
            "grid_auto_rows": null,
            "grid_column": null,
            "grid_gap": null,
            "grid_row": null,
            "grid_template_areas": null,
            "grid_template_columns": null,
            "grid_template_rows": null,
            "height": null,
            "justify_content": null,
            "justify_items": null,
            "left": null,
            "margin": null,
            "max_height": null,
            "max_width": null,
            "min_height": null,
            "min_width": null,
            "object_fit": null,
            "object_position": null,
            "order": null,
            "overflow": null,
            "overflow_x": null,
            "overflow_y": null,
            "padding": null,
            "right": null,
            "top": null,
            "visibility": null,
            "width": null
          }
        },
        "b6bfa139319c43dab18f37e9da427144": {
          "model_module": "@jupyter-widgets/controls",
          "model_name": "HBoxModel",
          "state": {
            "_dom_classes": [],
            "_model_module": "@jupyter-widgets/controls",
            "_model_module_version": "1.5.0",
            "_model_name": "HBoxModel",
            "_view_count": null,
            "_view_module": "@jupyter-widgets/controls",
            "_view_module_version": "1.5.0",
            "_view_name": "HBoxView",
            "box_style": "",
            "children": [
              "IPY_MODEL_d4c419ddb25a4fed8f7a6937eb211e03",
              "IPY_MODEL_fae542c6915a44fb97b93d59ee9ba481"
            ],
            "layout": "IPY_MODEL_a4065b580e7645169826843115d076cd"
          }
        },
        "a4065b580e7645169826843115d076cd": {
          "model_module": "@jupyter-widgets/base",
          "model_name": "LayoutModel",
          "state": {
            "_model_module": "@jupyter-widgets/base",
            "_model_module_version": "1.2.0",
            "_model_name": "LayoutModel",
            "_view_count": null,
            "_view_module": "@jupyter-widgets/base",
            "_view_module_version": "1.2.0",
            "_view_name": "LayoutView",
            "align_content": null,
            "align_items": null,
            "align_self": null,
            "border": null,
            "bottom": null,
            "display": null,
            "flex": null,
            "flex_flow": null,
            "grid_area": null,
            "grid_auto_columns": null,
            "grid_auto_flow": null,
            "grid_auto_rows": null,
            "grid_column": null,
            "grid_gap": null,
            "grid_row": null,
            "grid_template_areas": null,
            "grid_template_columns": null,
            "grid_template_rows": null,
            "height": null,
            "justify_content": null,
            "justify_items": null,
            "left": null,
            "margin": null,
            "max_height": null,
            "max_width": null,
            "min_height": null,
            "min_width": null,
            "object_fit": null,
            "object_position": null,
            "order": null,
            "overflow": null,
            "overflow_x": null,
            "overflow_y": null,
            "padding": null,
            "right": null,
            "top": null,
            "visibility": null,
            "width": null
          }
        },
        "d4c419ddb25a4fed8f7a6937eb211e03": {
          "model_module": "@jupyter-widgets/controls",
          "model_name": "FloatProgressModel",
          "state": {
            "_dom_classes": [],
            "_model_module": "@jupyter-widgets/controls",
            "_model_module_version": "1.5.0",
            "_model_name": "FloatProgressModel",
            "_view_count": null,
            "_view_module": "@jupyter-widgets/controls",
            "_view_module_version": "1.5.0",
            "_view_name": "ProgressView",
            "bar_style": "success",
            "description": "100%",
            "description_tooltip": null,
            "layout": "IPY_MODEL_09ee21dd9cdd4802a394e043ae4e0b47",
            "max": 50,
            "min": 0,
            "orientation": "horizontal",
            "style": "IPY_MODEL_fe37091a40604fa394acddd19532f0f2",
            "value": 50
          }
        },
        "fae542c6915a44fb97b93d59ee9ba481": {
          "model_module": "@jupyter-widgets/controls",
          "model_name": "HTMLModel",
          "state": {
            "_dom_classes": [],
            "_model_module": "@jupyter-widgets/controls",
            "_model_module_version": "1.5.0",
            "_model_name": "HTMLModel",
            "_view_count": null,
            "_view_module": "@jupyter-widgets/controls",
            "_view_module_version": "1.5.0",
            "_view_name": "HTMLView",
            "description": "",
            "description_tooltip": null,
            "layout": "IPY_MODEL_7e5e8ae2622d4214bae8774cdbfa2711",
            "placeholder": "​",
            "style": "IPY_MODEL_8f0bdbc4daf34b7cabce2494e80be748",
            "value": " 50/50 [00:19&lt;00:00,  2.56it/s]"
          }
        },
        "fe37091a40604fa394acddd19532f0f2": {
          "model_module": "@jupyter-widgets/controls",
          "model_name": "ProgressStyleModel",
          "state": {
            "_model_module": "@jupyter-widgets/controls",
            "_model_module_version": "1.5.0",
            "_model_name": "ProgressStyleModel",
            "_view_count": null,
            "_view_module": "@jupyter-widgets/base",
            "_view_module_version": "1.2.0",
            "_view_name": "StyleView",
            "bar_color": null,
            "description_width": "initial"
          }
        },
        "09ee21dd9cdd4802a394e043ae4e0b47": {
          "model_module": "@jupyter-widgets/base",
          "model_name": "LayoutModel",
          "state": {
            "_model_module": "@jupyter-widgets/base",
            "_model_module_version": "1.2.0",
            "_model_name": "LayoutModel",
            "_view_count": null,
            "_view_module": "@jupyter-widgets/base",
            "_view_module_version": "1.2.0",
            "_view_name": "LayoutView",
            "align_content": null,
            "align_items": null,
            "align_self": null,
            "border": null,
            "bottom": null,
            "display": null,
            "flex": null,
            "flex_flow": null,
            "grid_area": null,
            "grid_auto_columns": null,
            "grid_auto_flow": null,
            "grid_auto_rows": null,
            "grid_column": null,
            "grid_gap": null,
            "grid_row": null,
            "grid_template_areas": null,
            "grid_template_columns": null,
            "grid_template_rows": null,
            "height": null,
            "justify_content": null,
            "justify_items": null,
            "left": null,
            "margin": null,
            "max_height": null,
            "max_width": null,
            "min_height": null,
            "min_width": null,
            "object_fit": null,
            "object_position": null,
            "order": null,
            "overflow": null,
            "overflow_x": null,
            "overflow_y": null,
            "padding": null,
            "right": null,
            "top": null,
            "visibility": null,
            "width": null
          }
        },
        "8f0bdbc4daf34b7cabce2494e80be748": {
          "model_module": "@jupyter-widgets/controls",
          "model_name": "DescriptionStyleModel",
          "state": {
            "_model_module": "@jupyter-widgets/controls",
            "_model_module_version": "1.5.0",
            "_model_name": "DescriptionStyleModel",
            "_view_count": null,
            "_view_module": "@jupyter-widgets/base",
            "_view_module_version": "1.2.0",
            "_view_name": "StyleView",
            "description_width": ""
          }
        },
        "7e5e8ae2622d4214bae8774cdbfa2711": {
          "model_module": "@jupyter-widgets/base",
          "model_name": "LayoutModel",
          "state": {
            "_model_module": "@jupyter-widgets/base",
            "_model_module_version": "1.2.0",
            "_model_name": "LayoutModel",
            "_view_count": null,
            "_view_module": "@jupyter-widgets/base",
            "_view_module_version": "1.2.0",
            "_view_name": "LayoutView",
            "align_content": null,
            "align_items": null,
            "align_self": null,
            "border": null,
            "bottom": null,
            "display": null,
            "flex": null,
            "flex_flow": null,
            "grid_area": null,
            "grid_auto_columns": null,
            "grid_auto_flow": null,
            "grid_auto_rows": null,
            "grid_column": null,
            "grid_gap": null,
            "grid_row": null,
            "grid_template_areas": null,
            "grid_template_columns": null,
            "grid_template_rows": null,
            "height": null,
            "justify_content": null,
            "justify_items": null,
            "left": null,
            "margin": null,
            "max_height": null,
            "max_width": null,
            "min_height": null,
            "min_width": null,
            "object_fit": null,
            "object_position": null,
            "order": null,
            "overflow": null,
            "overflow_x": null,
            "overflow_y": null,
            "padding": null,
            "right": null,
            "top": null,
            "visibility": null,
            "width": null
          }
        },
        "5ef7a3513e1c4b8499fd870c019c7776": {
          "model_module": "@jupyter-widgets/controls",
          "model_name": "HBoxModel",
          "state": {
            "_dom_classes": [],
            "_model_module": "@jupyter-widgets/controls",
            "_model_module_version": "1.5.0",
            "_model_name": "HBoxModel",
            "_view_count": null,
            "_view_module": "@jupyter-widgets/controls",
            "_view_module_version": "1.5.0",
            "_view_name": "HBoxView",
            "box_style": "",
            "children": [
              "IPY_MODEL_674ac0e956eb43acb5cb17c54ef0f3d2",
              "IPY_MODEL_47b23d64c7374600855aefbbbde68c18"
            ],
            "layout": "IPY_MODEL_b62573f82ca046f786ef0d596c3e1dcc"
          }
        },
        "b62573f82ca046f786ef0d596c3e1dcc": {
          "model_module": "@jupyter-widgets/base",
          "model_name": "LayoutModel",
          "state": {
            "_model_module": "@jupyter-widgets/base",
            "_model_module_version": "1.2.0",
            "_model_name": "LayoutModel",
            "_view_count": null,
            "_view_module": "@jupyter-widgets/base",
            "_view_module_version": "1.2.0",
            "_view_name": "LayoutView",
            "align_content": null,
            "align_items": null,
            "align_self": null,
            "border": null,
            "bottom": null,
            "display": null,
            "flex": null,
            "flex_flow": null,
            "grid_area": null,
            "grid_auto_columns": null,
            "grid_auto_flow": null,
            "grid_auto_rows": null,
            "grid_column": null,
            "grid_gap": null,
            "grid_row": null,
            "grid_template_areas": null,
            "grid_template_columns": null,
            "grid_template_rows": null,
            "height": null,
            "justify_content": null,
            "justify_items": null,
            "left": null,
            "margin": null,
            "max_height": null,
            "max_width": null,
            "min_height": null,
            "min_width": null,
            "object_fit": null,
            "object_position": null,
            "order": null,
            "overflow": null,
            "overflow_x": null,
            "overflow_y": null,
            "padding": null,
            "right": null,
            "top": null,
            "visibility": null,
            "width": null
          }
        },
        "674ac0e956eb43acb5cb17c54ef0f3d2": {
          "model_module": "@jupyter-widgets/controls",
          "model_name": "FloatProgressModel",
          "state": {
            "_dom_classes": [],
            "_model_module": "@jupyter-widgets/controls",
            "_model_module_version": "1.5.0",
            "_model_name": "FloatProgressModel",
            "_view_count": null,
            "_view_module": "@jupyter-widgets/controls",
            "_view_module_version": "1.5.0",
            "_view_name": "ProgressView",
            "bar_style": "success",
            "description": "100%",
            "description_tooltip": null,
            "layout": "IPY_MODEL_2d95c3d5354f459285a135140832e6e1",
            "max": 50,
            "min": 0,
            "orientation": "horizontal",
            "style": "IPY_MODEL_9c7a0be8cabe4845b05ba8c5b7711181",
            "value": 50
          }
        },
        "47b23d64c7374600855aefbbbde68c18": {
          "model_module": "@jupyter-widgets/controls",
          "model_name": "HTMLModel",
          "state": {
            "_dom_classes": [],
            "_model_module": "@jupyter-widgets/controls",
            "_model_module_version": "1.5.0",
            "_model_name": "HTMLModel",
            "_view_count": null,
            "_view_module": "@jupyter-widgets/controls",
            "_view_module_version": "1.5.0",
            "_view_name": "HTMLView",
            "description": "",
            "description_tooltip": null,
            "layout": "IPY_MODEL_e70dff6c02fd468e9a12f48faa3e446c",
            "placeholder": "​",
            "style": "IPY_MODEL_41d067d4ede240e8b9247d97384f94de",
            "value": " 50/50 [00:19&lt;00:00,  2.52it/s]"
          }
        },
        "9c7a0be8cabe4845b05ba8c5b7711181": {
          "model_module": "@jupyter-widgets/controls",
          "model_name": "ProgressStyleModel",
          "state": {
            "_model_module": "@jupyter-widgets/controls",
            "_model_module_version": "1.5.0",
            "_model_name": "ProgressStyleModel",
            "_view_count": null,
            "_view_module": "@jupyter-widgets/base",
            "_view_module_version": "1.2.0",
            "_view_name": "StyleView",
            "bar_color": null,
            "description_width": "initial"
          }
        },
        "2d95c3d5354f459285a135140832e6e1": {
          "model_module": "@jupyter-widgets/base",
          "model_name": "LayoutModel",
          "state": {
            "_model_module": "@jupyter-widgets/base",
            "_model_module_version": "1.2.0",
            "_model_name": "LayoutModel",
            "_view_count": null,
            "_view_module": "@jupyter-widgets/base",
            "_view_module_version": "1.2.0",
            "_view_name": "LayoutView",
            "align_content": null,
            "align_items": null,
            "align_self": null,
            "border": null,
            "bottom": null,
            "display": null,
            "flex": null,
            "flex_flow": null,
            "grid_area": null,
            "grid_auto_columns": null,
            "grid_auto_flow": null,
            "grid_auto_rows": null,
            "grid_column": null,
            "grid_gap": null,
            "grid_row": null,
            "grid_template_areas": null,
            "grid_template_columns": null,
            "grid_template_rows": null,
            "height": null,
            "justify_content": null,
            "justify_items": null,
            "left": null,
            "margin": null,
            "max_height": null,
            "max_width": null,
            "min_height": null,
            "min_width": null,
            "object_fit": null,
            "object_position": null,
            "order": null,
            "overflow": null,
            "overflow_x": null,
            "overflow_y": null,
            "padding": null,
            "right": null,
            "top": null,
            "visibility": null,
            "width": null
          }
        },
        "41d067d4ede240e8b9247d97384f94de": {
          "model_module": "@jupyter-widgets/controls",
          "model_name": "DescriptionStyleModel",
          "state": {
            "_model_module": "@jupyter-widgets/controls",
            "_model_module_version": "1.5.0",
            "_model_name": "DescriptionStyleModel",
            "_view_count": null,
            "_view_module": "@jupyter-widgets/base",
            "_view_module_version": "1.2.0",
            "_view_name": "StyleView",
            "description_width": ""
          }
        },
        "e70dff6c02fd468e9a12f48faa3e446c": {
          "model_module": "@jupyter-widgets/base",
          "model_name": "LayoutModel",
          "state": {
            "_model_module": "@jupyter-widgets/base",
            "_model_module_version": "1.2.0",
            "_model_name": "LayoutModel",
            "_view_count": null,
            "_view_module": "@jupyter-widgets/base",
            "_view_module_version": "1.2.0",
            "_view_name": "LayoutView",
            "align_content": null,
            "align_items": null,
            "align_self": null,
            "border": null,
            "bottom": null,
            "display": null,
            "flex": null,
            "flex_flow": null,
            "grid_area": null,
            "grid_auto_columns": null,
            "grid_auto_flow": null,
            "grid_auto_rows": null,
            "grid_column": null,
            "grid_gap": null,
            "grid_row": null,
            "grid_template_areas": null,
            "grid_template_columns": null,
            "grid_template_rows": null,
            "height": null,
            "justify_content": null,
            "justify_items": null,
            "left": null,
            "margin": null,
            "max_height": null,
            "max_width": null,
            "min_height": null,
            "min_width": null,
            "object_fit": null,
            "object_position": null,
            "order": null,
            "overflow": null,
            "overflow_x": null,
            "overflow_y": null,
            "padding": null,
            "right": null,
            "top": null,
            "visibility": null,
            "width": null
          }
        }
      }
    }
  },
  "cells": [
    {
      "cell_type": "code",
      "metadata": {
        "colab_type": "code",
        "id": "DjuY3AASD0yZ",
        "colab": {}
      },
      "source": [
        "!pip install --quiet cornac==1.6.0 adjustText\n"
      ],
      "execution_count": null,
      "outputs": []
    },
    {
      "cell_type": "code",
      "metadata": {
        "colab_type": "code",
        "id": "RhMGp29UEH7R",
        "colab": {
          "base_uri": "https://localhost:8080/",
          "height": 160
        },
        "outputId": "e28246b5-e892-4ddd-b215-eaa92eccba35"
      },
      "source": [
        "import os\n",
        "import sys\n",
        "from collections import defaultdict\n",
        "\n",
        "import numpy as np\n",
        "import pandas as pd\n",
        "import seaborn as sns\n",
        "import matplotlib.pyplot as plt\n",
        "from adjustText import adjust_text\n",
        "%matplotlib inline\n",
        "\n",
        "import cornac\n",
        "from cornac.utils import cache\n",
        "from cornac.datasets import movielens\n",
        "from cornac.eval_methods import RatioSplit\n",
        "from cornac.models import MF, BPR, WMF\n",
        "from cornac.models import UserKNN, ItemKNN, ConvMF,NeuMF,GMF\n",
        "from cornac.eval_methods import BaseMethod\n",
        "%tensorflow_version 1.x\n",
        "import tensorflow as tf\n",
        "\n",
        "print(f\"System version: {sys.version}\")\n",
        "print(f\"Cornac version: {cornac.__version__}\")\n",
        "print(f\"Tensorflow version: {tf.__version__}\")\n",
        "\n",
        "SEED = 42\n",
        "VERBOSE = False"
      ],
      "execution_count": null,
      "outputs": [
        {
          "output_type": "stream",
          "text": [
            "/usr/local/lib/python3.6/dist-packages/statsmodels/tools/_testing.py:19: FutureWarning: pandas.util.testing is deprecated. Use the functions in the public API at pandas.testing instead.\n",
            "  import pandas.util.testing as tm\n"
          ],
          "name": "stderr"
        },
        {
          "output_type": "stream",
          "text": [
            "TensorFlow 1.x selected.\n",
            "System version: 3.6.9 (default, Apr 18 2020, 01:56:04) \n",
            "[GCC 8.4.0]\n",
            "Cornac version: 1.6.0\n",
            "Tensorflow version: 1.15.2\n"
          ],
          "name": "stdout"
        }
      ]
    },
    {
      "cell_type": "markdown",
      "metadata": {
        "colab_type": "text",
        "id": "-4mL-oTIEUOZ"
      },
      "source": [
        "# Import training and probe data"
      ]
    },
    {
      "cell_type": "code",
      "metadata": {
        "colab_type": "code",
        "id": "AzJBvqKYIXjN",
        "colab": {
          "resources": {
            "http://localhost:8080/nbextensions/google.colab/files.js": {
              "data": "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",
              "ok": true,
              "headers": [
                [
                  "content-type",
                  "application/javascript"
                ]
              ],
              "status": 200,
              "status_text": ""
            }
          },
          "base_uri": "https://localhost:8080/",
          "height": 74
        },
        "outputId": "6293d694-e362-4f83-f85e-0b5a8bce2af1"
      },
      "source": [
        "import pandas as pd\n",
        "import io\n",
        "from google.colab import files\n",
        "uploaded = files.upload()\n",
        "\n",
        "train_df = pd.read_csv(io.StringIO(uploaded['cs608_ip_train_v2.csv'].decode('utf-8')))\n",
        "train_df.columns =[\"UserID\", \"ItemID\", \"Rating\"]"
      ],
      "execution_count": null,
      "outputs": [
        {
          "output_type": "display_data",
          "data": {
            "text/html": [
              "\n",
              "     <input type=\"file\" id=\"files-c6784315-7e18-46a1-8d0b-dd2f9950a7ee\" name=\"files[]\" multiple disabled\n",
              "        style=\"border:none\" />\n",
              "     <output id=\"result-c6784315-7e18-46a1-8d0b-dd2f9950a7ee\">\n",
              "      Upload widget is only available when the cell has been executed in the\n",
              "      current browser session. Please rerun this cell to enable.\n",
              "      </output>\n",
              "      <script src=\"/nbextensions/google.colab/files.js\"></script> "
            ],
            "text/plain": [
              "<IPython.core.display.HTML object>"
            ]
          },
          "metadata": {
            "tags": []
          }
        },
        {
          "output_type": "stream",
          "text": [
            "Saving cs608_ip_train_v2.csv to cs608_ip_train_v2 (1).csv\n"
          ],
          "name": "stdout"
        }
      ]
    },
    {
      "cell_type": "code",
      "metadata": {
        "colab_type": "code",
        "id": "1tiVuwBZvj2e",
        "colab": {
          "resources": {
            "http://localhost:8080/nbextensions/google.colab/files.js": {
              "data": "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",
              "ok": true,
              "headers": [
                [
                  "content-type",
                  "application/javascript"
                ]
              ],
              "status": 200,
              "status_text": ""
            }
          },
          "base_uri": "https://localhost:8080/",
          "height": 74
        },
        "outputId": "0e7b8990-13c8-483b-d82f-5ec2b1f51d37"
      },
      "source": [
        "uploaded = files.upload()\n",
        "\n",
        "test_df = pd.read_csv(io.StringIO\n",
        "(uploaded['cs608_ip_probe_v2.csv'].decode('utf-8')))\n",
        "test_df.columns =[\"UserID\", \"ItemID\", \"Rating\"]"
      ],
      "execution_count": null,
      "outputs": [
        {
          "output_type": "display_data",
          "data": {
            "text/html": [
              "\n",
              "     <input type=\"file\" id=\"files-656d7804-d6cf-461a-b1a0-0fdd014bd2dd\" name=\"files[]\" multiple disabled\n",
              "        style=\"border:none\" />\n",
              "     <output id=\"result-656d7804-d6cf-461a-b1a0-0fdd014bd2dd\">\n",
              "      Upload widget is only available when the cell has been executed in the\n",
              "      current browser session. Please rerun this cell to enable.\n",
              "      </output>\n",
              "      <script src=\"/nbextensions/google.colab/files.js\"></script> "
            ],
            "text/plain": [
              "<IPython.core.display.HTML object>"
            ]
          },
          "metadata": {
            "tags": []
          }
        },
        {
          "output_type": "stream",
          "text": [
            "Saving cs608_ip_probe_v2.csv to cs608_ip_probe_v2 (1).csv\n"
          ],
          "name": "stdout"
        }
      ]
    },
    {
      "cell_type": "markdown",
      "metadata": {
        "colab_type": "text",
        "id": "pSw-m4P9FJGC"
      },
      "source": [
        "# Data Exploration"
      ]
    },
    {
      "cell_type": "markdown",
      "metadata": {
        "colab_type": "text",
        "id": "Ycuhxu89GvRC"
      },
      "source": [
        "The basic statistics for ratings"
      ]
    },
    {
      "cell_type": "code",
      "metadata": {
        "colab_type": "code",
        "id": "0-ci6NePFRVM",
        "colab": {
          "base_uri": "https://localhost:8080/",
          "height": 175
        },
        "outputId": "7dda640d-e255-44e5-e860-3420abb7530d"
      },
      "source": [
        "train_df.Rating.describe()"
      ],
      "execution_count": null,
      "outputs": [
        {
          "output_type": "execute_result",
          "data": {
            "text/plain": [
              "count    146283.000000\n",
              "mean          4.066323\n",
              "std           0.971161\n",
              "min           1.000000\n",
              "25%           3.000000\n",
              "50%           4.000000\n",
              "75%           5.000000\n",
              "max           5.000000\n",
              "Name: Rating, dtype: float64"
            ]
          },
          "metadata": {
            "tags": []
          },
          "execution_count": 14
        }
      ]
    },
    {
      "cell_type": "markdown",
      "metadata": {
        "colab_type": "text",
        "id": "AI7DPhv7HnYR"
      },
      "source": [
        "Majority of ratings lie in 3 to 5."
      ]
    },
    {
      "cell_type": "code",
      "metadata": {
        "colab_type": "code",
        "id": "RWKeZrazHCHS",
        "colab": {
          "base_uri": "https://localhost:8080/",
          "height": 352
        },
        "outputId": "bcc8500d-172c-4070-af82-7c24208e27a5"
      },
      "source": [
        "fig, axes = plt.subplots(nrows=1, ncols=2, figsize=(14, 5))\n",
        "sns.countplot(x=\"Rating\", data=train_df, palette=\"ch:.25\", ax=axes[0])\n",
        "sns.boxplot(x=\"Rating\", data=train_df, palette=\"ch:.25\", ax=axes[1])"
      ],
      "execution_count": null,
      "outputs": [
        {
          "output_type": "execute_result",
          "data": {
            "text/plain": [
              "<matplotlib.axes._subplots.AxesSubplot at 0x7f4caf6bc9b0>"
            ]
          },
          "metadata": {
            "tags": []
          },
          "execution_count": 7
        },
        {
          "output_type": "display_data",
          "data": {
            "image/png": "[encoded data removed]",
            "text/plain": [
              "<Figure size 1008x360 with 2 Axes>"
            ]
          },
          "metadata": {
            "tags": [],
            "needs_background": "light"
          }
        }
      ]
    },
    {
      "cell_type": "code",
      "metadata": {
        "colab_type": "code",
        "id": "XF-FLgAEwKBY",
        "colab": {
          "base_uri": "https://localhost:8080/",
          "height": 34
        },
        "outputId": "7f90c3a4-a6a9-4dfa-d2ca-642fae7a3723"
      },
      "source": [
        "#fil = (train_df['Rating']==1 | train_df['Rating']==2)\n",
        "newdf = train_df.loc[(train_df.Rating == 1) | (train_df['Rating'] == 2)]\n",
        "len(newdf)/len(train_df)*100"
      ],
      "execution_count": null,
      "outputs": [
        {
          "output_type": "execute_result",
          "data": {
            "text/plain": [
              "6.680885680496025"
            ]
          },
          "metadata": {
            "tags": []
          },
          "execution_count": 17
        }
      ]
    },
    {
      "cell_type": "markdown",
      "metadata": {
        "colab_type": "text",
        "id": "mM6PATfTG71W"
      },
      "source": [
        "Data Sparsity"
      ]
    },
    {
      "cell_type": "code",
      "metadata": {
        "colab_type": "code",
        "id": "8_mGkNP4HBP-",
        "colab": {
          "base_uri": "https://localhost:8080/",
          "height": 122
        },
        "outputId": "71dd4b98-dc79-45b6-d928-2cc7d95ac981"
      },
      "source": [
        "n_users = train_df.UserID.nunique()\n",
        "n_items = train_df.ItemID.nunique()\n",
        "n_ratings = len(train_df)\n",
        "rating_matrix_size = n_users * n_items\n",
        "sparsity = 1 - n_ratings / rating_matrix_size\n",
        "\n",
        "print(f\"Number of users: {n_users}\")\n",
        "print(f\"Number of items: {n_items}\")\n",
        "print(f\"Number of available ratings: {n_ratings}\")\n",
        "print(f\"Number of all possible ratings: {rating_matrix_size}\")\n",
        "print(\"-\" * 40)\n",
        "print(f\"SPARSITY: {sparsity * 100.0:.2f}%\")"
      ],
      "execution_count": null,
      "outputs": [
        {
          "output_type": "stream",
          "text": [
            "Number of users: 9402\n",
            "Number of items: 12411\n",
            "Number of available ratings: 146283\n",
            "Number of all possible ratings: 116688222\n",
            "----------------------------------------\n",
            "SPARSITY: 99.87%\n"
          ],
          "name": "stdout"
        }
      ]
    },
    {
      "cell_type": "markdown",
      "metadata": {
        "colab_type": "text",
        "id": "s3ev6YbRQEc0"
      },
      "source": [
        "Power law distribution"
      ]
    },
    {
      "cell_type": "markdown",
      "metadata": {
        "colab_type": "text",
        "id": "DLqFI8TBRTAW"
      },
      "source": [
        "Top 10 rated items"
      ]
    },
    {
      "cell_type": "code",
      "metadata": {
        "colab_type": "code",
        "id": "ahadjugCQzuP",
        "colab": {
          "base_uri": "https://localhost:8080/",
          "height": 228
        },
        "outputId": "5aac8663-8ae6-4c4c-d7bd-3b3db0afbcd1"
      },
      "source": [
        "item_rate_count = train_df.groupby(\"ItemID\")[\"UserID\"].nunique().sort_values(ascending=False)\n",
        "item_rate_count.head(10)"
      ],
      "execution_count": null,
      "outputs": [
        {
          "output_type": "execute_result",
          "data": {
            "text/plain": [
              "ItemID\n",
              "7666     1294\n",
              "3572     1170\n",
              "5443     1082\n",
              "9319      888\n",
              "5277      823\n",
              "11118     768\n",
              "10959     675\n",
              "3367      649\n",
              "7586      645\n",
              "8527      630\n",
              "Name: UserID, dtype: int64"
            ]
          },
          "metadata": {
            "tags": []
          },
          "execution_count": 9
        }
      ]
    },
    {
      "cell_type": "markdown",
      "metadata": {
        "colab_type": "text",
        "id": "fN3mOskRRW1F"
      },
      "source": [
        "List 10 least rated items. All of them are only rated by 1 user."
      ]
    },
    {
      "cell_type": "code",
      "metadata": {
        "colab_type": "code",
        "id": "GR3bfmToRkXG",
        "colab": {
          "base_uri": "https://localhost:8080/",
          "height": 228
        },
        "outputId": "d9871701-50dc-4b8c-f7f3-8f70f13677d3"
      },
      "source": [
        "item_rate_count.tail(10)"
      ],
      "execution_count": null,
      "outputs": [
        {
          "output_type": "execute_result",
          "data": {
            "text/plain": [
              "ItemID\n",
              "1136     1\n",
              "9140     1\n",
              "1142     1\n",
              "11265    1\n",
              "7215     1\n",
              "9149     1\n",
              "7209     1\n",
              "9163     1\n",
              "2903     1\n",
              "4023     1\n",
              "Name: UserID, dtype: int64"
            ]
          },
          "metadata": {
            "tags": []
          },
          "execution_count": 10
        }
      ]
    },
    {
      "cell_type": "markdown",
      "metadata": {
        "colab_type": "text",
        "id": "wLGvO68WRw6K"
      },
      "source": [
        "Recommendations based on item popularity. Performance is quite bad due to power law distribution of user ratings"
      ]
    },
    {
      "cell_type": "code",
      "metadata": {
        "colab_type": "code",
        "id": "7lkvf2WHVFG9",
        "colab": {}
      },
      "source": [
        "train_set = list(train_df.itertuples(index=False,name = None))\n",
        "test_set = list(test_df.itertuples(index=False, name=None))"
      ],
      "execution_count": null,
      "outputs": []
    },
    {
      "cell_type": "code",
      "metadata": {
        "colab_type": "code",
        "id": "qJRj5UWVR8E7",
        "colab": {
          "base_uri": "https://localhost:8080/",
          "height": 612,
          "referenced_widgets": [
            "7e6d81c7a1754b0c95c4df2bb75bea15",
            "f732d479560d4a8cabde98a3c41192ae",
            "a4de592814b043b49546e2750407c10f",
            "a11f9bb33c0d4260b7db3157173f48e5",
            "e97bfbf4783a40af8a01574d29e60eaa",
            "ad9ec7055bb94e669460e49e94360573",
            "3cfcbba6209749499976eee02394dfcf",
            "7ba1e057c6bd4299b4f18e5a7a6acb94"
          ]
        },
        "outputId": "82c476e7-9048-47d2-aa10-3675ed80b89b"
      },
      "source": [
        "\n",
        "# 5-fold cross validation\n",
        "rs = RatioSplit(train_set, test_size=0.2, seed=SEED, verbose=VERBOSE)\n",
        "\n",
        "# recommender system based on item popularity\n",
        "most_pop = cornac.models.MostPop()\n",
        "\n",
        "eval_metrics = [\n",
        "    cornac.metrics.Recall(k=50),\n",
        "    cornac.metrics.NDCG(k=50),\n",
        "    cornac.metrics.NCRR(k=50),\n",
        "]\n",
        "base_split = BaseMethod.from_splits(\n",
        "    train_data=train_set,\n",
        "    test_data=test_set,\n",
        "    exclude_unknowns=False,\n",
        "    verbose=True,\n",
        ")\n",
        "# put everything together into an experiment\n",
        "cornac.Experiment(eval_method=base_split, models=[most_pop], metrics=eval_metrics).run()\n",
        "\n"
      ],
      "execution_count": null,
      "outputs": [
        {
          "output_type": "stream",
          "text": [
            "rating_threshold = 1.0\n",
            "exclude_unknowns = False\n",
            "---\n",
            "Training data:\n",
            "Number of users = 9402\n",
            "Number of items = 12411\n",
            "Number of ratings = 146283\n",
            "Max rating = 5.0\n",
            "Min rating = 1.0\n",
            "Global mean = 4.1\n",
            "---\n",
            "Test data:\n",
            "Number of users = 9402\n",
            "Number of items = 11160\n",
            "Number of ratings = 75066\n",
            "Number of unknown users = 0\n",
            "Number of unknown items = 255\n",
            "---\n",
            "Total users = 9402\n",
            "Total items = 12666\n",
            "\n",
            "[MostPop] Training started!\n",
            "\n",
            "[MostPop] Evaluation started!\n"
          ],
          "name": "stdout"
        },
        {
          "output_type": "display_data",
          "data": {
            "application/vnd.jupyter.widget-view+json": {
              "model_id": "7e6d81c7a1754b0c95c4df2bb75bea15",
              "version_major": 2,
              "version_minor": 0
            },
            "text/plain": [
              "HBox(children=(FloatProgress(value=0.0, description='Ranking', max=9402.0, style=ProgressStyle(description_wid…"
            ]
          },
          "metadata": {
            "tags": []
          }
        },
        {
          "output_type": "stream",
          "text": [
            "\n",
            "\n",
            "TEST:\n",
            "...\n",
            "        | NCRR@50 | NDCG@50 | Recall@50 | Train (s) | Test (s)\n",
            "------- + ------- + ------- + --------- + --------- + --------\n",
            "MostPop |  0.0793 |  0.1138 |    0.1891 |    0.0035 |  12.0934\n",
            "\n"
          ],
          "name": "stdout"
        }
      ]
    },
    {
      "cell_type": "markdown",
      "metadata": {
        "colab_type": "text",
        "id": "5nJFDHf1Zjw4"
      },
      "source": [
        "User-based models"
      ]
    },
    {
      "cell_type": "code",
      "metadata": {
        "colab_type": "code",
        "id": "H1as2cyZaJxc",
        "colab": {
          "base_uri": "https://localhost:8080/",
          "height": 1000,
          "referenced_widgets": [
            "ab7ee39051d94b1b97dffa07259984fb",
            "20b057e945af4a75a0587a3fcb6f0eb0",
            "340bd62ef688497287c0d4a5c8c364c9",
            "32fdf26855f241adb15305c500c06166",
            "218d4f5b23064189a6cd5a0227fa1537",
            "eaa884855d8d4ad2b4a96e3530980a93",
            "7e7ad7cbe5cb46b6aa9c81d1af02f7f3",
            "bf9e10dc642248a8858989f1236d8aac",
            "fec50f149bdb4fc4b5126c1ec701e611",
            "634636bcbc5843149e47986ef44e4929",
            "8a2019bb0f7a4d2abe0ecbfaab4fea8c",
            "b5ea59bda43a43838dee52781a2a204d",
            "733cf60c885b4baf8d182664ad9a86bd",
            "e314ef4dc3ca43ba85071b397bf7c7ea",
            "b17598f03bc7407083fcf12cea226a1f",
            "3c6c8f56d9ac46a98fd99fe5924d9e17",
            "977d77cb996f4b85a95c6e44a98ccf2e",
            "3ddb18aac222460581aa823ff57a1178",
            "cff0394a89e9489eb6fad3cfd951ed38",
            "8eac01625c43466c95d334e61289bd4c",
            "d398d8c0b4ae4dbc8f3298eb10c02647",
            "bb321b0f297a4b22b2f365df3b00f164",
            "a68c5b86cb824d54865ff0a8a6791771",
            "dce433b1ddfc402c85628402fb480be6",
            "11a929ad1868454fb75872f365927722",
            "9098a05e2a534fac82b35c4886c3133f",
            "472fa6789aef4c79a8685eab72270243",
            "bf398a3d07b04b7587957077c09f900e",
            "e6d3c9fdb9d84568b87db1ed0a06c3cb",
            "b5f7f012e7984dcca1ece830b4f99395",
            "585bbeb2c6984e4c96aa4415a5e2522d",
            "2164a77975894351835c5dad10d5da92"
          ]
        },
        "outputId": "6e20f42f-5216-408b-ba25-a6c477427218"
      },
      "source": [
        "K = 50  # number of nearest neighbors\n",
        "uknn_cosine = UserKNN(\n",
        "  k=K, similarity=\"cosine\", name=\"UserKNN-Cosine\", verbose=VERBOSE\n",
        ")\n",
        "uknn_cosine_mc = UserKNN(\n",
        "  k=K, similarity=\"cosine\", mean_centered=True, name=\"UserKNN-Cosine-MC\", verbose=VERBOSE\n",
        ")\n",
        "uknn_pearson = UserKNN(\n",
        "  k=K, similarity=\"pearson\", name=\"UserKNN-Pearson\", verbose=VERBOSE\n",
        ")\n",
        "uknn_pearson_mc = UserKNN(\n",
        "  k=K, similarity=\"pearson\", mean_centered=True, name=\"UserKNN-Pearson-MC\", verbose=VERBOSE\n",
        ")\n",
        "eval_metrics = [\n",
        "    cornac.metrics.Recall(k=50),\n",
        "    cornac.metrics.NDCG(k=50),\n",
        "    cornac.metrics.NCRR(k=50),\n",
        "]\n",
        "\n",
        "base_split = BaseMethod.from_splits(\n",
        "    train_data=train_set,\n",
        "    test_data=test_set,\n",
        "    exclude_unknowns=False,\n",
        "    verbose=True,\n",
        ")\n",
        "cornac.Experiment(\n",
        "  eval_method=base_split,\n",
        "  models=[uknn_cosine, uknn_cosine_mc, uknn_pearson, uknn_pearson_mc],\n",
        "  metrics=eval_metrics,\n",
        ").run()"
      ],
      "execution_count": null,
      "outputs": [
        {
          "output_type": "stream",
          "text": [
            "rating_threshold = 1.0\n",
            "exclude_unknowns = False\n",
            "---\n",
            "Training data:\n",
            "Number of users = 9402\n",
            "Number of items = 12411\n",
            "Number of ratings = 146283\n",
            "Max rating = 5.0\n",
            "Min rating = 1.0\n",
            "Global mean = 4.1\n",
            "---\n",
            "Test data:\n",
            "Number of users = 9402\n",
            "Number of items = 11160\n",
            "Number of ratings = 75066\n",
            "Number of unknown users = 0\n",
            "Number of unknown items = 255\n",
            "---\n",
            "Total users = 9402\n",
            "Total items = 12666\n",
            "\n",
            "[UserKNN-Cosine] Training started!\n",
            "\n",
            "[UserKNN-Cosine] Evaluation started!\n"
          ],
          "name": "stdout"
        },
        {
          "output_type": "display_data",
          "data": {
            "application/vnd.jupyter.widget-view+json": {
              "model_id": "ab7ee39051d94b1b97dffa07259984fb",
              "version_major": 2,
              "version_minor": 0
            },
            "text/plain": [
              "HBox(children=(FloatProgress(value=0.0, description='Ranking', max=9402.0, style=ProgressStyle(description_wid…"
            ]
          },
          "metadata": {
            "tags": []
          }
        },
        {
          "output_type": "stream",
          "text": [
            "\n",
            "\n",
            "[UserKNN-Cosine-MC] Training started!\n",
            "\n",
            "[UserKNN-Cosine-MC] Evaluation started!\n"
          ],
          "name": "stdout"
        },
        {
          "output_type": "display_data",
          "data": {
            "application/vnd.jupyter.widget-view+json": {
              "model_id": "fec50f149bdb4fc4b5126c1ec701e611",
              "version_major": 2,
              "version_minor": 0
            },
            "text/plain": [
              "HBox(children=(FloatProgress(value=0.0, description='Ranking', max=9402.0, style=ProgressStyle(description_wid…"
            ]
          },
          "metadata": {
            "tags": []
          }
        },
        {
          "output_type": "stream",
          "text": [
            "\n",
            "\n",
            "[UserKNN-Pearson] Training started!\n",
            "\n",
            "[UserKNN-Pearson] Evaluation started!\n"
          ],
          "name": "stdout"
        },
        {
          "output_type": "display_data",
          "data": {
            "application/vnd.jupyter.widget-view+json": {
              "model_id": "977d77cb996f4b85a95c6e44a98ccf2e",
              "version_major": 2,
              "version_minor": 0
            },
            "text/plain": [
              "HBox(children=(FloatProgress(value=0.0, description='Ranking', max=9402.0, style=ProgressStyle(description_wid…"
            ]
          },
          "metadata": {
            "tags": []
          }
        },
        {
          "output_type": "stream",
          "text": [
            "\n",
            "\n",
            "[UserKNN-Pearson-MC] Training started!\n",
            "\n",
            "[UserKNN-Pearson-MC] Evaluation started!\n"
          ],
          "name": "stdout"
        },
        {
          "output_type": "display_data",
          "data": {
            "application/vnd.jupyter.widget-view+json": {
              "model_id": "11a929ad1868454fb75872f365927722",
              "version_major": 2,
              "version_minor": 0
            },
            "text/plain": [
              "HBox(children=(FloatProgress(value=0.0, description='Ranking', max=9402.0, style=ProgressStyle(description_wid…"
            ]
          },
          "metadata": {
            "tags": []
          }
        },
        {
          "output_type": "stream",
          "text": [
            "\n",
            "\n",
            "TEST:\n",
            "...\n",
            "                   | NCRR@50 | NDCG@50 | Recall@50 | Train (s) | Test (s)\n",
            "------------------ + ------- + ------- + --------- + --------- + --------\n",
            "UserKNN-Cosine     |  0.0008 |  0.0018 |    0.0041 |    2.0458 | 492.0495\n",
            "UserKNN-Cosine-MC  |  0.0006 |  0.0015 |    0.0038 |    1.7970 | 490.4437\n",
            "UserKNN-Pearson    |  0.0006 |  0.0015 |    0.0038 |    1.8013 | 491.8315\n",
            "UserKNN-Pearson-MC |  0.0006 |  0.0015 |    0.0038 |    1.8140 | 489.8559\n",
            "\n"
          ],
          "name": "stdout"
        }
      ]
    },
    {
      "cell_type": "markdown",
      "metadata": {
        "colab_type": "text",
        "id": "lnXPUmgIaFMz"
      },
      "source": [
        "Item-based model"
      ]
    },
    {
      "cell_type": "code",
      "metadata": {
        "colab_type": "code",
        "id": "BUTsQILuDq3s",
        "colab": {
          "base_uri": "https://localhost:8080/",
          "height": 471,
          "referenced_widgets": [
            "7af121b3bd0b4ce6ba14dd59588eda5a",
            "afc601136c44410fb9741b37e73fbddb",
            "c905c20c97794fa8925dc7a025041eef",
            "5fbc81d697334876a7fe2ff9b4888815",
            "96f60e8f293b493784870e04261d59f6",
            "8d8b1b0caa994860a1c6f7307b0ecbef",
            "fd3d3318a1be4a37b56c5b864d2e7b4b",
            "dd3bbb323ad847ad96d74a6cdd04cdc0",
            "93a1a95348e24b788cec171058756183"
          ]
        },
        "outputId": "38dc148a-7702-4b5e-b63a-2e3e81170b63"
      },
      "source": [
        "# ItemKNN methods\n",
        "K = 50  # number of nearest neighbors\n",
        "iknn_cosine = ItemKNN(\n",
        "  k=K, similarity=\"cosine\", name=\"ItemKNN-Cosine\", verbose=VERBOSE\n",
        ")\n",
        "iknn_pearson = ItemKNN(\n",
        "  k=K, similarity=\"pearson\", name=\"ItemKNN-Pearson\", verbose=VERBOSE\n",
        ")\n",
        "\n",
        "\n",
        "eval_metrics = [\n",
        "    cornac.metrics.Recall(k=50),\n",
        "    cornac.metrics.NDCG(k=50),\n",
        "    cornac.metrics.NCRR(k=50),\n",
        "]\n",
        "\n",
        "base_split = BaseMethod.from_splits(\n",
        "    train_data=train_set,\n",
        "    test_data=test_set,\n",
        "    exclude_unknowns=False,\n",
        "    verbose=True,\n",
        ")\n",
        "cornac.Experiment(\n",
        "  eval_method=base_split, \n",
        "  models=[iknn_cosine, iknn_pearson],\n",
        "  metrics=eval_metrics,\n",
        ").run()"
      ],
      "execution_count": null,
      "outputs": [
        {
          "output_type": "stream",
          "text": [
            "rating_threshold = 1.0\n",
            "exclude_unknowns = False\n",
            "---\n",
            "Training data:\n",
            "Number of users = 9402\n",
            "Number of items = 12411\n",
            "Number of ratings = 146283\n",
            "Max rating = 5.0\n",
            "Min rating = 1.0\n",
            "Global mean = 4.1\n",
            "---\n",
            "Test data:\n",
            "Number of users = 9402\n",
            "Number of items = 11160\n",
            "Number of ratings = 75066\n",
            "Number of unknown users = 0\n",
            "Number of unknown items = 255\n",
            "---\n",
            "Total users = 9402\n",
            "Total items = 12666\n",
            "\n",
            "[ItemKNN-Cosine] Training started!\n",
            "\n",
            "[ItemKNN-Cosine] Evaluation started!\n"
          ],
          "name": "stdout"
        },
        {
          "output_type": "display_data",
          "data": {
            "application/vnd.jupyter.widget-view+json": {
              "model_id": "7af121b3bd0b4ce6ba14dd59588eda5a",
              "version_minor": 0,
              "version_major": 2
            },
            "text/plain": [
              "HBox(children=(FloatProgress(value=0.0, description='Ranking', max=9402.0, style=ProgressStyle(description_wid…"
            ]
          },
          "metadata": {
            "tags": []
          }
        },
        {
          "output_type": "stream",
          "text": [
            "\n",
            "\n",
            "[ItemKNN-Pearson] Training started!\n",
            "\n",
            "[ItemKNN-Pearson] Evaluation started!\n"
          ],
          "name": "stdout"
        },
        {
          "output_type": "display_data",
          "data": {
            "application/vnd.jupyter.widget-view+json": {
              "model_id": "93a1a95348e24b788cec171058756183",
              "version_minor": 0,
              "version_major": 2
            },
            "text/plain": [
              "HBox(children=(FloatProgress(value=0.0, description='Ranking', max=9402.0, style=ProgressStyle(description_wid…"
            ]
          },
          "metadata": {
            "tags": []
          }
        }
      ]
    },
    {
      "cell_type": "markdown",
      "metadata": {
        "colab_type": "text",
        "id": "rcgH0drfCq-6"
      },
      "source": [
        "matrix factorization"
      ]
    },
    {
      "cell_type": "code",
      "metadata": {
        "colab_type": "code",
        "id": "Vk5fE0vVtdnY",
        "colab": {
          "base_uri": "https://localhost:8080/",
          "height": 750,
          "referenced_widgets": [
            "0b815fbd7fa4474d9b182428290bd8b1",
            "6dcf553090604a1a873af97c3d458e39",
            "5a329e3dba6c4a1aa9e269c389676256",
            "78f0edeabf0c4718a00cebe60c7338f7",
            "9e7457cfb31849a592c11d21936f3432",
            "dfb9b7a8f77d468d9cbecd093a086dd0",
            "f6ed7def4535479f8db5c200aab3d653",
            "c828022af4ab47d9b4bac56b99b14894",
            "e94919ea06da46d19d1694ca4f3bc0b1",
            "4eef0319b27447a4bb8b28515f7586cb",
            "be0356b4518c452fae72d7b3ca95dc93",
            "3a932b4e991a4f2988a65c80760a44bb",
            "f10f0d9e9b9948f2bb7aaaf5a77d1c61",
            "65cf7dcd17814581bb14461738ba0d05",
            "6627686708294cc586af773f8f482311",
            "f007747d43a147a7a4bcb9c8c4c28c4c"
          ]
        },
        "outputId": "64def0c8-e16b-49f9-eef0-7efffa90ee70"
      },
      "source": [
        "K = 50\n",
        "wmf = WMF(k=K, max_iter=100, a=1.0, b=0.01, learning_rate=0.001, lambda_u=0.01, lambda_v=0.01,\n",
        "          verbose=VERBOSE, seed=SEED, name=f\"WMF(K={K})\")\n",
        "mf = MF(k=K, max_iter=20, learning_rate=0.01, lambda_reg=0.01, \n",
        "        verbose=VERBOSE, seed=SEED, name=f\"MF(K={K})\")\n",
        "\n",
        "eval_metrics = [\n",
        "    cornac.metrics.Recall(k=50),\n",
        "    cornac.metrics.NDCG(k=50),\n",
        "    cornac.metrics.NCRR(k=50),\n",
        "]\n",
        "\n",
        "base_split = BaseMethod.from_splits(\n",
        "    train_data=train_set,\n",
        "    test_data=test_set,\n",
        "    exclude_unknowns=False,\n",
        "    verbose=True,\n",
        ")\n",
        "rs = RatioSplit(train_set, test_size=0.2, seed=SEED, verbose=VERBOSE)\n",
        "\n",
        "cornac.Experiment(eval_method=base_split, models=[wmf, mf], metrics=eval_metrics).run()"
      ],
      "execution_count": null,
      "outputs": [
        {
          "output_type": "stream",
          "text": [
            "rating_threshold = 1.0\n",
            "exclude_unknowns = False\n",
            "---\n",
            "Training data:\n",
            "Number of users = 9402\n",
            "Number of items = 12411\n",
            "Number of ratings = 146283\n",
            "Max rating = 5.0\n",
            "Min rating = 1.0\n",
            "Global mean = 4.1\n",
            "---\n",
            "Test data:\n",
            "Number of users = 9402\n",
            "Number of items = 11160\n",
            "Number of ratings = 75066\n",
            "Number of unknown users = 0\n",
            "Number of unknown items = 255\n",
            "---\n",
            "Total users = 9402\n",
            "Total items = 12666\n",
            "\n",
            "[WMF(K=50)] Training started!\n",
            "\n",
            "[WMF(K=50)] Evaluation started!\n"
          ],
          "name": "stdout"
        },
        {
          "output_type": "display_data",
          "data": {
            "application/vnd.jupyter.widget-view+json": {
              "model_id": "0b815fbd7fa4474d9b182428290bd8b1",
              "version_major": 2,
              "version_minor": 0
            },
            "text/plain": [
              "HBox(children=(FloatProgress(value=0.0, description='Ranking', max=9402.0, style=ProgressStyle(description_wid…"
            ]
          },
          "metadata": {
            "tags": []
          }
        },
        {
          "output_type": "stream",
          "text": [
            "\n",
            "\n",
            "[MF(K=50)] Training started!\n",
            "\n",
            "[MF(K=50)] Evaluation started!\n"
          ],
          "name": "stdout"
        },
        {
          "output_type": "display_data",
          "data": {
            "application/vnd.jupyter.widget-view+json": {
              "model_id": "e94919ea06da46d19d1694ca4f3bc0b1",
              "version_major": 2,
              "version_minor": 0
            },
            "text/plain": [
              "HBox(children=(FloatProgress(value=0.0, description='Ranking', max=9402.0, style=ProgressStyle(description_wid…"
            ]
          },
          "metadata": {
            "tags": []
          }
        },
        {
          "output_type": "stream",
          "text": [
            "\n",
            "\n",
            "TEST:\n",
            "...\n",
            "          | NCRR@50 | NDCG@50 | Recall@50 | Train (s) | Test (s)\n",
            "--------- + ------- + ------- + --------- + --------- + --------\n",
            "WMF(K=50) |  0.0919 |  0.1552 |    0.2930 |  138.9773 |  21.9437\n",
            "MF(K=50)  |  0.0023 |  0.0034 |    0.0059 |    0.4947 |  20.6127\n",
            "\n"
          ],
          "name": "stdout"
        }
      ]
    },
    {
      "cell_type": "markdown",
      "metadata": {
        "colab_type": "text",
        "id": "GkJzPS_mk7je"
      },
      "source": [
        "Bayesian Personalized Ranking"
      ]
    },
    {
      "cell_type": "code",
      "metadata": {
        "colab_type": "code",
        "id": "D6Uyif3amrcI",
        "colab": {
          "base_uri": "https://localhost:8080/",
          "height": 140
        },
        "outputId": "a50c7b2e-a0f4-43be-c7fd-844b1b174e9d"
      },
      "source": [
        "K = 50\n",
        "bpr = BPR(k=K, max_iter=200, learning_rate=0.01, lambda_reg=0.001, \n",
        "          verbose=VERBOSE, seed=SEED, name=f\"BPR(K={K})\")\n",
        "rs = RatioSplit(train_set, test_size=0.2, seed=SEED, verbose=VERBOSE)\n",
        "eval_metrics = [\n",
        "  cornac.metrics.FMeasure(k=50),cornac.metrics.Recall(50)\n",
        "]\n",
        "cornac.Experiment(eval_method=rs, models=[bpr], metrics=eval_metrics).run()"
      ],
      "execution_count": null,
      "outputs": [
        {
          "output_type": "stream",
          "text": [
            "\n",
            "TEST:\n",
            "...\n",
            "          |  F1@50 | Recall@50 | Train (s) | Test (s)\n",
            "--------- + ------ + --------- + --------- + --------\n",
            "BPR(K=50) | 0.0257 |    0.2378 |   16.0166 |  19.2051\n",
            "\n"
          ],
          "name": "stdout"
        }
      ]
    },
    {
      "cell_type": "markdown",
      "metadata": {
        "colab_type": "text",
        "id": "Gyvcl5GBqy0x"
      },
      "source": [
        "First on choice of number of latent factors. The below results show that the optimal K value is between 30 and 50. If K is more than 50, model overfits and test accuracy decreases. "
      ]
    },
    {
      "cell_type": "code",
      "metadata": {
        "colab_type": "code",
        "id": "nrjj1FEPCLxw",
        "colab": {
          "base_uri": "https://localhost:8080/",
          "height": 175
        },
        "outputId": "e4335dbc-a902-486b-b0db-964d79c4724a"
      },
      "source": [
        "K=30 \n",
        "train_set = list(train_df.itertuples(index=False))\n",
        "wmf_lr01 = WMF(k=K, max_iter=100, a=1.0, b=0.01, learning_rate=0.01, lambda_u=0.01, lambda_v=0.01,\n",
        "          verbose=VERBOSE, seed=SEED, name=f\"WMF(K={K})\")\n",
        "wmf_lr005 = WMF(k=K, max_iter=100, a=1.0, b=0.01, learning_rate=0.005, lambda_u=0.01, lambda_v=0.01,\n",
        "          verbose=VERBOSE, seed=SEED, name=f\"WMF(K={K})\")\n",
        "\n",
        "wmf_lr0001 = WMF(k=K, max_iter=100, a=1.0, b=0.01, learning_rate=0.0001, lambda_u=0.01, lambda_v=0.01,\n",
        "          verbose=VERBOSE, seed=SEED, name=f\"WMF(K={K})\")\n",
        "\n",
        "eval_metrics = [\n",
        "  cornac.metrics.FMeasure(k=50),cornac.metrics.Recall(50)\n",
        "]\n",
        "\n",
        "rs = RatioSplit(train_set, test_size=0.2, seed=SEED, verbose=VERBOSE)\n",
        "\n",
        "cornac.Experiment(eval_method=rs, models=[wmf_lr01,wmf_lr005,wmf_lr0001], metrics=eval_metrics).run()"
      ],
      "execution_count": null,
      "outputs": [
        {
          "output_type": "stream",
          "text": [
            "\n",
            "TEST:\n",
            "...\n",
            "          |  F1@50 | Recall@50 | Train (s) | Test (s)\n",
            "--------- + ------ + --------- + --------- + --------\n",
            "WMF(K=30) | 0.0284 |    0.2728 |  290.7241 |  17.2999\n",
            "WMF(K=30) | 0.0287 |    0.2746 |  294.2089 |  17.5066\n",
            "WMF(K=30) | 0.0047 |    0.0422 |  299.8173 |  17.6502\n",
            "\n"
          ],
          "name": "stdout"
        }
      ]
    },
    {
      "cell_type": "markdown",
      "metadata": {
        "colab_type": "text",
        "id": "wJqlsUd1eKUs"
      },
      "source": [
        "Neural Matrix Factorization"
      ]
    },
    {
      "cell_type": "code",
      "metadata": {
        "colab_type": "code",
        "id": "s9fX6JI7eOwj",
        "colab": {
          "base_uri": "https://localhost:8080/",
          "height": 190,
          "referenced_widgets": [
            "ef2c141b5c5b4174bdf04abf8f298ed1",
            "90821ec348c54039b8835eb278762472",
            "9b7d40397268443dbd9d497c969d10a6",
            "a559685c8e974771b1498c90b37c76e6",
            "87c34400b9f24270b5bfe04a7792a5a7",
            "8afdbea2bc584180bb47adfc2317acbf",
            "0d811964d66d4c24bf4b38e1ea99b948",
            "4105cbb6dbfe4be5abebb20f9d90f6b7"
          ]
        },
        "outputId": "c49779b4-a46f-4b9c-be18-6e24d98d3b2c"
      },
      "source": [
        "\n",
        "train_set = list(train_df.itertuples(index=False,name = None))\n",
        "neumf = NeuMF(name='NeuMF', num_factors=30, layers=(128,64,32, 16), act_fn='relu', reg_mf=0.0,reg_layers=(0.0, 0.0, 0.0, 0.0), num_epochs=20,batch_size=256, num_neg=4, lr=0.001,learner='adam', early_stopping=None, trainable=True, verbose=True, seed=None)\n",
        "\n",
        "\n",
        "\n",
        "eval_metrics = [\n",
        "  cornac.metrics.FMeasure(k=50),cornac.metrics.Recall(50)\n",
        "]\n",
        "\n",
        "rs = RatioSplit(train_set, test_size=0.2, seed=SEED, verbose=VERBOSE)\n",
        "\n",
        "cornac.Experiment(eval_method=rs, models=[neumf], metrics=eval_metrics).run()"
      ],
      "execution_count": null,
      "outputs": [
        {
          "output_type": "display_data",
          "data": {
            "application/vnd.jupyter.widget-view+json": {
              "model_id": "ef2c141b5c5b4174bdf04abf8f298ed1",
              "version_major": 2,
              "version_minor": 0
            },
            "text/plain": [
              "HBox(children=(FloatProgress(value=0.0, max=20.0), HTML(value='')))"
            ]
          },
          "metadata": {
            "tags": []
          }
        },
        {
          "output_type": "stream",
          "text": [
            "\n",
            "\n",
            "TEST:\n",
            "...\n",
            "      |  F1@50 | Recall@50 | Train (s) | Test (s)\n",
            "----- + ------ + --------- + --------- + --------\n",
            "NeuMF | 0.0250 |    0.2456 |  359.2256 | 103.6589\n",
            "\n"
          ],
          "name": "stdout"
        }
      ]
    },
    {
      "cell_type": "code",
      "metadata": {
        "colab_type": "code",
        "id": "rqSLgzvTgKjB",
        "colab": {
          "base_uri": "https://localhost:8080/",
          "height": 195
        },
        "outputId": "243436b2-b491-485b-df09-939dbf8fcf1a"
      },
      "source": [
        "#below 4 as negative rating otherwise pos\n",
        "train_df_new = train_df\n",
        "train_df_new['PON'] =  np.where(train_df_new['Rating']<4, 'neg', 'pos')\n",
        "#train_df_new['User_Pos'] =''\n",
        "#train_df_new['Item_Pos'] = ''\n",
        "train_df_new.head()"
      ],
      "execution_count": null,
      "outputs": [
        {
          "output_type": "execute_result",
          "data": {
            "text/html": [
              "<div>\n",
              "<style scoped>\n",
              "    .dataframe tbody tr th:only-of-type {\n",
              "        vertical-align: middle;\n",
              "    }\n",
              "\n",
              "    .dataframe tbody tr th {\n",
              "        vertical-align: top;\n",
              "    }\n",
              "\n",
              "    .dataframe thead th {\n",
              "        text-align: right;\n",
              "    }\n",
              "</style>\n",
              "<table border=\"1\" class=\"dataframe\">\n",
              "  <thead>\n",
              "    <tr style=\"text-align: right;\">\n",
              "      <th></th>\n",
              "      <th>UserID</th>\n",
              "      <th>ItemID</th>\n",
              "      <th>Rating</th>\n",
              "      <th>PON</th>\n",
              "    </tr>\n",
              "  </thead>\n",
              "  <tbody>\n",
              "    <tr>\n",
              "      <th>0</th>\n",
              "      <td>2923</td>\n",
              "      <td>7476</td>\n",
              "      <td>4</td>\n",
              "      <td>pos</td>\n",
              "    </tr>\n",
              "    <tr>\n",
              "      <th>1</th>\n",
              "      <td>2923</td>\n",
              "      <td>6318</td>\n",
              "      <td>5</td>\n",
              "      <td>pos</td>\n",
              "    </tr>\n",
              "    <tr>\n",
              "      <th>2</th>\n",
              "      <td>2923</td>\n",
              "      <td>4595</td>\n",
              "      <td>5</td>\n",
              "      <td>pos</td>\n",
              "    </tr>\n",
              "    <tr>\n",
              "      <th>3</th>\n",
              "      <td>2923</td>\n",
              "      <td>7264</td>\n",
              "      <td>5</td>\n",
              "      <td>pos</td>\n",
              "    </tr>\n",
              "    <tr>\n",
              "      <th>4</th>\n",
              "      <td>2923</td>\n",
              "      <td>8325</td>\n",
              "      <td>5</td>\n",
              "      <td>pos</td>\n",
              "    </tr>\n",
              "  </tbody>\n",
              "</table>\n",
              "</div>"
            ],
            "text/plain": [
              "   UserID  ItemID  Rating  PON\n",
              "0    2923    7476       4  pos\n",
              "1    2923    6318       5  pos\n",
              "2    2923    4595       5  pos\n",
              "3    2923    7264       5  pos\n",
              "4    2923    8325       5  pos"
            ]
          },
          "metadata": {
            "tags": []
          },
          "execution_count": 64
        }
      ]
    },
    {
      "cell_type": "code",
      "metadata": {
        "colab_type": "code",
        "id": "asM50C5KigAO",
        "colab": {}
      },
      "source": [
        "# Transform to a count\n",
        "#train_df_new.groupby(['UserID','PON'])['PON'].count()\n",
        "#train_df_new.groupby(['UserID'])['UserID'].count()\n",
        "\n",
        "User_Res = train_df_new.groupby(['UserID','PON']).agg({'PON': 'count'})\n",
        "# Change: groupby state_office and divide by sum\n",
        "User_Per = User_Res.groupby(level=0).apply(lambda x:\n",
        "                                                  x / float(x.sum()))"
      ],
      "execution_count": null,
      "outputs": []
    },
    {
      "cell_type": "code",
      "metadata": {
        "colab_type": "code",
        "id": "cKPuYPsBqU7e",
        "colab": {}
      },
      "source": [
        "User_Per.columns =['Perc']\n",
        "#User_Per.reset_index(drop=False)"
      ],
      "execution_count": null,
      "outputs": []
    },
    {
      "cell_type": "code",
      "metadata": {
        "colab_type": "code",
        "id": "TFAvFQyXsnkn",
        "colab": {
          "base_uri": "https://localhost:8080/",
          "height": 195
        },
        "outputId": "9af16848-9975-47bc-c5da-4e25279970f6"
      },
      "source": [
        "User_Per=User_Per.reset_index(drop=False)\n",
        "User_Per.head()"
      ],
      "execution_count": null,
      "outputs": [
        {
          "output_type": "execute_result",
          "data": {
            "text/html": [
              "<div>\n",
              "<style scoped>\n",
              "    .dataframe tbody tr th:only-of-type {\n",
              "        vertical-align: middle;\n",
              "    }\n",
              "\n",
              "    .dataframe tbody tr th {\n",
              "        vertical-align: top;\n",
              "    }\n",
              "\n",
              "    .dataframe thead th {\n",
              "        text-align: right;\n",
              "    }\n",
              "</style>\n",
              "<table border=\"1\" class=\"dataframe\">\n",
              "  <thead>\n",
              "    <tr style=\"text-align: right;\">\n",
              "      <th></th>\n",
              "      <th>UserID</th>\n",
              "      <th>PON</th>\n",
              "      <th>Perc</th>\n",
              "    </tr>\n",
              "  </thead>\n",
              "  <tbody>\n",
              "    <tr>\n",
              "      <th>0</th>\n",
              "      <td>1</td>\n",
              "      <td>neg</td>\n",
              "      <td>0.250000</td>\n",
              "    </tr>\n",
              "    <tr>\n",
              "      <th>1</th>\n",
              "      <td>1</td>\n",
              "      <td>pos</td>\n",
              "      <td>0.750000</td>\n",
              "    </tr>\n",
              "    <tr>\n",
              "      <th>2</th>\n",
              "      <td>2</td>\n",
              "      <td>neg</td>\n",
              "      <td>0.227273</td>\n",
              "    </tr>\n",
              "    <tr>\n",
              "      <th>3</th>\n",
              "      <td>2</td>\n",
              "      <td>pos</td>\n",
              "      <td>0.772727</td>\n",
              "    </tr>\n",
              "    <tr>\n",
              "      <th>4</th>\n",
              "      <td>3</td>\n",
              "      <td>neg</td>\n",
              "      <td>0.333333</td>\n",
              "    </tr>\n",
              "  </tbody>\n",
              "</table>\n",
              "</div>"
            ],
            "text/plain": [
              "   UserID  PON      Perc\n",
              "0       1  neg  0.250000\n",
              "1       1  pos  0.750000\n",
              "2       2  neg  0.227273\n",
              "3       2  pos  0.772727\n",
              "4       3  neg  0.333333"
            ]
          },
          "metadata": {
            "tags": []
          },
          "execution_count": 101
        }
      ]
    },
    {
      "cell_type": "code",
      "metadata": {
        "colab_type": "code",
        "id": "nc79A3jHs7Ya",
        "colab": {}
      },
      "source": [
        "# Transform to a count\n",
        "#train_df_new.groupby(['UserID','PON'])['PON'].count()\n",
        "#train_df_new.groupby(['UserID'])['UserID'].count()\n",
        "\n",
        "Item_Res = train_df_new.groupby(['ItemID','PON']).agg({'PON': 'count'})\n",
        "# Change: groupby state_office and divide by sum\n",
        "Item_Per = Item_Res.groupby(level=0).apply(lambda x:\n",
        "                                                  x / float(x.sum()))"
      ],
      "execution_count": null,
      "outputs": []
    },
    {
      "cell_type": "code",
      "metadata": {
        "colab_type": "code",
        "id": "VFrNpttKs7ox",
        "colab": {
          "base_uri": "https://localhost:8080/",
          "height": 195
        },
        "outputId": "98c6c297-e936-4420-ab8a-6a76d4e9d2ce"
      },
      "source": [
        "Item_Per.columns =['Perc']\n",
        "Item_Per=Item_Per.reset_index(drop=False)\n",
        "Item_Per.head()"
      ],
      "execution_count": null,
      "outputs": [
        {
          "output_type": "execute_result",
          "data": {
            "text/html": [
              "<div>\n",
              "<style scoped>\n",
              "    .dataframe tbody tr th:only-of-type {\n",
              "        vertical-align: middle;\n",
              "    }\n",
              "\n",
              "    .dataframe tbody tr th {\n",
              "        vertical-align: top;\n",
              "    }\n",
              "\n",
              "    .dataframe thead th {\n",
              "        text-align: right;\n",
              "    }\n",
              "</style>\n",
              "<table border=\"1\" class=\"dataframe\">\n",
              "  <thead>\n",
              "    <tr style=\"text-align: right;\">\n",
              "      <th></th>\n",
              "      <th>ItemID</th>\n",
              "      <th>PON</th>\n",
              "      <th>Perc</th>\n",
              "    </tr>\n",
              "  </thead>\n",
              "  <tbody>\n",
              "    <tr>\n",
              "      <th>0</th>\n",
              "      <td>1</td>\n",
              "      <td>pos</td>\n",
              "      <td>1.000000</td>\n",
              "    </tr>\n",
              "    <tr>\n",
              "      <th>1</th>\n",
              "      <td>2</td>\n",
              "      <td>neg</td>\n",
              "      <td>0.040000</td>\n",
              "    </tr>\n",
              "    <tr>\n",
              "      <th>2</th>\n",
              "      <td>2</td>\n",
              "      <td>pos</td>\n",
              "      <td>0.960000</td>\n",
              "    </tr>\n",
              "    <tr>\n",
              "      <th>3</th>\n",
              "      <td>3</td>\n",
              "      <td>neg</td>\n",
              "      <td>0.181818</td>\n",
              "    </tr>\n",
              "    <tr>\n",
              "      <th>4</th>\n",
              "      <td>3</td>\n",
              "      <td>pos</td>\n",
              "      <td>0.818182</td>\n",
              "    </tr>\n",
              "  </tbody>\n",
              "</table>\n",
              "</div>"
            ],
            "text/plain": [
              "   ItemID  PON      Perc\n",
              "0       1  pos  1.000000\n",
              "1       2  neg  0.040000\n",
              "2       2  pos  0.960000\n",
              "3       3  neg  0.181818\n",
              "4       3  pos  0.818182"
            ]
          },
          "metadata": {
            "tags": []
          },
          "execution_count": 103
        }
      ]
    },
    {
      "cell_type": "code",
      "metadata": {
        "colab_type": "code",
        "id": "VtCjN6k-G4dX",
        "colab": {}
      },
      "source": [
        "item_score_lst=[]\n",
        "for i in range(0,12411):\n",
        "  data_id = Item_Per['ItemID'] == i\n",
        "  data_pos = Item_Per['PON'] == 'pos'\n",
        "  all_filter2 = data_id & data_pos\n",
        "  if (Item_Per[all_filter2]['Perc'].empty):\n",
        "    score2=0\n",
        "  else:\n",
        "    score2=float(Item_Per[all_filter2]['Perc'])\n",
        "  item_score_lst.append(score2)\n"
      ],
      "execution_count": null,
      "outputs": []
    },
    {
      "cell_type": "code",
      "metadata": {
        "colab_type": "code",
        "id": "sx_N93f1Ik0Y",
        "colab": {}
      },
      "source": [
        "user_score_lst=[]\n",
        "for i in range(0,12411):\n",
        "  data_id = User_Per['UserID'] == i\n",
        "  data_pos = User_Per['PON'] == 'pos'\n",
        "  all_filter2 = data_id & data_pos\n",
        "  if (User_Per[all_filter2]['Perc'].empty):\n",
        "    score2=0\n",
        "  else:\n",
        "    score2=float(User_Per[all_filter2]['Perc'])\n",
        "  user_score_lst.append(score2)\n"
      ],
      "execution_count": null,
      "outputs": []
    },
    {
      "cell_type": "code",
      "metadata": {
        "colab_type": "code",
        "id": "2vGp2O4Ds7ge",
        "colab": {
          "base_uri": "https://localhost:8080/",
          "height": 87
        },
        "outputId": "a3a08233-d07e-41d3-a353-95fbeb6e3391"
      },
      "source": [
        "#calculate probability \n",
        "train_df_new['Score'] = ''\n",
        "for i in range(0,train_df_new.shape[0]):\n",
        "  cur_userId = train_df_new['UserID'][i]\n",
        "  cur_itemId = train_df_new['ItemID'][i]\n",
        "  data_id = User_Per['UserID'] == cur_userId\n",
        "  data_pos = User_Per['PON'] == 'pos'\n",
        "  all_filter1 = data_id & data_pos\n",
        "\n",
        "  data_id = Item_Per['ItemID'] == cur_itemId\n",
        "  data_pos = Item_Per['PON'] == 'pos'\n",
        "  all_filter2 = data_id & data_pos\n",
        "  if (Item_Per[all_filter2]['Perc'].empty):\n",
        "    score2=0\n",
        "  else:\n",
        "    score2=float(Item_Per[all_filter2]['Perc'])\n",
        "  if  User_Per[all_filter1]['Perc'].empty:\n",
        "    score1=0\n",
        "  else:\n",
        "    score1=float(User_Per[all_filter1]['Perc'])\n",
        "  score =score1+score2\n",
        "  train_df_new['Score'][i]=score"
      ],
      "execution_count": null,
      "outputs": [
        {
          "output_type": "stream",
          "text": [
            "/usr/local/lib/python3.6/dist-packages/ipykernel_launcher.py:22: SettingWithCopyWarning: \n",
            "A value is trying to be set on a copy of a slice from a DataFrame\n",
            "\n",
            "See the caveats in the documentation: https://pandas.pydata.org/pandas-docs/stable/user_guide/indexing.html#returning-a-view-versus-a-copy\n"
          ],
          "name": "stderr"
        }
      ]
    },
    {
      "cell_type": "code",
      "metadata": {
        "colab_type": "code",
        "id": "FdA-7EtRs7Rr",
        "colab": {}
      },
      "source": [
        "train_df_new.to_csv('trained_data.csv',index=False)\n",
        "from google.colab import files\n",
        "files.download('trained_data.csv')"
      ],
      "execution_count": null,
      "outputs": []
    },
    {
      "cell_type": "code",
      "metadata": {
        "colab_type": "code",
        "id": "atPwcF9FJ8b5",
        "colab": {}
      },
      "source": [
        "train_df_new2 = train_df_new[train_df_new.columns[[0,1,4]]]\n",
        "train_df_new2.head()\n",
        "train_df_new2.columns=['UserID','ItemID','Rating']"
      ],
      "execution_count": null,
      "outputs": []
    },
    {
      "cell_type": "code",
      "metadata": {
        "colab_type": "code",
        "id": "Rtx7WSQDPCkB",
        "colab": {
          "base_uri": "https://localhost:8080/",
          "height": 281
        },
        "outputId": "48006c74-75f3-4ace-8cbe-86af16e330bb"
      },
      "source": [
        "K= 30\n",
        "\n",
        "train_set = list(train_df_new2.itertuples(index=False,name = None))\n",
        "wmf_30 = WMF(k=K, max_iter=100, a=1.0, b=0.01, learning_rate=0.001, lambda_u=0.01, lambda_v=0.01,\n",
        "          verbose=VERBOSE, seed=SEED, name=f\"WMF(K={K})\")\n",
        "mf_30 = MF(k=K, max_iter=20, learning_rate=0.01, lambda_reg=0.01, \n",
        "        verbose=VERBOSE, seed=SEED, name=f\"MF(K={K})\")\n",
        "bpr_30 = BPR(k=K, max_iter=200, learning_rate=0.01, lambda_reg=0.001, \n",
        "          verbose=VERBOSE, seed=SEED, name=f\"BPR(K={K})\")\n",
        "K= 50\n",
        "wmf_50 = WMF(k=K, max_iter=100, a=1.0, b=0.01, learning_rate=0.001, lambda_u=0.01, lambda_v=0.01,\n",
        "          verbose=VERBOSE, seed=SEED, name=f\"WMF(K={K})\")\n",
        "mf_50 = MF(k=K, max_iter=20, learning_rate=0.01, lambda_reg=0.01, \n",
        "        verbose=VERBOSE, seed=SEED, name=f\"MF(K={K})\")\n",
        "bpr_50 = BPR(k=K, max_iter=200, learning_rate=0.01, lambda_reg=0.001, \n",
        "          verbose=VERBOSE, seed=SEED, name=f\"BPR(K={K})\")\n",
        "K= 100\n",
        "wmf_100 = WMF(k=K, max_iter=100, a=1.0, b=0.01, learning_rate=0.001, lambda_u=0.01, lambda_v=0.01,\n",
        "          verbose=VERBOSE, seed=SEED, name=f\"WMF(K={K})\")\n",
        "mf_100 = MF(k=K, max_iter=20, learning_rate=0.01, lambda_reg=0.01, \n",
        "        verbose=VERBOSE, seed=SEED, name=f\"MF(K={K})\")\n",
        "bpr_100 = BPR(k=K, max_iter=200, learning_rate=0.01, lambda_reg=0.001, \n",
        "          verbose=VERBOSE, seed=SEED, name=f\"BPR(K={K})\")\n",
        "\n",
        "eval_metrics = [\n",
        "  cornac.metrics.FMeasure(k=50),cornac.metrics.Recall(50)\n",
        "]\n",
        "\n",
        "rs = RatioSplit(train_set, test_size=0.2, seed=SEED, verbose=VERBOSE)\n",
        "\n",
        "cornac.Experiment(eval_method=rs, models=[wmf_30,mf_30,bpr_30,wmf_50,mf_50,bpr_50,wmf_100,mf_100,bpr_100], metrics=eval_metrics).run()"
      ],
      "execution_count": null,
      "outputs": [
        {
          "output_type": "stream",
          "text": [
            "\n",
            "TEST:\n",
            "...\n",
            "           |  F1@50 | Recall@50 | Train (s) | Test (s)\n",
            "---------- + ------ + --------- + --------- + --------\n",
            "WMF(K=30)  | 0.0302 |    0.3033 |  279.5926 |  18.9573\n",
            "MF(K=30)   | 0.0007 |    0.0062 |    0.3356 |  15.4382\n",
            "BPR(K=30)  | 0.0258 |    0.2503 |    8.4723 |  15.1449\n",
            "WMF(K=50)  | 0.0283 |    0.2870 |  311.9735 |  15.0425\n",
            "MF(K=50)   | 0.0007 |    0.0061 |    0.4873 |  15.6742\n",
            "BPR(K=50)  | 0.0256 |    0.2466 |   10.3156 |  15.2996\n",
            "WMF(K=100) | 0.0264 |    0.2731 |  432.9507 |  15.8171\n",
            "MF(K=100)  | 0.0007 |    0.0062 |    0.8713 |  14.8946\n",
            "BPR(K=100) | 0.0253 |    0.2435 |   16.2449 |  14.6808\n",
            "\n"
          ],
          "name": "stdout"
        }
      ]
    },
    {
      "cell_type": "code",
      "metadata": {
        "colab_type": "code",
        "id": "4y5zH08vWM9t",
        "colab": {
          "base_uri": "https://localhost:8080/",
          "height": 210
        },
        "outputId": "d8d2f699-5705-4561-f9ec-8652eee38df6"
      },
      "source": [
        "train_set = list(train_df_new2.itertuples(index=False,name = None))\n",
        "\n",
        "K= 15 \n",
        "wmf_15 = WMF(k=K, max_iter=100, a=1.0, b=0.01, learning_rate=0.001, lambda_u=0.01, lambda_v=0.01,\n",
        "          verbose=VERBOSE, seed=SEED, name=f\"WMF(K={K})\")\n",
        "\n",
        "K= 20 \n",
        "wmf_20 = WMF(k=K, max_iter=100, a=1.0, b=0.01, learning_rate=0.001, lambda_u=0.01, lambda_v=0.01,\n",
        "          verbose=VERBOSE, seed=SEED, name=f\"WMF(K={K})\")\n",
        "\n",
        "K= 25\n",
        "wmf_25 = WMF(k=K, max_iter=100, a=1.0, b=0.01, learning_rate=0.001, lambda_u=0.01, lambda_v=0.01,\n",
        "          verbose=VERBOSE, seed=SEED, name=f\"WMF(K={K})\")\n",
        "\n",
        "K= 35\n",
        "wmf_35 = WMF(k=K, max_iter=100, a=1.0, b=0.01, learning_rate=0.001, lambda_u=0.01, lambda_v=0.01,\n",
        "          verbose=VERBOSE, seed=SEED, name=f\"WMF(K={K})\")\n",
        "\n",
        "K= 40\n",
        "wmf_40 = WMF(k=K, max_iter=100, a=1.0, b=0.01, learning_rate=0.001, lambda_u=0.01, lambda_v=0.01,\n",
        "          verbose=VERBOSE, seed=SEED, name=f\"WMF(K={K})\")\n",
        "\n",
        "eval_metrics = [\n",
        "  cornac.metrics.FMeasure(k=50),cornac.metrics.Recall(50)\n",
        "]\n",
        "\n",
        "rs = RatioSplit(train_set, test_size=0.2, seed=SEED, verbose=VERBOSE)\n",
        "\n",
        "cornac.Experiment(eval_method=rs, models=[wmf_15,wmf_20,wmf_25,wmf_35,wmf_40], metrics=eval_metrics).run()"
      ],
      "execution_count": null,
      "outputs": [
        {
          "output_type": "stream",
          "text": [
            "\n",
            "TEST:\n",
            "...\n",
            "          |  F1@50 | Recall@50 | Train (s) | Test (s)\n",
            "--------- + ------ + --------- + --------- + --------\n",
            "WMF(K=15) | 0.0297 |    0.2971 |  230.0189 |  14.4443\n",
            "WMF(K=20) | 0.0301 |    0.3019 |  246.7829 |  14.3230\n",
            "WMF(K=25) | 0.0299 |    0.3018 |  262.3031 |  14.7621\n",
            "WMF(K=35) | 0.0299 |    0.3037 |  287.4748 |  14.8992\n",
            "WMF(K=40) | 0.0294 |    0.2977 |  283.5247 |  14.6316\n",
            "\n"
          ],
          "name": "stdout"
        }
      ]
    },
    {
      "cell_type": "code",
      "metadata": {
        "colab_type": "code",
        "id": "bgZteNKTJ5Wj",
        "colab": {
          "base_uri": "https://localhost:8080/",
          "height": 34
        },
        "outputId": "52e3dcc2-6d9b-4750-b9c9-f3855b7a7b6f"
      },
      "source": [
        "K=35\n",
        "wmf = WMF(k=K, max_iter=100, a=1.0, b=0.01, learning_rate=0.001, lambda_u=0.01, lambda_v=0.01,\n",
        "          verbose=VERBOSE, seed=SEED, name=f\"WMF(K={K})\")\n",
        "train_set = cornac.data.Dataset.from_uir(train_df_new2.itertuples(index=False), seed=SEED)\n",
        "wmf.fit(train_set)"
      ],
      "execution_count": null,
      "outputs": [
        {
          "output_type": "execute_result",
          "data": {
            "text/plain": [
              "<cornac.models.wmf.recom_wmf.WMF at 0x7fe4c209bb00>"
            ]
          },
          "metadata": {
            "tags": []
          },
          "execution_count": 176
        }
      ]
    },
    {
      "cell_type": "code",
      "metadata": {
        "colab_type": "code",
        "id": "zjTllrJdLpxK",
        "colab": {}
      },
      "source": [
        "user_id2idx = wmf.train_set.uid_map\n",
        "user_idx2id = list(wmf.train_set.user_ids)\n",
        "item_id2idx = wmf.train_set.iid_map\n",
        "item_idx2id = list(wmf.train_set.item_ids)\n",
        "user_rec_lst = []\n",
        "user_id_lst=[]\n",
        "num_of_user = train_df.UserID.nunique()\n",
        "\n",
        "for i in range(0,num_of_user):\n",
        "  UIDX = i\n",
        "  recommendations, scores = wmf.rank(UIDX)\n",
        "  user_idx = user_idx2id[i]\n",
        "  \n",
        "  user_rec_lst.append([int(item_idx2id[j]) for j in recommendations[:50]])\n",
        "  user_id_lst.append(user_idx)\n",
        "\n",
        "output_lst = [x for _,x in sorted(zip(user_id_lst,user_rec_lst))]"
      ],
      "execution_count": null,
      "outputs": []
    },
    {
      "cell_type": "code",
      "metadata": {
        "colab_type": "code",
        "id": "2U5gSpwU-YfQ",
        "colab": {
          "base_uri": "https://localhost:8080/",
          "height": 87
        },
        "outputId": "8e20da3a-95ad-411b-cce1-66d4aaee5b64"
      },
      "source": [
        "#calculate probability \n",
        "pred_df_new = pred_df\n",
        "pred_df_new['Score'] = ''\n",
        "for i in range(0,pred_df_new.shape[0]):\n",
        "  cur_userId = pred_df_new['UserID'][i]\n",
        "  cur_itemId = pred_df_new['ItemID'][i]\n",
        "  data_id = User_Per['UserID'] == cur_userId\n",
        "  data_pos = User_Per['PON'] == 'pos'\n",
        "  all_filter1 = data_id & data_pos\n",
        "\n",
        "  data_id = Item_Per['ItemID'] == cur_itemId\n",
        "  data_pos = Item_Per['PON'] == 'pos'\n",
        "  all_filter2 = data_id & data_pos\n",
        "  if (Item_Per[all_filter2]['Perc'].empty):\n",
        "    score2=0\n",
        "  else:\n",
        "    score2=float(Item_Per[all_filter2]['Perc'])\n",
        "  if  User_Per[all_filter1]['Perc'].empty:\n",
        "    score1=0\n",
        "  else:\n",
        "    score1=float(User_Per[all_filter1]['Perc'])\n",
        "  score =score1+score2\n",
        "  pred_df_new['Score'][i]=score"
      ],
      "execution_count": null,
      "outputs": [
        {
          "output_type": "stream",
          "text": [
            "/usr/local/lib/python3.6/dist-packages/ipykernel_launcher.py:23: SettingWithCopyWarning: \n",
            "A value is trying to be set on a copy of a slice from a DataFrame\n",
            "\n",
            "See the caveats in the documentation: https://pandas.pydata.org/pandas-docs/stable/user_guide/indexing.html#returning-a-view-versus-a-copy\n"
          ],
          "name": "stderr"
        }
      ]
    },
    {
      "cell_type": "code",
      "metadata": {
        "colab_type": "code",
        "id": "wgZ_16_OBLaw",
        "colab": {
          "base_uri": "https://localhost:8080/",
          "height": 402
        },
        "outputId": "b7b911bf-c2e2-419a-bba5-3451b485edf7"
      },
      "source": [
        "pred_df_new"
      ],
      "execution_count": null,
      "outputs": [
        {
          "output_type": "execute_result",
          "data": {
            "text/html": [
              "<div>\n",
              "<style scoped>\n",
              "    .dataframe tbody tr th:only-of-type {\n",
              "        vertical-align: middle;\n",
              "    }\n",
              "\n",
              "    .dataframe tbody tr th {\n",
              "        vertical-align: top;\n",
              "    }\n",
              "\n",
              "    .dataframe thead th {\n",
              "        text-align: right;\n",
              "    }\n",
              "</style>\n",
              "<table border=\"1\" class=\"dataframe\">\n",
              "  <thead>\n",
              "    <tr style=\"text-align: right;\">\n",
              "      <th></th>\n",
              "      <th>UserID</th>\n",
              "      <th>ItemID</th>\n",
              "      <th>Rating</th>\n",
              "      <th>Score</th>\n",
              "    </tr>\n",
              "  </thead>\n",
              "  <tbody>\n",
              "    <tr>\n",
              "      <th>0</th>\n",
              "      <td>2923</td>\n",
              "      <td>8644</td>\n",
              "      <td>3</td>\n",
              "      <td>1.60784</td>\n",
              "    </tr>\n",
              "    <tr>\n",
              "      <th>1</th>\n",
              "      <td>2923</td>\n",
              "      <td>11639</td>\n",
              "      <td>5</td>\n",
              "      <td>1.77273</td>\n",
              "    </tr>\n",
              "    <tr>\n",
              "      <th>2</th>\n",
              "      <td>2923</td>\n",
              "      <td>4494</td>\n",
              "      <td>5</td>\n",
              "      <td>1.85714</td>\n",
              "    </tr>\n",
              "    <tr>\n",
              "      <th>3</th>\n",
              "      <td>2923</td>\n",
              "      <td>6413</td>\n",
              "      <td>5</td>\n",
              "      <td>1.89474</td>\n",
              "    </tr>\n",
              "    <tr>\n",
              "      <th>4</th>\n",
              "      <td>4599</td>\n",
              "      <td>11215</td>\n",
              "      <td>3</td>\n",
              "      <td>1.2381</td>\n",
              "    </tr>\n",
              "    <tr>\n",
              "      <th>...</th>\n",
              "      <td>...</td>\n",
              "      <td>...</td>\n",
              "      <td>...</td>\n",
              "      <td>...</td>\n",
              "    </tr>\n",
              "    <tr>\n",
              "      <th>75061</th>\n",
              "      <td>4249</td>\n",
              "      <td>301</td>\n",
              "      <td>2</td>\n",
              "      <td>0.538462</td>\n",
              "    </tr>\n",
              "    <tr>\n",
              "      <th>75062</th>\n",
              "      <td>4249</td>\n",
              "      <td>9555</td>\n",
              "      <td>5</td>\n",
              "      <td>0.982906</td>\n",
              "    </tr>\n",
              "    <tr>\n",
              "      <th>75063</th>\n",
              "      <td>4249</td>\n",
              "      <td>3582</td>\n",
              "      <td>3</td>\n",
              "      <td>0.871795</td>\n",
              "    </tr>\n",
              "    <tr>\n",
              "      <th>75064</th>\n",
              "      <td>4249</td>\n",
              "      <td>6676</td>\n",
              "      <td>5</td>\n",
              "      <td>0.982906</td>\n",
              "    </tr>\n",
              "    <tr>\n",
              "      <th>75065</th>\n",
              "      <td>4249</td>\n",
              "      <td>34</td>\n",
              "      <td>4</td>\n",
              "      <td>1.20513</td>\n",
              "    </tr>\n",
              "  </tbody>\n",
              "</table>\n",
              "<p>75066 rows × 4 columns</p>\n",
              "</div>"
            ],
            "text/plain": [
              "       UserID  ItemID  Rating     Score\n",
              "0        2923    8644       3   1.60784\n",
              "1        2923   11639       5   1.77273\n",
              "2        2923    4494       5   1.85714\n",
              "3        2923    6413       5   1.89474\n",
              "4        4599   11215       3    1.2381\n",
              "...       ...     ...     ...       ...\n",
              "75061    4249     301       2  0.538462\n",
              "75062    4249    9555       5  0.982906\n",
              "75063    4249    3582       3  0.871795\n",
              "75064    4249    6676       5  0.982906\n",
              "75065    4249      34       4   1.20513\n",
              "\n",
              "[75066 rows x 4 columns]"
            ]
          },
          "metadata": {
            "tags": []
          },
          "execution_count": 144
        }
      ]
    },
    {
      "cell_type": "markdown",
      "metadata": {
        "colab_type": "text",
        "id": "LvnfWcXfA88v"
      },
      "source": [
        ""
      ]
    },
    {
      "cell_type": "code",
      "metadata": {
        "colab_type": "code",
        "id": "rdH_oZZwA9PV",
        "colab": {}
      },
      "source": [
        "pred_df_new.to_csv('pred_data.csv',index=False)\n",
        "from google.colab import files\n",
        "files.download('pred_data.csv')"
      ],
      "execution_count": null,
      "outputs": []
    },
    {
      "cell_type": "code",
      "metadata": {
        "colab_type": "code",
        "id": "E1jiqdOVEcRR",
        "colab": {
          "base_uri": "https://localhost:8080/",
          "height": 402
        },
        "outputId": "02c39d5a-e650-4033-8986-de6943253e56"
      },
      "source": [
        "train_df_new[train_df_new.columns[[0,4]]]"
      ],
      "execution_count": null,
      "outputs": [
        {
          "output_type": "execute_result",
          "data": {
            "text/html": [
              "<div>\n",
              "<style scoped>\n",
              "    .dataframe tbody tr th:only-of-type {\n",
              "        vertical-align: middle;\n",
              "    }\n",
              "\n",
              "    .dataframe tbody tr th {\n",
              "        vertical-align: top;\n",
              "    }\n",
              "\n",
              "    .dataframe thead th {\n",
              "        text-align: right;\n",
              "    }\n",
              "</style>\n",
              "<table border=\"1\" class=\"dataframe\">\n",
              "  <thead>\n",
              "    <tr style=\"text-align: right;\">\n",
              "      <th></th>\n",
              "      <th>UserID</th>\n",
              "      <th>Score</th>\n",
              "    </tr>\n",
              "  </thead>\n",
              "  <tbody>\n",
              "    <tr>\n",
              "      <th>0</th>\n",
              "      <td>2923</td>\n",
              "      <td>1.8</td>\n",
              "    </tr>\n",
              "    <tr>\n",
              "      <th>1</th>\n",
              "      <td>2923</td>\n",
              "      <td>1.84096</td>\n",
              "    </tr>\n",
              "    <tr>\n",
              "      <th>2</th>\n",
              "      <td>2923</td>\n",
              "      <td>1.90909</td>\n",
              "    </tr>\n",
              "    <tr>\n",
              "      <th>3</th>\n",
              "      <td>2923</td>\n",
              "      <td>1.72727</td>\n",
              "    </tr>\n",
              "    <tr>\n",
              "      <th>4</th>\n",
              "      <td>2923</td>\n",
              "      <td>2</td>\n",
              "    </tr>\n",
              "    <tr>\n",
              "      <th>...</th>\n",
              "      <td>...</td>\n",
              "      <td>...</td>\n",
              "    </tr>\n",
              "    <tr>\n",
              "      <th>146278</th>\n",
              "      <td>4249</td>\n",
              "      <td>0.681319</td>\n",
              "    </tr>\n",
              "    <tr>\n",
              "      <th>146279</th>\n",
              "      <td>4249</td>\n",
              "      <td>1.13846</td>\n",
              "    </tr>\n",
              "    <tr>\n",
              "      <th>146280</th>\n",
              "      <td>4249</td>\n",
              "      <td>1.03846</td>\n",
              "    </tr>\n",
              "    <tr>\n",
              "      <th>146281</th>\n",
              "      <td>4249</td>\n",
              "      <td>1.13846</td>\n",
              "    </tr>\n",
              "    <tr>\n",
              "      <th>146282</th>\n",
              "      <td>4249</td>\n",
              "      <td>0.982906</td>\n",
              "    </tr>\n",
              "  </tbody>\n",
              "</table>\n",
              "<p>146283 rows × 2 columns</p>\n",
              "</div>"
            ],
            "text/plain": [
              "        UserID     Score\n",
              "0         2923       1.8\n",
              "1         2923   1.84096\n",
              "2         2923   1.90909\n",
              "3         2923   1.72727\n",
              "4         2923         2\n",
              "...        ...       ...\n",
              "146278    4249  0.681319\n",
              "146279    4249   1.13846\n",
              "146280    4249   1.03846\n",
              "146281    4249   1.13846\n",
              "146282    4249  0.982906\n",
              "\n",
              "[146283 rows x 2 columns]"
            ]
          },
          "metadata": {
            "tags": []
          },
          "execution_count": 151
        }
      ]
    },
    {
      "cell_type": "code",
      "metadata": {
        "colab_type": "code",
        "id": "2j7OA8qvDyTZ",
        "colab": {
          "base_uri": "https://localhost:8080/",
          "height": 402
        },
        "outputId": "9b49337f-2ab2-4da1-ee47-9e55144471c2"
      },
      "source": [
        "train_df_new[train_df_new.columns[[0,4]]].groupby('UserID').head(50).reset_index(drop=True)"
      ],
      "execution_count": null,
      "outputs": [
        {
          "output_type": "execute_result",
          "data": {
            "text/html": [
              "<div>\n",
              "<style scoped>\n",
              "    .dataframe tbody tr th:only-of-type {\n",
              "        vertical-align: middle;\n",
              "    }\n",
              "\n",
              "    .dataframe tbody tr th {\n",
              "        vertical-align: top;\n",
              "    }\n",
              "\n",
              "    .dataframe thead th {\n",
              "        text-align: right;\n",
              "    }\n",
              "</style>\n",
              "<table border=\"1\" class=\"dataframe\">\n",
              "  <thead>\n",
              "    <tr style=\"text-align: right;\">\n",
              "      <th></th>\n",
              "      <th>UserID</th>\n",
              "      <th>Score</th>\n",
              "    </tr>\n",
              "  </thead>\n",
              "  <tbody>\n",
              "    <tr>\n",
              "      <th>0</th>\n",
              "      <td>2923</td>\n",
              "      <td>1.8</td>\n",
              "    </tr>\n",
              "    <tr>\n",
              "      <th>1</th>\n",
              "      <td>2923</td>\n",
              "      <td>1.84096</td>\n",
              "    </tr>\n",
              "    <tr>\n",
              "      <th>2</th>\n",
              "      <td>2923</td>\n",
              "      <td>1.90909</td>\n",
              "    </tr>\n",
              "    <tr>\n",
              "      <th>3</th>\n",
              "      <td>2923</td>\n",
              "      <td>1.72727</td>\n",
              "    </tr>\n",
              "    <tr>\n",
              "      <th>4</th>\n",
              "      <td>2923</td>\n",
              "      <td>2</td>\n",
              "    </tr>\n",
              "    <tr>\n",
              "      <th>...</th>\n",
              "      <td>...</td>\n",
              "      <td>...</td>\n",
              "    </tr>\n",
              "    <tr>\n",
              "      <th>136083</th>\n",
              "      <td>4249</td>\n",
              "      <td>0.681319</td>\n",
              "    </tr>\n",
              "    <tr>\n",
              "      <th>136084</th>\n",
              "      <td>4249</td>\n",
              "      <td>1.13846</td>\n",
              "    </tr>\n",
              "    <tr>\n",
              "      <th>136085</th>\n",
              "      <td>4249</td>\n",
              "      <td>1.03846</td>\n",
              "    </tr>\n",
              "    <tr>\n",
              "      <th>136086</th>\n",
              "      <td>4249</td>\n",
              "      <td>1.13846</td>\n",
              "    </tr>\n",
              "    <tr>\n",
              "      <th>136087</th>\n",
              "      <td>4249</td>\n",
              "      <td>0.982906</td>\n",
              "    </tr>\n",
              "  </tbody>\n",
              "</table>\n",
              "<p>136088 rows × 2 columns</p>\n",
              "</div>"
            ],
            "text/plain": [
              "        UserID     Score\n",
              "0         2923       1.8\n",
              "1         2923   1.84096\n",
              "2         2923   1.90909\n",
              "3         2923   1.72727\n",
              "4         2923         2\n",
              "...        ...       ...\n",
              "136083    4249  0.681319\n",
              "136084    4249   1.13846\n",
              "136085    4249   1.03846\n",
              "136086    4249   1.13846\n",
              "136087    4249  0.982906\n",
              "\n",
              "[136088 rows x 2 columns]"
            ]
          },
          "metadata": {
            "tags": []
          },
          "execution_count": 152
        }
      ]
    },
    {
      "cell_type": "code",
      "metadata": {
        "colab_type": "code",
        "id": "XGrDBPvtFlpH",
        "colab": {}
      },
      "source": [
        "numofitem = len(set(list(train_df_new['ItemID'])))"
      ],
      "execution_count": null,
      "outputs": []
    },
    {
      "cell_type": "code",
      "metadata": {
        "colab_type": "code",
        "id": "1V6kqKzsESoQ",
        "colab": {
          "base_uri": "https://localhost:8080/",
          "height": 34
        },
        "outputId": "ec5c55a7-868b-4f5b-c794-838b57142cbf"
      },
      "source": [
        "numofitem"
      ],
      "execution_count": null,
      "outputs": [
        {
          "output_type": "execute_result",
          "data": {
            "text/plain": [
              "12411"
            ]
          },
          "metadata": {
            "tags": []
          },
          "execution_count": 156
        }
      ]
    },
    {
      "cell_type": "code",
      "metadata": {
        "colab_type": "code",
        "id": "XmNqfdpAGIW3",
        "colab": {
          "base_uri": "https://localhost:8080/",
          "height": 34
        },
        "outputId": "356a5c11-3264-4314-8cab-cf299fed2fea"
      },
      "source": [
        "9400*12411"
      ],
      "execution_count": null,
      "outputs": [
        {
          "output_type": "execute_result",
          "data": {
            "text/plain": [
              "116663400"
            ]
          },
          "metadata": {
            "tags": []
          },
          "execution_count": 157
        }
      ]
    },
    {
      "cell_type": "code",
      "metadata": {
        "colab_type": "code",
        "id": "N1NPTR-letLh",
        "colab": {
          "base_uri": "https://localhost:8080/",
          "height": 34
        },
        "outputId": "460b4f90-e05b-494f-a89f-ba6b9f2a2836"
      },
      "source": [
        "K=30\n",
        "wmf = WMF(k=K, max_iter=100, a=1.0, b=0.01, learning_rate=0.001, lambda_u=0.01, lambda_v=0.01,\n",
        "          verbose=VERBOSE, seed=SEED, name=f\"WMF(K={K})\")\n",
        "train_set = cornac.data.Dataset.from_uir(train_df.itertuples(index=False), seed=SEED)\n",
        "wmf.fit(train_set)\n",
        "\n"
      ],
      "execution_count": null,
      "outputs": [
        {
          "output_type": "execute_result",
          "data": {
            "text/plain": [
              "<cornac.models.wmf.recom_wmf.WMF at 0x7f2a9983a748>"
            ]
          },
          "metadata": {
            "tags": []
          },
          "execution_count": 61
        }
      ]
    },
    {
      "cell_type": "code",
      "metadata": {
        "colab_type": "code",
        "id": "viDzUhPfRYgJ",
        "colab": {
          "base_uri": "https://localhost:8080/",
          "height": 87
        },
        "outputId": "9e4a5a20-37fa-472b-8c4f-30e165537ce6"
      },
      "source": [
        "UIDX=1\n",
        "TOPK=5\n",
        "item_id2idx = wmf.train_set.iid_map\n",
        "item_idx2id = list(wmf.train_set.item_ids)\n",
        "\n",
        "recommendations, scores = wmf.rank(UIDX)\n",
        "print(f\"\\nTOP {TOPK} RECOMMENDATIONS:\")\n",
        "print(\"Scores:\", scores[recommendations[:TOPK]])\n",
        "recommendations\n"
      ],
      "execution_count": null,
      "outputs": [
        {
          "output_type": "stream",
          "text": [
            "\n",
            "TOP 5 RECOMMENDATIONS:\n",
            "Scores: [2.7322319 2.6792727 2.6511228 2.5879054 2.5758662]\n"
          ],
          "name": "stdout"
        },
        {
          "output_type": "execute_result",
          "data": {
            "text/plain": [
              "array([   8,   83, 1158, ..., 2518, 1748, 1191])"
            ]
          },
          "metadata": {
            "tags": []
          },
          "execution_count": 62
        }
      ]
    },
    {
      "cell_type": "code",
      "metadata": {
        "colab_type": "code",
        "id": "j_FasdZsn440",
        "colab": {}
      },
      "source": [
        "user_id2idx = wmf.train_set.uid_map\n",
        "user_idx2id = list(wmf.train_set.user_ids)\n"
      ],
      "execution_count": null,
      "outputs": []
    },
    {
      "cell_type": "code",
      "metadata": {
        "colab_type": "code",
        "id": "9r_7_EqZ0ds5",
        "colab": {
          "base_uri": "https://localhost:8080/",
          "height": 34
        },
        "outputId": "bb624a70-5dd7-4e03-88ea-d4e36009fd3d"
      },
      "source": [
        "len(user_id2idx)"
      ],
      "execution_count": null,
      "outputs": [
        {
          "output_type": "execute_result",
          "data": {
            "text/plain": [
              "9402"
            ]
          },
          "metadata": {
            "tags": []
          },
          "execution_count": 64
        }
      ]
    },
    {
      "cell_type": "code",
      "metadata": {
        "colab_type": "code",
        "id": "iUCre2FI3mtR",
        "colab": {}
      },
      "source": [
        "user_rec_lst = []\n",
        "user_id_lst=[]"
      ],
      "execution_count": null,
      "outputs": []
    },
    {
      "cell_type": "code",
      "metadata": {
        "colab_type": "code",
        "id": "vm0y5Vp25e7n",
        "colab": {
          "base_uri": "https://localhost:8080/",
          "height": 34
        },
        "outputId": "57aead6a-258c-4f3c-bee4-6aa7f726418d"
      },
      "source": [
        "num_of_user = train_df.UserID.nunique()\n",
        "num_of_user"
      ],
      "execution_count": null,
      "outputs": [
        {
          "output_type": "execute_result",
          "data": {
            "text/plain": [
              "9402"
            ]
          },
          "metadata": {
            "tags": []
          },
          "execution_count": 76
        }
      ]
    },
    {
      "cell_type": "code",
      "metadata": {
        "colab_type": "code",
        "id": "qVqsChH80VVj",
        "colab": {}
      },
      "source": [
        "for i in range(0,num_of_user):\n",
        "  UIDX = i\n",
        "  recommendations, scores = wmf.rank(UIDX)\n",
        "  user_idx = user_idx2id[i]\n",
        "  \n",
        "  user_rec_lst.append([int(item_idx2id[j]) for j in recommendations[:50]])\n",
        "  user_id_lst.append(user_idx)\n"
      ],
      "execution_count": null,
      "outputs": []
    },
    {
      "cell_type": "code",
      "metadata": {
        "colab_type": "code",
        "id": "12j5zl9i6qm2",
        "colab": {}
      },
      "source": [
        "output_lst = [x for _,x in sorted(zip(user_id_lst,user_rec_lst))]"
      ],
      "execution_count": null,
      "outputs": []
    },
    {
      "cell_type": "code",
      "metadata": {
        "colab_type": "code",
        "id": "M74K7xIESY3a",
        "colab": {}
      },
      "source": [
        ""
      ],
      "execution_count": null,
      "outputs": []
    },
    {
      "cell_type": "code",
      "metadata": {
        "colab_type": "code",
        "id": "D__4KVYFS_Ki",
        "colab": {}
      },
      "source": [
        ""
      ],
      "execution_count": null,
      "outputs": []
    },
    {
      "cell_type": "markdown",
      "metadata": {
        "id": "oB1ktg84j2QQ",
        "colab_type": "text"
      },
      "source": [
        "Implicit Method with ALS"
      ]
    },
    {
      "cell_type": "code",
      "metadata": {
        "colab_type": "code",
        "id": "itE5OOZ0ABV_",
        "colab": {
          "base_uri": "https://localhost:8080/",
          "height": 246
        },
        "outputId": "33336ad1-2a3a-4f34-f3af-e53abc06c66c"
      },
      "source": [
        "!pip install implicit"
      ],
      "execution_count": null,
      "outputs": [
        {
          "output_type": "stream",
          "text": [
            "Collecting implicit\n",
            "\u001b[?25l  Downloading https://files.pythonhosted.org/packages/5a/d8/6b4f1374ffa2647b72ac76960c71b984c6f3238090359fb419d03827d87a/implicit-0.4.2.tar.gz (1.1MB)\n",
            "\u001b[K     |████████████████████████████████| 1.1MB 3.2MB/s \n",
            "\u001b[?25hRequirement already satisfied: numpy in /usr/local/lib/python3.6/dist-packages (from implicit) (1.18.5)\n",
            "Requirement already satisfied: scipy>=0.16 in /usr/local/lib/python3.6/dist-packages (from implicit) (1.4.1)\n",
            "Requirement already satisfied: tqdm>=4.27 in /usr/local/lib/python3.6/dist-packages (from implicit) (4.41.1)\n",
            "Building wheels for collected packages: implicit\n",
            "  Building wheel for implicit (setup.py) ... \u001b[?25l\u001b[?25hdone\n",
            "  Created wheel for implicit: filename=implicit-0.4.2-cp36-cp36m-linux_x86_64.whl size=3420306 sha256=c596af41278062ab0e7cfdb0b0b9427ccc654e8283f69bf847425ce4c56287c2\n",
            "  Stored in directory: /root/.cache/pip/wheels/1b/48/b1/1aebe3acc3afb5589e72d3e7c3ffc3f637dc4721c1a974dff7\n",
            "Successfully built implicit\n",
            "Installing collected packages: implicit\n",
            "Successfully installed implicit-0.4.2\n"
          ],
          "name": "stdout"
        }
      ]
    },
    {
      "cell_type": "code",
      "metadata": {
        "colab_type": "code",
        "id": "-zuE0G0pTqhe",
        "colab": {}
      },
      "source": [
        "import pandas as pd\n",
        "import scipy.sparse as sparse\n",
        "import numpy as np\n",
        "import random\n",
        "import implicit\n",
        "from sklearn.preprocessing import MinMaxScaler\n",
        "from sklearn import metrics"
      ],
      "execution_count": null,
      "outputs": []
    },
    {
      "cell_type": "code",
      "metadata": {
        "colab_type": "code",
        "id": "OmIlVobSKUsU",
        "colab": {}
      },
      "source": [
        "\n",
        "train_df['UserID']= train_df['UserID'].astype(\"category\")\n",
        "train_df['ItemID'] = train_df['ItemID'].astype(\"category\")\n",
        "train_df['User_ID']= train_df['UserID'].cat.codes\n",
        "train_df['Item_ID'] = train_df['ItemID'].cat.codes"
      ],
      "execution_count": null,
      "outputs": []
    },
    {
      "cell_type": "code",
      "metadata": {
        "colab_type": "code",
        "id": "Wg70Q__lTUsI",
        "colab": {
          "base_uri": "https://localhost:8080/",
          "height": 54
        },
        "outputId": "e722b55c-9877-497c-a7d8-37198f996277"
      },
      "source": [
        "d = dict(enumerate(train_df['UserID'].cat.categories))\n",
        "print (d)"
      ],
      "execution_count": null,
      "outputs": [
        {
          "output_type": "stream",
          "text": [
            "{0: 1, 1: 2, 2: 3, 3: 4, 4: 5, 5: 6, 6: 7, 7: 8, 8: 9, 9: 10, 10: 11, 11: 12, 12: 13, 13: 14, 14: 15, 15: 16, 16: 17, 17: 18, 18: 19, 19: 20, 20: 21, 21: 22, 22: 23, 23: 24, 24: 25, 25: 26, 26: 27, 27: 28, 28: 29, 29: 30, 30: 31, 31: 32, 32: 33, 33: 34, 34: 35, 35: 36, 36: 37, 37: 38, 38: 39, 39: 40, 40: 41, 41: 42, 42: 43, 43: 44, 44: 45, 45: 46, 46: 47, 47: 48, 48: 49, 49: 50, 50: 51, 51: 52, 52: 53, 53: 54, 54: 55, 55: 56, 56: 57, 57: 58, 58: 59, 59: 60, 60: 61, 61: 62, 62: 63, 63: 64, 64: 65, 65: 66, 66: 67, 67: 68, 68: 69, 69: 70, 70: 71, 71: 72, 72: 73, 73: 74, 74: 75, 75: 76, 76: 77, 77: 78, 78: 79, 79: 80, 80: 81, 81: 82, 82: 83, 83: 84, 84: 85, 85: 86, 86: 87, 87: 88, 88: 89, 89: 90, 90: 91, 91: 92, 92: 93, 93: 94, 94: 95, 95: 96, 96: 97, 97: 98, 98: 99, 99: 100, 100: 101, 101: 102, 102: 103, 103: 104, 104: 105, 105: 106, 106: 107, 107: 108, 108: 109, 109: 110, 110: 111, 111: 112, 112: 113, 113: 114, 114: 115, 115: 116, 116: 117, 117: 118, 118: 119, 119: 120, 120: 121, 121: 122, 122: 123, 123: 124, 124: 125, 125: 126, 126: 127, 127: 128, 128: 129, 129: 130, 130: 131, 131: 132, 132: 133, 133: 134, 134: 135, 135: 136, 136: 137, 137: 138, 138: 139, 139: 140, 140: 141, 141: 142, 142: 143, 143: 144, 144: 145, 145: 146, 146: 147, 147: 148, 148: 149, 149: 150, 150: 151, 151: 152, 152: 153, 153: 154, 154: 155, 155: 156, 156: 157, 157: 158, 158: 159, 159: 160, 160: 161, 161: 162, 162: 163, 163: 164, 164: 165, 165: 166, 166: 167, 167: 168, 168: 169, 169: 170, 170: 171, 171: 172, 172: 173, 173: 174, 174: 175, 175: 176, 176: 177, 177: 178, 178: 179, 179: 180, 180: 181, 181: 182, 182: 183, 183: 184, 184: 185, 185: 186, 186: 187, 187: 188, 188: 189, 189: 190, 190: 191, 191: 192, 192: 193, 193: 194, 194: 195, 195: 196, 196: 197, 197: 198, 198: 199, 199: 200, 200: 201, 201: 202, 202: 203, 203: 204, 204: 205, 205: 206, 206: 207, 207: 208, 208: 209, 209: 210, 210: 211, 211: 212, 212: 213, 213: 214, 214: 215, 215: 216, 216: 217, 217: 218, 218: 219, 219: 220, 220: 221, 221: 222, 222: 223, 223: 224, 224: 225, 225: 226, 226: 227, 227: 228, 228: 229, 229: 230, 230: 231, 231: 232, 232: 233, 233: 234, 234: 235, 235: 236, 236: 237, 237: 238, 238: 239, 239: 240, 240: 241, 241: 242, 242: 243, 243: 244, 244: 245, 245: 246, 246: 247, 247: 248, 248: 249, 249: 250, 250: 251, 251: 252, 252: 253, 253: 254, 254: 255, 255: 256, 256: 257, 257: 258, 258: 259, 259: 260, 260: 261, 261: 262, 262: 263, 263: 264, 264: 265, 265: 266, 266: 267, 267: 268, 268: 269, 269: 270, 270: 271, 271: 272, 272: 273, 273: 274, 274: 275, 275: 276, 276: 277, 277: 278, 278: 279, 279: 280, 280: 281, 281: 282, 282: 283, 283: 284, 284: 285, 285: 286, 286: 287, 287: 288, 288: 289, 289: 290, 290: 291, 291: 292, 292: 293, 293: 294, 294: 295, 295: 296, 296: 297, 297: 298, 298: 299, 299: 300, 300: 301, 301: 302, 302: 303, 303: 304, 304: 305, 305: 306, 306: 307, 307: 308, 308: 309, 309: 310, 310: 311, 311: 312, 312: 313, 313: 314, 314: 315, 315: 316, 316: 317, 317: 318, 318: 319, 319: 320, 320: 321, 321: 322, 322: 323, 323: 324, 324: 325, 325: 326, 326: 327, 327: 328, 328: 329, 329: 330, 330: 331, 331: 332, 332: 333, 333: 334, 334: 335, 335: 336, 336: 337, 337: 338, 338: 339, 339: 340, 340: 341, 341: 342, 342: 343, 343: 344, 344: 345, 345: 346, 346: 347, 347: 348, 348: 349, 349: 350, 350: 351, 351: 352, 352: 353, 353: 354, 354: 355, 355: 356, 356: 357, 357: 358, 358: 359, 359: 360, 360: 361, 361: 362, 362: 363, 363: 364, 364: 365, 365: 366, 366: 367, 367: 368, 368: 369, 369: 370, 370: 371, 371: 372, 372: 373, 373: 374, 374: 375, 375: 376, 376: 377, 377: 378, 378: 379, 379: 380, 380: 381, 381: 382, 382: 383, 383: 384, 384: 385, 385: 386, 386: 387, 387: 388, 388: 389, 389: 390, 390: 391, 391: 392, 392: 393, 393: 394, 394: 395, 395: 396, 396: 397, 397: 398, 398: 399, 399: 400, 400: 401, 401: 402, 402: 403, 403: 404, 404: 405, 405: 406, 406: 407, 407: 408, 408: 409, 409: 410, 410: 411, 411: 412, 412: 413, 413: 414, 414: 415, 415: 416, 416: 417, 417: 418, 418: 419, 419: 420, 420: 421, 421: 422, 422: 423, 423: 424, 424: 425, 425: 426, 426: 427, 427: 428, 428: 429, 429: 430, 430: 431, 431: 432, 432: 433, 433: 434, 434: 435, 435: 436, 436: 437, 437: 438, 438: 439, 439: 440, 440: 441, 441: 442, 442: 443, 443: 444, 444: 445, 445: 446, 446: 447, 447: 448, 448: 449, 449: 450, 450: 451, 451: 452, 452: 453, 453: 454, 454: 455, 455: 456, 456: 457, 457: 458, 458: 459, 459: 460, 460: 461, 461: 462, 462: 463, 463: 464, 464: 465, 465: 466, 466: 467, 467: 468, 468: 469, 469: 470, 470: 471, 471: 472, 472: 473, 473: 474, 474: 475, 475: 476, 476: 477, 477: 478, 478: 479, 479: 480, 480: 481, 481: 482, 482: 483, 483: 484, 484: 485, 485: 486, 486: 487, 487: 488, 488: 489, 489: 490, 490: 491, 491: 492, 492: 493, 493: 494, 494: 495, 495: 496, 496: 497, 497: 498, 498: 499, 499: 500, 500: 501, 501: 502, 502: 503, 503: 504, 504: 505, 505: 506, 506: 507, 507: 508, 508: 509, 509: 510, 510: 511, 511: 512, 512: 513, 513: 514, 514: 515, 515: 516, 516: 517, 517: 518, 518: 519, 519: 520, 520: 521, 521: 522, 522: 523, 523: 524, 524: 525, 525: 526, 526: 527, 527: 528, 528: 529, 529: 530, 530: 531, 531: 532, 532: 533, 533: 534, 534: 535, 535: 536, 536: 537, 537: 538, 538: 539, 539: 540, 540: 541, 541: 542, 542: 543, 543: 544, 544: 545, 545: 546, 546: 547, 547: 548, 548: 549, 549: 550, 550: 551, 551: 552, 552: 553, 553: 554, 554: 555, 555: 556, 556: 557, 557: 558, 558: 559, 559: 560, 560: 561, 561: 562, 562: 563, 563: 564, 564: 565, 565: 566, 566: 567, 567: 568, 568: 569, 569: 570, 570: 571, 571: 572, 572: 573, 573: 574, 574: 575, 575: 576, 576: 577, 577: 578, 578: 579, 579: 580, 580: 581, 581: 582, 582: 583, 583: 584, 584: 585, 585: 586, 586: 587, 587: 588, 588: 589, 589: 590, 590: 591, 591: 592, 592: 593, 593: 594, 594: 595, 595: 596, 596: 597, 597: 598, 598: 599, 599: 600, 600: 601, 601: 602, 602: 603, 603: 604, 604: 605, 605: 606, 606: 607, 607: 608, 608: 609, 609: 610, 610: 611, 611: 612, 612: 613, 613: 614, 614: 615, 615: 616, 616: 617, 617: 618, 618: 619, 619: 620, 620: 621, 621: 622, 622: 623, 623: 624, 624: 625, 625: 626, 626: 627, 627: 628, 628: 629, 629: 630, 630: 631, 631: 632, 632: 633, 633: 634, 634: 635, 635: 636, 636: 637, 637: 638, 638: 639, 639: 640, 640: 641, 641: 642, 642: 643, 643: 644, 644: 645, 645: 646, 646: 647, 647: 648, 648: 649, 649: 650, 650: 651, 651: 652, 652: 653, 653: 654, 654: 655, 655: 656, 656: 657, 657: 658, 658: 659, 659: 660, 660: 661, 661: 662, 662: 663, 663: 664, 664: 665, 665: 666, 666: 667, 667: 668, 668: 669, 669: 670, 670: 671, 671: 672, 672: 673, 673: 674, 674: 675, 675: 676, 676: 677, 677: 678, 678: 679, 679: 680, 680: 681, 681: 682, 682: 683, 683: 684, 684: 685, 685: 686, 686: 687, 687: 688, 688: 689, 689: 690, 690: 691, 691: 692, 692: 693, 693: 694, 694: 695, 695: 696, 696: 697, 697: 698, 698: 699, 699: 700, 700: 701, 701: 702, 702: 703, 703: 704, 704: 705, 705: 706, 706: 707, 707: 708, 708: 709, 709: 710, 710: 711, 711: 712, 712: 713, 713: 714, 714: 715, 715: 716, 716: 717, 717: 718, 718: 719, 719: 720, 720: 721, 721: 722, 722: 723, 723: 724, 724: 725, 725: 726, 726: 727, 727: 728, 728: 729, 729: 730, 730: 731, 731: 732, 732: 733, 733: 734, 734: 735, 735: 736, 736: 737, 737: 738, 738: 739, 739: 740, 740: 741, 741: 742, 742: 743, 743: 744, 744: 745, 745: 746, 746: 747, 747: 748, 748: 749, 749: 750, 750: 751, 751: 752, 752: 753, 753: 754, 754: 755, 755: 756, 756: 757, 757: 758, 758: 759, 759: 760, 760: 761, 761: 762, 762: 763, 763: 764, 764: 765, 765: 766, 766: 767, 767: 768, 768: 769, 769: 770, 770: 771, 771: 772, 772: 773, 773: 774, 774: 775, 775: 776, 776: 777, 777: 778, 778: 779, 779: 780, 780: 781, 781: 782, 782: 783, 783: 784, 784: 785, 785: 786, 786: 787, 787: 788, 788: 789, 789: 790, 790: 791, 791: 792, 792: 793, 793: 794, 794: 795, 795: 796, 796: 797, 797: 798, 798: 799, 799: 800, 800: 801, 801: 802, 802: 803, 803: 804, 804: 805, 805: 806, 806: 807, 807: 808, 808: 809, 809: 810, 810: 811, 811: 812, 812: 813, 813: 814, 814: 815, 815: 816, 816: 817, 817: 818, 818: 819, 819: 820, 820: 821, 821: 822, 822: 823, 823: 824, 824: 825, 825: 826, 826: 827, 827: 828, 828: 829, 829: 830, 830: 831, 831: 832, 832: 833, 833: 834, 834: 835, 835: 836, 836: 837, 837: 838, 838: 839, 839: 840, 840: 841, 841: 842, 842: 843, 843: 844, 844: 845, 845: 846, 846: 847, 847: 848, 848: 849, 849: 850, 850: 851, 851: 852, 852: 853, 853: 854, 854: 855, 855: 856, 856: 857, 857: 858, 858: 859, 859: 860, 860: 861, 861: 862, 862: 863, 863: 864, 864: 865, 865: 866, 866: 867, 867: 868, 868: 869, 869: 870, 870: 871, 871: 872, 872: 873, 873: 874, 874: 875, 875: 876, 876: 877, 877: 878, 878: 879, 879: 880, 880: 881, 881: 882, 882: 883, 883: 884, 884: 885, 885: 886, 886: 887, 887: 888, 888: 889, 889: 890, 890: 891, 891: 892, 892: 893, 893: 894, 894: 895, 895: 896, 896: 897, 897: 898, 898: 899, 899: 900, 900: 901, 901: 902, 902: 903, 903: 904, 904: 905, 905: 906, 906: 907, 907: 908, 908: 909, 909: 910, 910: 911, 911: 912, 912: 913, 913: 914, 914: 915, 915: 916, 916: 917, 917: 918, 918: 919, 919: 920, 920: 921, 921: 922, 922: 923, 923: 924, 924: 925, 925: 926, 926: 927, 927: 928, 928: 929, 929: 930, 930: 931, 931: 932, 932: 933, 933: 934, 934: 935, 935: 936, 936: 937, 937: 938, 938: 939, 939: 940, 940: 941, 941: 942, 942: 943, 943: 944, 944: 945, 945: 946, 946: 947, 947: 948, 948: 949, 949: 950, 950: 951, 951: 952, 952: 953, 953: 954, 954: 955, 955: 956, 956: 957, 957: 958, 958: 959, 959: 960, 960: 961, 961: 962, 962: 963, 963: 964, 964: 965, 965: 966, 966: 967, 967: 968, 968: 969, 969: 970, 970: 971, 971: 972, 972: 973, 973: 974, 974: 975, 975: 976, 976: 977, 977: 978, 978: 979, 979: 980, 980: 981, 981: 982, 982: 983, 983: 984, 984: 985, 985: 986, 986: 987, 987: 988, 988: 989, 989: 990, 990: 991, 991: 992, 992: 993, 993: 994, 994: 995, 995: 996, 996: 997, 997: 998, 998: 999, 999: 1000, 1000: 1001, 1001: 1002, 1002: 1003, 1003: 1004, 1004: 1005, 1005: 1006, 1006: 1007, 1007: 1008, 1008: 1009, 1009: 1010, 1010: 1011, 1011: 1012, 1012: 1013, 1013: 1014, 1014: 1015, 1015: 1016, 1016: 1017, 1017: 1018, 1018: 1019, 1019: 1020, 1020: 1021, 1021: 1022, 1022: 1023, 1023: 1024, 1024: 1025, 1025: 1026, 1026: 1027, 1027: 1028, 1028: 1029, 1029: 1030, 1030: 1031, 1031: 1032, 1032: 1033, 1033: 1034, 1034: 1035, 1035: 1036, 1036: 1037, 1037: 1038, 1038: 1039, 1039: 1040, 1040: 1041, 1041: 1042, 1042: 1043, 1043: 1044, 1044: 1045, 1045: 1046, 1046: 1047, 1047: 1048, 1048: 1049, 1049: 1050, 1050: 1051, 1051: 1052, 1052: 1053, 1053: 1054, 1054: 1055, 1055: 1056, 1056: 1057, 1057: 1058, 1058: 1059, 1059: 1060, 1060: 1061, 1061: 1062, 1062: 1063, 1063: 1064, 1064: 1065, 1065: 1066, 1066: 1067, 1067: 1068, 1068: 1069, 1069: 1070, 1070: 1071, 1071: 1072, 1072: 1073, 1073: 1074, 1074: 1075, 1075: 1076, 1076: 1077, 1077: 1078, 1078: 1079, 1079: 1080, 1080: 1081, 1081: 1082, 1082: 1083, 1083: 1084, 1084: 1085, 1085: 1086, 1086: 1087, 1087: 1088, 1088: 1089, 1089: 1090, 1090: 1091, 1091: 1092, 1092: 1093, 1093: 1094, 1094: 1095, 1095: 1096, 1096: 1097, 1097: 1098, 1098: 1099, 1099: 1100, 1100: 1101, 1101: 1102, 1102: 1103, 1103: 1104, 1104: 1105, 1105: 1106, 1106: 1107, 1107: 1108, 1108: 1109, 1109: 1110, 1110: 1111, 1111: 1112, 1112: 1113, 1113: 1114, 1114: 1115, 1115: 1116, 1116: 1117, 1117: 1118, 1118: 1119, 1119: 1120, 1120: 1121, 1121: 1122, 1122: 1123, 1123: 1124, 1124: 1125, 1125: 1126, 1126: 1127, 1127: 1128, 1128: 1129, 1129: 1130, 1130: 1131, 1131: 1132, 1132: 1133, 1133: 1134, 1134: 1135, 1135: 1136, 1136: 1137, 1137: 1138, 1138: 1139, 1139: 1140, 1140: 1141, 1141: 1142, 1142: 1143, 1143: 1144, 1144: 1145, 1145: 1146, 1146: 1147, 1147: 1148, 1148: 1149, 1149: 1150, 1150: 1151, 1151: 1152, 1152: 1153, 1153: 1154, 1154: 1155, 1155: 1156, 1156: 1157, 1157: 1158, 1158: 1159, 1159: 1160, 1160: 1161, 1161: 1162, 1162: 1163, 1163: 1164, 1164: 1165, 1165: 1166, 1166: 1167, 1167: 1168, 1168: 1169, 1169: 1170, 1170: 1171, 1171: 1172, 1172: 1173, 1173: 1174, 1174: 1175, 1175: 1176, 1176: 1177, 1177: 1178, 1178: 1179, 1179: 1180, 1180: 1181, 1181: 1182, 1182: 1183, 1183: 1184, 1184: 1185, 1185: 1186, 1186: 1187, 1187: 1188, 1188: 1189, 1189: 1190, 1190: 1191, 1191: 1192, 1192: 1193, 1193: 1194, 1194: 1195, 1195: 1196, 1196: 1197, 1197: 1198, 1198: 1199, 1199: 1200, 1200: 1201, 1201: 1202, 1202: 1203, 1203: 1204, 1204: 1205, 1205: 1206, 1206: 1207, 1207: 1208, 1208: 1209, 1209: 1210, 1210: 1211, 1211: 1212, 1212: 1213, 1213: 1214, 1214: 1215, 1215: 1216, 1216: 1217, 1217: 1218, 1218: 1219, 1219: 1220, 1220: 1221, 1221: 1222, 1222: 1223, 1223: 1224, 1224: 1225, 1225: 1226, 1226: 1227, 1227: 1228, 1228: 1229, 1229: 1230, 1230: 1231, 1231: 1232, 1232: 1233, 1233: 1234, 1234: 1235, 1235: 1236, 1236: 1237, 1237: 1238, 1238: 1239, 1239: 1240, 1240: 1241, 1241: 1242, 1242: 1243, 1243: 1244, 1244: 1245, 1245: 1246, 1246: 1247, 1247: 1248, 1248: 1249, 1249: 1250, 1250: 1251, 1251: 1252, 1252: 1253, 1253: 1254, 1254: 1255, 1255: 1256, 1256: 1257, 1257: 1258, 1258: 1259, 1259: 1260, 1260: 1261, 1261: 1262, 1262: 1263, 1263: 1264, 1264: 1265, 1265: 1266, 1266: 1267, 1267: 1268, 1268: 1269, 1269: 1270, 1270: 1271, 1271: 1272, 1272: 1273, 1273: 1274, 1274: 1275, 1275: 1276, 1276: 1277, 1277: 1278, 1278: 1279, 1279: 1280, 1280: 1281, 1281: 1282, 1282: 1283, 1283: 1284, 1284: 1285, 1285: 1286, 1286: 1287, 1287: 1288, 1288: 1289, 1289: 1290, 1290: 1291, 1291: 1292, 1292: 1293, 1293: 1294, 1294: 1295, 1295: 1296, 1296: 1297, 1297: 1298, 1298: 1299, 1299: 1300, 1300: 1301, 1301: 1302, 1302: 1303, 1303: 1304, 1304: 1305, 1305: 1306, 1306: 1307, 1307: 1308, 1308: 1309, 1309: 1310, 1310: 1311, 1311: 1312, 1312: 1313, 1313: 1314, 1314: 1315, 1315: 1316, 1316: 1317, 1317: 1318, 1318: 1319, 1319: 1320, 1320: 1321, 1321: 1322, 1322: 1323, 1323: 1324, 1324: 1325, 1325: 1326, 1326: 1327, 1327: 1328, 1328: 1329, 1329: 1330, 1330: 1331, 1331: 1332, 1332: 1333, 1333: 1334, 1334: 1335, 1335: 1336, 1336: 1337, 1337: 1338, 1338: 1339, 1339: 1340, 1340: 1341, 1341: 1342, 1342: 1343, 1343: 1344, 1344: 1345, 1345: 1346, 1346: 1347, 1347: 1348, 1348: 1349, 1349: 1350, 1350: 1351, 1351: 1352, 1352: 1353, 1353: 1354, 1354: 1355, 1355: 1356, 1356: 1357, 1357: 1358, 1358: 1359, 1359: 1360, 1360: 1361, 1361: 1362, 1362: 1363, 1363: 1364, 1364: 1365, 1365: 1366, 1366: 1367, 1367: 1368, 1368: 1369, 1369: 1370, 1370: 1371, 1371: 1372, 1372: 1373, 1373: 1374, 1374: 1375, 1375: 1376, 1376: 1377, 1377: 1378, 1378: 1379, 1379: 1380, 1380: 1381, 1381: 1382, 1382: 1383, 1383: 1384, 1384: 1385, 1385: 1386, 1386: 1387, 1387: 1388, 1388: 1389, 1389: 1390, 1390: 1391, 1391: 1392, 1392: 1393, 1393: 1394, 1394: 1395, 1395: 1396, 1396: 1397, 1397: 1398, 1398: 1399, 1399: 1400, 1400: 1401, 1401: 1402, 1402: 1403, 1403: 1404, 1404: 1405, 1405: 1406, 1406: 1407, 1407: 1408, 1408: 1409, 1409: 1410, 1410: 1411, 1411: 1412, 1412: 1413, 1413: 1414, 1414: 1415, 1415: 1416, 1416: 1417, 1417: 1418, 1418: 1419, 1419: 1420, 1420: 1421, 1421: 1422, 1422: 1423, 1423: 1424, 1424: 1425, 1425: 1426, 1426: 1427, 1427: 1428, 1428: 1429, 1429: 1430, 1430: 1431, 1431: 1432, 1432: 1433, 1433: 1434, 1434: 1435, 1435: 1436, 1436: 1437, 1437: 1438, 1438: 1439, 1439: 1440, 1440: 1441, 1441: 1442, 1442: 1443, 1443: 1444, 1444: 1445, 1445: 1446, 1446: 1447, 1447: 1448, 1448: 1449, 1449: 1450, 1450: 1451, 1451: 1452, 1452: 1453, 1453: 1454, 1454: 1455, 1455: 1456, 1456: 1457, 1457: 1458, 1458: 1459, 1459: 1460, 1460: 1461, 1461: 1462, 1462: 1463, 1463: 1464, 1464: 1465, 1465: 1466, 1466: 1467, 1467: 1468, 1468: 1469, 1469: 1470, 1470: 1471, 1471: 1472, 1472: 1473, 1473: 1474, 1474: 1475, 1475: 1476, 1476: 1477, 1477: 1478, 1478: 1479, 1479: 1480, 1480: 1481, 1481: 1482, 1482: 1483, 1483: 1484, 1484: 1485, 1485: 1486, 1486: 1487, 1487: 1488, 1488: 1489, 1489: 1490, 1490: 1491, 1491: 1492, 1492: 1493, 1493: 1494, 1494: 1495, 1495: 1496, 1496: 1497, 1497: 1498, 1498: 1499, 1499: 1500, 1500: 1501, 1501: 1502, 1502: 1503, 1503: 1504, 1504: 1505, 1505: 1506, 1506: 1507, 1507: 1508, 1508: 1509, 1509: 1510, 1510: 1511, 1511: 1512, 1512: 1513, 1513: 1514, 1514: 1515, 1515: 1516, 1516: 1517, 1517: 1518, 1518: 1519, 1519: 1520, 1520: 1521, 1521: 1522, 1522: 1523, 1523: 1524, 1524: 1525, 1525: 1526, 1526: 1527, 1527: 1528, 1528: 1529, 1529: 1530, 1530: 1531, 1531: 1532, 1532: 1533, 1533: 1534, 1534: 1535, 1535: 1536, 1536: 1537, 1537: 1538, 1538: 1539, 1539: 1540, 1540: 1541, 1541: 1542, 1542: 1543, 1543: 1544, 1544: 1545, 1545: 1546, 1546: 1547, 1547: 1548, 1548: 1549, 1549: 1550, 1550: 1551, 1551: 1552, 1552: 1553, 1553: 1554, 1554: 1555, 1555: 1556, 1556: 1557, 1557: 1558, 1558: 1559, 1559: 1560, 1560: 1561, 1561: 1562, 1562: 1563, 1563: 1564, 1564: 1565, 1565: 1566, 1566: 1567, 1567: 1568, 1568: 1569, 1569: 1570, 1570: 1571, 1571: 1572, 1572: 1573, 1573: 1574, 1574: 1575, 1575: 1576, 1576: 1577, 1577: 1578, 1578: 1579, 1579: 1580, 1580: 1581, 1581: 1582, 1582: 1583, 1583: 1584, 1584: 1585, 1585: 1586, 1586: 1587, 1587: 1588, 1588: 1589, 1589: 1590, 1590: 1591, 1591: 1592, 1592: 1593, 1593: 1594, 1594: 1595, 1595: 1596, 1596: 1597, 1597: 1598, 1598: 1599, 1599: 1600, 1600: 1601, 1601: 1602, 1602: 1603, 1603: 1604, 1604: 1605, 1605: 1606, 1606: 1607, 1607: 1608, 1608: 1609, 1609: 1610, 1610: 1611, 1611: 1612, 1612: 1613, 1613: 1614, 1614: 1615, 1615: 1616, 1616: 1617, 1617: 1618, 1618: 1619, 1619: 1620, 1620: 1621, 1621: 1622, 1622: 1623, 1623: 1624, 1624: 1625, 1625: 1626, 1626: 1627, 1627: 1628, 1628: 1629, 1629: 1630, 1630: 1631, 1631: 1632, 1632: 1633, 1633: 1634, 1634: 1635, 1635: 1636, 1636: 1637, 1637: 1638, 1638: 1639, 1639: 1640, 1640: 1641, 1641: 1642, 1642: 1643, 1643: 1644, 1644: 1645, 1645: 1646, 1646: 1647, 1647: 1648, 1648: 1649, 1649: 1650, 1650: 1651, 1651: 1652, 1652: 1653, 1653: 1654, 1654: 1655, 1655: 1656, 1656: 1657, 1657: 1658, 1658: 1659, 1659: 1660, 1660: 1661, 1661: 1662, 1662: 1663, 1663: 1664, 1664: 1665, 1665: 1666, 1666: 1667, 1667: 1668, 1668: 1669, 1669: 1670, 1670: 1671, 1671: 1672, 1672: 1673, 1673: 1674, 1674: 1675, 1675: 1676, 1676: 1677, 1677: 1678, 1678: 1679, 1679: 1680, 1680: 1681, 1681: 1682, 1682: 1683, 1683: 1684, 1684: 1685, 1685: 1686, 1686: 1687, 1687: 1688, 1688: 1689, 1689: 1690, 1690: 1691, 1691: 1692, 1692: 1693, 1693: 1694, 1694: 1695, 1695: 1696, 1696: 1697, 1697: 1698, 1698: 1699, 1699: 1700, 1700: 1701, 1701: 1702, 1702: 1703, 1703: 1704, 1704: 1705, 1705: 1706, 1706: 1707, 1707: 1708, 1708: 1709, 1709: 1710, 1710: 1711, 1711: 1712, 1712: 1713, 1713: 1714, 1714: 1715, 1715: 1716, 1716: 1717, 1717: 1718, 1718: 1719, 1719: 1720, 1720: 1721, 1721: 1722, 1722: 1723, 1723: 1724, 1724: 1725, 1725: 1726, 1726: 1727, 1727: 1728, 1728: 1729, 1729: 1730, 1730: 1731, 1731: 1732, 1732: 1733, 1733: 1734, 1734: 1735, 1735: 1736, 1736: 1737, 1737: 1738, 1738: 1739, 1739: 1740, 1740: 1741, 1741: 1742, 1742: 1743, 1743: 1744, 1744: 1745, 1745: 1746, 1746: 1747, 1747: 1748, 1748: 1749, 1749: 1750, 1750: 1751, 1751: 1752, 1752: 1753, 1753: 1754, 1754: 1755, 1755: 1756, 1756: 1757, 1757: 1758, 1758: 1759, 1759: 1760, 1760: 1761, 1761: 1762, 1762: 1763, 1763: 1764, 1764: 1765, 1765: 1766, 1766: 1767, 1767: 1768, 1768: 1769, 1769: 1770, 1770: 1771, 1771: 1772, 1772: 1773, 1773: 1774, 1774: 1775, 1775: 1776, 1776: 1777, 1777: 1778, 1778: 1779, 1779: 1780, 1780: 1781, 1781: 1782, 1782: 1783, 1783: 1784, 1784: 1785, 1785: 1786, 1786: 1787, 1787: 1788, 1788: 1789, 1789: 1790, 1790: 1791, 1791: 1792, 1792: 1793, 1793: 1794, 1794: 1795, 1795: 1796, 1796: 1797, 1797: 1798, 1798: 1799, 1799: 1800, 1800: 1801, 1801: 1802, 1802: 1803, 1803: 1804, 1804: 1805, 1805: 1806, 1806: 1807, 1807: 1808, 1808: 1809, 1809: 1810, 1810: 1811, 1811: 1812, 1812: 1813, 1813: 1814, 1814: 1815, 1815: 1816, 1816: 1817, 1817: 1818, 1818: 1819, 1819: 1820, 1820: 1821, 1821: 1822, 1822: 1823, 1823: 1824, 1824: 1825, 1825: 1826, 1826: 1827, 1827: 1828, 1828: 1829, 1829: 1830, 1830: 1831, 1831: 1832, 1832: 1833, 1833: 1834, 1834: 1835, 1835: 1836, 1836: 1837, 1837: 1838, 1838: 1839, 1839: 1840, 1840: 1841, 1841: 1842, 1842: 1843, 1843: 1844, 1844: 1845, 1845: 1846, 1846: 1847, 1847: 1848, 1848: 1849, 1849: 1850, 1850: 1851, 1851: 1852, 1852: 1853, 1853: 1854, 1854: 1855, 1855: 1856, 1856: 1857, 1857: 1858, 1858: 1859, 1859: 1860, 1860: 1861, 1861: 1862, 1862: 1863, 1863: 1864, 1864: 1865, 1865: 1866, 1866: 1867, 1867: 1868, 1868: 1869, 1869: 1870, 1870: 1871, 1871: 1872, 1872: 1873, 1873: 1874, 1874: 1875, 1875: 1876, 1876: 1877, 1877: 1878, 1878: 1879, 1879: 1880, 1880: 1881, 1881: 1882, 1882: 1883, 1883: 1884, 1884: 1885, 1885: 1886, 1886: 1887, 1887: 1888, 1888: 1889, 1889: 1890, 1890: 1891, 1891: 1892, 1892: 1893, 1893: 1894, 1894: 1895, 1895: 1896, 1896: 1897, 1897: 1898, 1898: 1899, 1899: 1900, 1900: 1901, 1901: 1902, 1902: 1903, 1903: 1904, 1904: 1905, 1905: 1906, 1906: 1907, 1907: 1908, 1908: 1909, 1909: 1910, 1910: 1911, 1911: 1912, 1912: 1913, 1913: 1914, 1914: 1915, 1915: 1916, 1916: 1917, 1917: 1918, 1918: 1919, 1919: 1920, 1920: 1921, 1921: 1922, 1922: 1923, 1923: 1924, 1924: 1925, 1925: 1926, 1926: 1927, 1927: 1928, 1928: 1929, 1929: 1930, 1930: 1931, 1931: 1932, 1932: 1933, 1933: 1934, 1934: 1935, 1935: 1936, 1936: 1937, 1937: 1938, 1938: 1939, 1939: 1940, 1940: 1941, 1941: 1942, 1942: 1943, 1943: 1944, 1944: 1945, 1945: 1946, 1946: 1947, 1947: 1948, 1948: 1949, 1949: 1950, 1950: 1951, 1951: 1952, 1952: 1953, 1953: 1954, 1954: 1955, 1955: 1956, 1956: 1957, 1957: 1958, 1958: 1959, 1959: 1960, 1960: 1961, 1961: 1962, 1962: 1963, 1963: 1964, 1964: 1965, 1965: 1966, 1966: 1967, 1967: 1968, 1968: 1969, 1969: 1970, 1970: 1971, 1971: 1972, 1972: 1973, 1973: 1974, 1974: 1975, 1975: 1976, 1976: 1977, 1977: 1978, 1978: 1979, 1979: 1980, 1980: 1981, 1981: 1982, 1982: 1983, 1983: 1984, 1984: 1985, 1985: 1986, 1986: 1987, 1987: 1988, 1988: 1989, 1989: 1990, 1990: 1991, 1991: 1992, 1992: 1993, 1993: 1994, 1994: 1995, 1995: 1996, 1996: 1997, 1997: 1998, 1998: 1999, 1999: 2000, 2000: 2001, 2001: 2002, 2002: 2003, 2003: 2004, 2004: 2005, 2005: 2006, 2006: 2007, 2007: 2008, 2008: 2009, 2009: 2010, 2010: 2011, 2011: 2012, 2012: 2013, 2013: 2014, 2014: 2015, 2015: 2016, 2016: 2017, 2017: 2018, 2018: 2019, 2019: 2020, 2020: 2021, 2021: 2022, 2022: 2023, 2023: 2024, 2024: 2025, 2025: 2026, 2026: 2027, 2027: 2028, 2028: 2029, 2029: 2030, 2030: 2031, 2031: 2032, 2032: 2033, 2033: 2034, 2034: 2035, 2035: 2036, 2036: 2037, 2037: 2038, 2038: 2039, 2039: 2040, 2040: 2041, 2041: 2042, 2042: 2043, 2043: 2044, 2044: 2045, 2045: 2046, 2046: 2047, 2047: 2048, 2048: 2049, 2049: 2050, 2050: 2051, 2051: 2052, 2052: 2053, 2053: 2054, 2054: 2055, 2055: 2056, 2056: 2057, 2057: 2058, 2058: 2059, 2059: 2060, 2060: 2061, 2061: 2062, 2062: 2063, 2063: 2064, 2064: 2065, 2065: 2066, 2066: 2067, 2067: 2068, 2068: 2069, 2069: 2070, 2070: 2071, 2071: 2072, 2072: 2073, 2073: 2074, 2074: 2075, 2075: 2076, 2076: 2077, 2077: 2078, 2078: 2079, 2079: 2080, 2080: 2081, 2081: 2082, 2082: 2083, 2083: 2084, 2084: 2085, 2085: 2086, 2086: 2087, 2087: 2088, 2088: 2089, 2089: 2090, 2090: 2091, 2091: 2092, 2092: 2093, 2093: 2094, 2094: 2095, 2095: 2096, 2096: 2097, 2097: 2098, 2098: 2099, 2099: 2100, 2100: 2101, 2101: 2102, 2102: 2103, 2103: 2104, 2104: 2105, 2105: 2106, 2106: 2107, 2107: 2108, 2108: 2109, 2109: 2110, 2110: 2111, 2111: 2112, 2112: 2113, 2113: 2114, 2114: 2115, 2115: 2116, 2116: 2117, 2117: 2118, 2118: 2119, 2119: 2120, 2120: 2121, 2121: 2122, 2122: 2123, 2123: 2124, 2124: 2125, 2125: 2126, 2126: 2127, 2127: 2128, 2128: 2129, 2129: 2130, 2130: 2131, 2131: 2132, 2132: 2133, 2133: 2134, 2134: 2135, 2135: 2136, 2136: 2137, 2137: 2138, 2138: 2139, 2139: 2140, 2140: 2141, 2141: 2142, 2142: 2143, 2143: 2144, 2144: 2145, 2145: 2146, 2146: 2147, 2147: 2148, 2148: 2149, 2149: 2150, 2150: 2151, 2151: 2152, 2152: 2153, 2153: 2154, 2154: 2155, 2155: 2156, 2156: 2157, 2157: 2158, 2158: 2159, 2159: 2160, 2160: 2161, 2161: 2162, 2162: 2163, 2163: 2164, 2164: 2165, 2165: 2166, 2166: 2167, 2167: 2168, 2168: 2169, 2169: 2170, 2170: 2171, 2171: 2172, 2172: 2173, 2173: 2174, 2174: 2175, 2175: 2176, 2176: 2177, 2177: 2178, 2178: 2179, 2179: 2180, 2180: 2181, 2181: 2182, 2182: 2183, 2183: 2184, 2184: 2185, 2185: 2186, 2186: 2187, 2187: 2188, 2188: 2189, 2189: 2190, 2190: 2191, 2191: 2192, 2192: 2193, 2193: 2194, 2194: 2195, 2195: 2196, 2196: 2197, 2197: 2198, 2198: 2199, 2199: 2200, 2200: 2201, 2201: 2202, 2202: 2203, 2203: 2204, 2204: 2205, 2205: 2206, 2206: 2207, 2207: 2208, 2208: 2209, 2209: 2210, 2210: 2211, 2211: 2212, 2212: 2213, 2213: 2214, 2214: 2215, 2215: 2216, 2216: 2217, 2217: 2218, 2218: 2219, 2219: 2220, 2220: 2221, 2221: 2222, 2222: 2223, 2223: 2224, 2224: 2225, 2225: 2226, 2226: 2227, 2227: 2228, 2228: 2229, 2229: 2230, 2230: 2231, 2231: 2232, 2232: 2233, 2233: 2234, 2234: 2235, 2235: 2236, 2236: 2237, 2237: 2238, 2238: 2239, 2239: 2240, 2240: 2241, 2241: 2242, 2242: 2243, 2243: 2244, 2244: 2245, 2245: 2246, 2246: 2247, 2247: 2248, 2248: 2249, 2249: 2250, 2250: 2251, 2251: 2252, 2252: 2253, 2253: 2254, 2254: 2255, 2255: 2256, 2256: 2257, 2257: 2258, 2258: 2259, 2259: 2260, 2260: 2261, 2261: 2262, 2262: 2263, 2263: 2264, 2264: 2265, 2265: 2266, 2266: 2267, 2267: 2268, 2268: 2269, 2269: 2270, 2270: 2271, 2271: 2272, 2272: 2273, 2273: 2274, 2274: 2275, 2275: 2276, 2276: 2277, 2277: 2278, 2278: 2279, 2279: 2280, 2280: 2281, 2281: 2282, 2282: 2283, 2283: 2284, 2284: 2285, 2285: 2286, 2286: 2287, 2287: 2288, 2288: 2289, 2289: 2290, 2290: 2291, 2291: 2292, 2292: 2293, 2293: 2294, 2294: 2295, 2295: 2296, 2296: 2297, 2297: 2298, 2298: 2299, 2299: 2300, 2300: 2301, 2301: 2302, 2302: 2303, 2303: 2304, 2304: 2305, 2305: 2306, 2306: 2307, 2307: 2308, 2308: 2309, 2309: 2310, 2310: 2311, 2311: 2312, 2312: 2313, 2313: 2314, 2314: 2315, 2315: 2316, 2316: 2317, 2317: 2318, 2318: 2319, 2319: 2320, 2320: 2321, 2321: 2322, 2322: 2323, 2323: 2324, 2324: 2325, 2325: 2326, 2326: 2327, 2327: 2328, 2328: 2329, 2329: 2330, 2330: 2331, 2331: 2332, 2332: 2333, 2333: 2334, 2334: 2335, 2335: 2336, 2336: 2337, 2337: 2338, 2338: 2339, 2339: 2340, 2340: 2341, 2341: 2342, 2342: 2343, 2343: 2344, 2344: 2345, 2345: 2346, 2346: 2347, 2347: 2348, 2348: 2349, 2349: 2350, 2350: 2351, 2351: 2352, 2352: 2353, 2353: 2354, 2354: 2355, 2355: 2356, 2356: 2357, 2357: 2358, 2358: 2359, 2359: 2360, 2360: 2361, 2361: 2362, 2362: 2363, 2363: 2364, 2364: 2365, 2365: 2366, 2366: 2367, 2367: 2368, 2368: 2369, 2369: 2370, 2370: 2371, 2371: 2372, 2372: 2373, 2373: 2374, 2374: 2375, 2375: 2376, 2376: 2377, 2377: 2378, 2378: 2379, 2379: 2380, 2380: 2381, 2381: 2382, 2382: 2383, 2383: 2384, 2384: 2385, 2385: 2386, 2386: 2387, 2387: 2388, 2388: 2389, 2389: 2390, 2390: 2391, 2391: 2392, 2392: 2393, 2393: 2394, 2394: 2395, 2395: 2396, 2396: 2397, 2397: 2398, 2398: 2399, 2399: 2400, 2400: 2401, 2401: 2402, 2402: 2403, 2403: 2404, 2404: 2405, 2405: 2406, 2406: 2407, 2407: 2408, 2408: 2409, 2409: 2410, 2410: 2411, 2411: 2412, 2412: 2413, 2413: 2414, 2414: 2415, 2415: 2416, 2416: 2417, 2417: 2418, 2418: 2419, 2419: 2420, 2420: 2421, 2421: 2422, 2422: 2423, 2423: 2424, 2424: 2425, 2425: 2426, 2426: 2427, 2427: 2428, 2428: 2429, 2429: 2430, 2430: 2431, 2431: 2432, 2432: 2433, 2433: 2434, 2434: 2435, 2435: 2436, 2436: 2437, 2437: 2438, 2438: 2439, 2439: 2440, 2440: 2441, 2441: 2442, 2442: 2443, 2443: 2444, 2444: 2445, 2445: 2446, 2446: 2447, 2447: 2448, 2448: 2449, 2449: 2450, 2450: 2451, 2451: 2452, 2452: 2453, 2453: 2454, 2454: 2455, 2455: 2456, 2456: 2457, 2457: 2458, 2458: 2459, 2459: 2460, 2460: 2461, 2461: 2462, 2462: 2463, 2463: 2464, 2464: 2465, 2465: 2466, 2466: 2467, 2467: 2468, 2468: 2469, 2469: 2470, 2470: 2471, 2471: 2472, 2472: 2473, 2473: 2474, 2474: 2475, 2475: 2476, 2476: 2477, 2477: 2478, 2478: 2479, 2479: 2480, 2480: 2481, 2481: 2482, 2482: 2483, 2483: 2484, 2484: 2485, 2485: 2486, 2486: 2487, 2487: 2488, 2488: 2489, 2489: 2490, 2490: 2491, 2491: 2492, 2492: 2493, 2493: 2494, 2494: 2495, 2495: 2496, 2496: 2497, 2497: 2498, 2498: 2499, 2499: 2500, 2500: 2501, 2501: 2502, 2502: 2503, 2503: 2504, 2504: 2505, 2505: 2506, 2506: 2507, 2507: 2508, 2508: 2509, 2509: 2510, 2510: 2511, 2511: 2512, 2512: 2513, 2513: 2514, 2514: 2515, 2515: 2516, 2516: 2517, 2517: 2518, 2518: 2519, 2519: 2520, 2520: 2521, 2521: 2522, 2522: 2523, 2523: 2524, 2524: 2525, 2525: 2526, 2526: 2527, 2527: 2528, 2528: 2529, 2529: 2530, 2530: 2531, 2531: 2532, 2532: 2533, 2533: 2534, 2534: 2535, 2535: 2536, 2536: 2537, 2537: 2538, 2538: 2539, 2539: 2540, 2540: 2541, 2541: 2542, 2542: 2543, 2543: 2544, 2544: 2545, 2545: 2546, 2546: 2547, 2547: 2548, 2548: 2549, 2549: 2550, 2550: 2551, 2551: 2552, 2552: 2553, 2553: 2554, 2554: 2555, 2555: 2556, 2556: 2557, 2557: 2558, 2558: 2559, 2559: 2560, 2560: 2561, 2561: 2562, 2562: 2563, 2563: 2564, 2564: 2565, 2565: 2566, 2566: 2567, 2567: 2568, 2568: 2569, 2569: 2570, 2570: 2571, 2571: 2572, 2572: 2573, 2573: 2574, 2574: 2575, 2575: 2576, 2576: 2577, 2577: 2578, 2578: 2579, 2579: 2580, 2580: 2581, 2581: 2582, 2582: 2583, 2583: 2584, 2584: 2585, 2585: 2586, 2586: 2587, 2587: 2588, 2588: 2589, 2589: 2590, 2590: 2591, 2591: 2592, 2592: 2593, 2593: 2594, 2594: 2595, 2595: 2596, 2596: 2597, 2597: 2598, 2598: 2599, 2599: 2600, 2600: 2601, 2601: 2602, 2602: 2603, 2603: 2604, 2604: 2605, 2605: 2606, 2606: 2607, 2607: 2608, 2608: 2609, 2609: 2610, 2610: 2611, 2611: 2612, 2612: 2613, 2613: 2614, 2614: 2615, 2615: 2616, 2616: 2617, 2617: 2618, 2618: 2619, 2619: 2620, 2620: 2621, 2621: 2622, 2622: 2623, 2623: 2624, 2624: 2625, 2625: 2626, 2626: 2627, 2627: 2628, 2628: 2629, 2629: 2630, 2630: 2631, 2631: 2632, 2632: 2633, 2633: 2634, 2634: 2635, 2635: 2636, 2636: 2637, 2637: 2638, 2638: 2639, 2639: 2640, 2640: 2641, 2641: 2642, 2642: 2643, 2643: 2644, 2644: 2645, 2645: 2646, 2646: 2647, 2647: 2648, 2648: 2649, 2649: 2650, 2650: 2651, 2651: 2652, 2652: 2653, 2653: 2654, 2654: 2655, 2655: 2656, 2656: 2657, 2657: 2658, 2658: 2659, 2659: 2660, 2660: 2661, 2661: 2662, 2662: 2663, 2663: 2664, 2664: 2665, 2665: 2666, 2666: 2667, 2667: 2668, 2668: 2669, 2669: 2670, 2670: 2671, 2671: 2672, 2672: 2673, 2673: 2674, 2674: 2675, 2675: 2676, 2676: 2677, 2677: 2678, 2678: 2679, 2679: 2680, 2680: 2681, 2681: 2682, 2682: 2683, 2683: 2684, 2684: 2685, 2685: 2686, 2686: 2687, 2687: 2688, 2688: 2689, 2689: 2690, 2690: 2691, 2691: 2692, 2692: 2693, 2693: 2694, 2694: 2695, 2695: 2696, 2696: 2697, 2697: 2698, 2698: 2699, 2699: 2700, 2700: 2701, 2701: 2702, 2702: 2703, 2703: 2704, 2704: 2705, 2705: 2706, 2706: 2707, 2707: 2708, 2708: 2709, 2709: 2710, 2710: 2711, 2711: 2712, 2712: 2713, 2713: 2714, 2714: 2715, 2715: 2716, 2716: 2717, 2717: 2718, 2718: 2719, 2719: 2720, 2720: 2721, 2721: 2722, 2722: 2723, 2723: 2724, 2724: 2725, 2725: 2726, 2726: 2727, 2727: 2728, 2728: 2729, 2729: 2730, 2730: 2731, 2731: 2732, 2732: 2733, 2733: 2734, 2734: 2735, 2735: 2736, 2736: 2737, 2737: 2738, 2738: 2739, 2739: 2740, 2740: 2741, 2741: 2742, 2742: 2743, 2743: 2744, 2744: 2745, 2745: 2746, 2746: 2747, 2747: 2748, 2748: 2749, 2749: 2750, 2750: 2751, 2751: 2752, 2752: 2753, 2753: 2754, 2754: 2755, 2755: 2756, 2756: 2757, 2757: 2758, 2758: 2759, 2759: 2760, 2760: 2761, 2761: 2762, 2762: 2763, 2763: 2764, 2764: 2765, 2765: 2766, 2766: 2767, 2767: 2768, 2768: 2769, 2769: 2770, 2770: 2771, 2771: 2772, 2772: 2773, 2773: 2774, 2774: 2775, 2775: 2776, 2776: 2777, 2777: 2778, 2778: 2779, 2779: 2780, 2780: 2781, 2781: 2782, 2782: 2783, 2783: 2784, 2784: 2785, 2785: 2786, 2786: 2787, 2787: 2788, 2788: 2789, 2789: 2790, 2790: 2791, 2791: 2792, 2792: 2793, 2793: 2794, 2794: 2795, 2795: 2796, 2796: 2797, 2797: 2798, 2798: 2799, 2799: 2800, 2800: 2801, 2801: 2802, 2802: 2803, 2803: 2804, 2804: 2805, 2805: 2806, 2806: 2807, 2807: 2808, 2808: 2809, 2809: 2810, 2810: 2811, 2811: 2812, 2812: 2813, 2813: 2814, 2814: 2815, 2815: 2816, 2816: 2817, 2817: 2818, 2818: 2819, 2819: 2820, 2820: 2821, 2821: 2822, 2822: 2823, 2823: 2824, 2824: 2825, 2825: 2826, 2826: 2827, 2827: 2828, 2828: 2829, 2829: 2830, 2830: 2831, 2831: 2832, 2832: 2833, 2833: 2834, 2834: 2835, 2835: 2836, 2836: 2837, 2837: 2838, 2838: 2839, 2839: 2840, 2840: 2841, 2841: 2842, 2842: 2843, 2843: 2844, 2844: 2845, 2845: 2846, 2846: 2847, 2847: 2848, 2848: 2849, 2849: 2850, 2850: 2851, 2851: 2852, 2852: 2853, 2853: 2854, 2854: 2855, 2855: 2856, 2856: 2857, 2857: 2858, 2858: 2859, 2859: 2860, 2860: 2861, 2861: 2862, 2862: 2863, 2863: 2864, 2864: 2865, 2865: 2866, 2866: 2867, 2867: 2868, 2868: 2869, 2869: 2870, 2870: 2871, 2871: 2872, 2872: 2873, 2873: 2874, 2874: 2875, 2875: 2876, 2876: 2877, 2877: 2878, 2878: 2879, 2879: 2880, 2880: 2881, 2881: 2882, 2882: 2883, 2883: 2884, 2884: 2885, 2885: 2886, 2886: 2887, 2887: 2888, 2888: 2889, 2889: 2890, 2890: 2891, 2891: 2892, 2892: 2893, 2893: 2894, 2894: 2895, 2895: 2896, 2896: 2897, 2897: 2898, 2898: 2899, 2899: 2900, 2900: 2901, 2901: 2902, 2902: 2903, 2903: 2904, 2904: 2905, 2905: 2906, 2906: 2907, 2907: 2908, 2908: 2909, 2909: 2910, 2910: 2911, 2911: 2912, 2912: 2913, 2913: 2914, 2914: 2915, 2915: 2916, 2916: 2917, 2917: 2918, 2918: 2919, 2919: 2920, 2920: 2921, 2921: 2922, 2922: 2923, 2923: 2924, 2924: 2925, 2925: 2926, 2926: 2927, 2927: 2928, 2928: 2929, 2929: 2930, 2930: 2931, 2931: 2932, 2932: 2933, 2933: 2934, 2934: 2935, 2935: 2936, 2936: 2937, 2937: 2938, 2938: 2939, 2939: 2940, 2940: 2941, 2941: 2942, 2942: 2943, 2943: 2944, 2944: 2945, 2945: 2946, 2946: 2947, 2947: 2948, 2948: 2949, 2949: 2950, 2950: 2951, 2951: 2952, 2952: 2953, 2953: 2954, 2954: 2955, 2955: 2956, 2956: 2957, 2957: 2958, 2958: 2959, 2959: 2960, 2960: 2961, 2961: 2962, 2962: 2963, 2963: 2964, 2964: 2965, 2965: 2966, 2966: 2967, 2967: 2968, 2968: 2969, 2969: 2970, 2970: 2971, 2971: 2972, 2972: 2973, 2973: 2974, 2974: 2975, 2975: 2976, 2976: 2977, 2977: 2978, 2978: 2979, 2979: 2980, 2980: 2981, 2981: 2982, 2982: 2983, 2983: 2984, 2984: 2985, 2985: 2986, 2986: 2987, 2987: 2988, 2988: 2989, 2989: 2990, 2990: 2991, 2991: 2992, 2992: 2993, 2993: 2994, 2994: 2995, 2995: 2996, 2996: 2997, 2997: 2998, 2998: 2999, 2999: 3000, 3000: 3001, 3001: 3002, 3002: 3003, 3003: 3004, 3004: 3005, 3005: 3006, 3006: 3007, 3007: 3008, 3008: 3009, 3009: 3010, 3010: 3011, 3011: 3012, 3012: 3013, 3013: 3014, 3014: 3015, 3015: 3016, 3016: 3017, 3017: 3018, 3018: 3019, 3019: 3020, 3020: 3021, 3021: 3022, 3022: 3023, 3023: 3024, 3024: 3025, 3025: 3026, 3026: 3027, 3027: 3028, 3028: 3029, 3029: 3030, 3030: 3031, 3031: 3032, 3032: 3033, 3033: 3034, 3034: 3035, 3035: 3036, 3036: 3037, 3037: 3038, 3038: 3039, 3039: 3040, 3040: 3041, 3041: 3042, 3042: 3043, 3043: 3044, 3044: 3045, 3045: 3046, 3046: 3047, 3047: 3048, 3048: 3049, 3049: 3050, 3050: 3051, 3051: 3052, 3052: 3053, 3053: 3054, 3054: 3055, 3055: 3056, 3056: 3057, 3057: 3058, 3058: 3059, 3059: 3060, 3060: 3061, 3061: 3062, 3062: 3063, 3063: 3064, 3064: 3065, 3065: 3066, 3066: 3067, 3067: 3068, 3068: 3069, 3069: 3070, 3070: 3071, 3071: 3072, 3072: 3073, 3073: 3074, 3074: 3075, 3075: 3076, 3076: 3077, 3077: 3078, 3078: 3079, 3079: 3080, 3080: 3081, 3081: 3082, 3082: 3083, 3083: 3084, 3084: 3085, 3085: 3086, 3086: 3087, 3087: 3088, 3088: 3089, 3089: 3090, 3090: 3091, 3091: 3092, 3092: 3093, 3093: 3094, 3094: 3095, 3095: 3096, 3096: 3097, 3097: 3098, 3098: 3099, 3099: 3100, 3100: 3101, 3101: 3102, 3102: 3103, 3103: 3104, 3104: 3105, 3105: 3106, 3106: 3107, 3107: 3108, 3108: 3109, 3109: 3110, 3110: 3111, 3111: 3112, 3112: 3113, 3113: 3114, 3114: 3115, 3115: 3116, 3116: 3117, 3117: 3118, 3118: 3119, 3119: 3120, 3120: 3121, 3121: 3122, 3122: 3123, 3123: 3124, 3124: 3125, 3125: 3126, 3126: 3127, 3127: 3128, 3128: 3129, 3129: 3130, 3130: 3131, 3131: 3132, 3132: 3133, 3133: 3134, 3134: 3135, 3135: 3136, 3136: 3137, 3137: 3138, 3138: 3139, 3139: 3140, 3140: 3141, 3141: 3142, 3142: 3143, 3143: 3144, 3144: 3145, 3145: 3146, 3146: 3147, 3147: 3148, 3148: 3149, 3149: 3150, 3150: 3151, 3151: 3152, 3152: 3153, 3153: 3154, 3154: 3155, 3155: 3156, 3156: 3157, 3157: 3158, 3158: 3159, 3159: 3160, 3160: 3161, 3161: 3162, 3162: 3163, 3163: 3164, 3164: 3165, 3165: 3166, 3166: 3167, 3167: 3168, 3168: 3169, 3169: 3170, 3170: 3171, 3171: 3172, 3172: 3173, 3173: 3174, 3174: 3175, 3175: 3176, 3176: 3177, 3177: 3178, 3178: 3179, 3179: 3180, 3180: 3181, 3181: 3182, 3182: 3183, 3183: 3184, 3184: 3185, 3185: 3186, 3186: 3187, 3187: 3188, 3188: 3189, 3189: 3190, 3190: 3191, 3191: 3192, 3192: 3193, 3193: 3194, 3194: 3195, 3195: 3196, 3196: 3197, 3197: 3198, 3198: 3199, 3199: 3200, 3200: 3201, 3201: 3202, 3202: 3203, 3203: 3204, 3204: 3205, 3205: 3206, 3206: 3207, 3207: 3208, 3208: 3209, 3209: 3210, 3210: 3211, 3211: 3212, 3212: 3213, 3213: 3214, 3214: 3215, 3215: 3216, 3216: 3217, 3217: 3218, 3218: 3219, 3219: 3220, 3220: 3221, 3221: 3222, 3222: 3223, 3223: 3224, 3224: 3225, 3225: 3226, 3226: 3227, 3227: 3228, 3228: 3229, 3229: 3230, 3230: 3231, 3231: 3232, 3232: 3233, 3233: 3234, 3234: 3235, 3235: 3236, 3236: 3237, 3237: 3238, 3238: 3239, 3239: 3240, 3240: 3241, 3241: 3242, 3242: 3243, 3243: 3244, 3244: 3245, 3245: 3246, 3246: 3247, 3247: 3248, 3248: 3249, 3249: 3250, 3250: 3251, 3251: 3252, 3252: 3253, 3253: 3254, 3254: 3255, 3255: 3256, 3256: 3257, 3257: 3258, 3258: 3259, 3259: 3260, 3260: 3261, 3261: 3262, 3262: 3263, 3263: 3264, 3264: 3265, 3265: 3266, 3266: 3267, 3267: 3268, 3268: 3269, 3269: 3270, 3270: 3271, 3271: 3272, 3272: 3273, 3273: 3274, 3274: 3275, 3275: 3276, 3276: 3277, 3277: 3278, 3278: 3279, 3279: 3280, 3280: 3281, 3281: 3282, 3282: 3283, 3283: 3284, 3284: 3285, 3285: 3286, 3286: 3287, 3287: 3288, 3288: 3289, 3289: 3290, 3290: 3291, 3291: 3292, 3292: 3293, 3293: 3294, 3294: 3295, 3295: 3296, 3296: 3297, 3297: 3298, 3298: 3299, 3299: 3300, 3300: 3301, 3301: 3302, 3302: 3303, 3303: 3304, 3304: 3305, 3305: 3306, 3306: 3307, 3307: 3308, 3308: 3309, 3309: 3310, 3310: 3311, 3311: 3312, 3312: 3313, 3313: 3314, 3314: 3315, 3315: 3316, 3316: 3317, 3317: 3318, 3318: 3319, 3319: 3320, 3320: 3321, 3321: 3322, 3322: 3323, 3323: 3324, 3324: 3325, 3325: 3326, 3326: 3327, 3327: 3328, 3328: 3329, 3329: 3330, 3330: 3331, 3331: 3332, 3332: 3333, 3333: 3334, 3334: 3335, 3335: 3336, 3336: 3337, 3337: 3338, 3338: 3339, 3339: 3340, 3340: 3341, 3341: 3342, 3342: 3343, 3343: 3344, 3344: 3345, 3345: 3346, 3346: 3347, 3347: 3348, 3348: 3349, 3349: 3350, 3350: 3351, 3351: 3352, 3352: 3353, 3353: 3354, 3354: 3355, 3355: 3356, 3356: 3357, 3357: 3358, 3358: 3359, 3359: 3360, 3360: 3361, 3361: 3362, 3362: 3363, 3363: 3364, 3364: 3365, 3365: 3366, 3366: 3367, 3367: 3368, 3368: 3369, 3369: 3370, 3370: 3371, 3371: 3372, 3372: 3373, 3373: 3374, 3374: 3375, 3375: 3376, 3376: 3377, 3377: 3378, 3378: 3379, 3379: 3380, 3380: 3381, 3381: 3382, 3382: 3383, 3383: 3384, 3384: 3385, 3385: 3386, 3386: 3387, 3387: 3388, 3388: 3389, 3389: 3390, 3390: 3391, 3391: 3392, 3392: 3393, 3393: 3394, 3394: 3395, 3395: 3396, 3396: 3397, 3397: 3398, 3398: 3399, 3399: 3400, 3400: 3401, 3401: 3402, 3402: 3403, 3403: 3404, 3404: 3405, 3405: 3406, 3406: 3407, 3407: 3408, 3408: 3409, 3409: 3410, 3410: 3411, 3411: 3412, 3412: 3413, 3413: 3414, 3414: 3415, 3415: 3416, 3416: 3417, 3417: 3418, 3418: 3419, 3419: 3420, 3420: 3421, 3421: 3422, 3422: 3423, 3423: 3424, 3424: 3425, 3425: 3426, 3426: 3427, 3427: 3428, 3428: 3429, 3429: 3430, 3430: 3431, 3431: 3432, 3432: 3433, 3433: 3434, 3434: 3435, 3435: 3436, 3436: 3437, 3437: 3438, 3438: 3439, 3439: 3440, 3440: 3441, 3441: 3442, 3442: 3443, 3443: 3444, 3444: 3445, 3445: 3446, 3446: 3447, 3447: 3448, 3448: 3449, 3449: 3450, 3450: 3451, 3451: 3452, 3452: 3453, 3453: 3454, 3454: 3455, 3455: 3456, 3456: 3457, 3457: 3458, 3458: 3459, 3459: 3460, 3460: 3461, 3461: 3462, 3462: 3463, 3463: 3464, 3464: 3465, 3465: 3466, 3466: 3467, 3467: 3468, 3468: 3469, 3469: 3470, 3470: 3471, 3471: 3472, 3472: 3473, 3473: 3474, 3474: 3475, 3475: 3476, 3476: 3477, 3477: 3478, 3478: 3479, 3479: 3480, 3480: 3481, 3481: 3482, 3482: 3483, 3483: 3484, 3484: 3485, 3485: 3486, 3486: 3487, 3487: 3488, 3488: 3489, 3489: 3490, 3490: 3491, 3491: 3492, 3492: 3493, 3493: 3494, 3494: 3495, 3495: 3496, 3496: 3497, 3497: 3498, 3498: 3499, 3499: 3500, 3500: 3501, 3501: 3502, 3502: 3503, 3503: 3504, 3504: 3505, 3505: 3506, 3506: 3507, 3507: 3508, 3508: 3509, 3509: 3510, 3510: 3511, 3511: 3512, 3512: 3513, 3513: 3514, 3514: 3515, 3515: 3516, 3516: 3517, 3517: 3518, 3518: 3519, 3519: 3520, 3520: 3521, 3521: 3522, 3522: 3523, 3523: 3524, 3524: 3525, 3525: 3526, 3526: 3527, 3527: 3528, 3528: 3529, 3529: 3530, 3530: 3531, 3531: 3532, 3532: 3533, 3533: 3534, 3534: 3535, 3535: 3536, 3536: 3537, 3537: 3538, 3538: 3539, 3539: 3540, 3540: 3541, 3541: 3542, 3542: 3543, 3543: 3544, 3544: 3545, 3545: 3546, 3546: 3547, 3547: 3548, 3548: 3549, 3549: 3550, 3550: 3551, 3551: 3552, 3552: 3553, 3553: 3554, 3554: 3555, 3555: 3556, 3556: 3557, 3557: 3558, 3558: 3559, 3559: 3560, 3560: 3561, 3561: 3562, 3562: 3563, 3563: 3564, 3564: 3565, 3565: 3566, 3566: 3567, 3567: 3568, 3568: 3569, 3569: 3570, 3570: 3571, 3571: 3572, 3572: 3573, 3573: 3574, 3574: 3575, 3575: 3576, 3576: 3577, 3577: 3578, 3578: 3579, 3579: 3580, 3580: 3581, 3581: 3582, 3582: 3583, 3583: 3584, 3584: 3585, 3585: 3586, 3586: 3587, 3587: 3588, 3588: 3589, 3589: 3590, 3590: 3591, 3591: 3592, 3592: 3593, 3593: 3594, 3594: 3595, 3595: 3596, 3596: 3597, 3597: 3598, 3598: 3599, 3599: 3600, 3600: 3601, 3601: 3602, 3602: 3603, 3603: 3604, 3604: 3605, 3605: 3606, 3606: 3607, 3607: 3608, 3608: 3609, 3609: 3610, 3610: 3611, 3611: 3612, 3612: 3613, 3613: 3614, 3614: 3615, 3615: 3616, 3616: 3617, 3617: 3618, 3618: 3619, 3619: 3620, 3620: 3621, 3621: 3622, 3622: 3623, 3623: 3624, 3624: 3625, 3625: 3626, 3626: 3627, 3627: 3628, 3628: 3629, 3629: 3630, 3630: 3631, 3631: 3632, 3632: 3633, 3633: 3634, 3634: 3635, 3635: 3636, 3636: 3637, 3637: 3638, 3638: 3639, 3639: 3640, 3640: 3641, 3641: 3642, 3642: 3643, 3643: 3644, 3644: 3645, 3645: 3646, 3646: 3647, 3647: 3648, 3648: 3649, 3649: 3650, 3650: 3651, 3651: 3652, 3652: 3653, 3653: 3654, 3654: 3655, 3655: 3656, 3656: 3657, 3657: 3658, 3658: 3659, 3659: 3660, 3660: 3661, 3661: 3662, 3662: 3663, 3663: 3664, 3664: 3665, 3665: 3666, 3666: 3667, 3667: 3668, 3668: 3669, 3669: 3670, 3670: 3671, 3671: 3672, 3672: 3673, 3673: 3674, 3674: 3675, 3675: 3676, 3676: 3677, 3677: 3678, 3678: 3679, 3679: 3680, 3680: 3681, 3681: 3682, 3682: 3683, 3683: 3684, 3684: 3685, 3685: 3686, 3686: 3687, 3687: 3688, 3688: 3689, 3689: 3690, 3690: 3691, 3691: 3692, 3692: 3693, 3693: 3694, 3694: 3695, 3695: 3696, 3696: 3697, 3697: 3698, 3698: 3699, 3699: 3700, 3700: 3701, 3701: 3702, 3702: 3703, 3703: 3704, 3704: 3705, 3705: 3706, 3706: 3707, 3707: 3708, 3708: 3709, 3709: 3710, 3710: 3711, 3711: 3712, 3712: 3713, 3713: 3714, 3714: 3715, 3715: 3716, 3716: 3717, 3717: 3718, 3718: 3719, 3719: 3720, 3720: 3721, 3721: 3722, 3722: 3723, 3723: 3724, 3724: 3725, 3725: 3726, 3726: 3727, 3727: 3728, 3728: 3729, 3729: 3730, 3730: 3731, 3731: 3732, 3732: 3733, 3733: 3734, 3734: 3735, 3735: 3736, 3736: 3737, 3737: 3738, 3738: 3739, 3739: 3740, 3740: 3741, 3741: 3742, 3742: 3743, 3743: 3744, 3744: 3745, 3745: 3746, 3746: 3747, 3747: 3748, 3748: 3749, 3749: 3750, 3750: 3751, 3751: 3752, 3752: 3753, 3753: 3754, 3754: 3755, 3755: 3756, 3756: 3757, 3757: 3758, 3758: 3759, 3759: 3760, 3760: 3761, 3761: 3762, 3762: 3763, 3763: 3764, 3764: 3765, 3765: 3766, 3766: 3767, 3767: 3768, 3768: 3769, 3769: 3770, 3770: 3771, 3771: 3772, 3772: 3773, 3773: 3774, 3774: 3775, 3775: 3776, 3776: 3777, 3777: 3778, 3778: 3779, 3779: 3780, 3780: 3781, 3781: 3782, 3782: 3783, 3783: 3784, 3784: 3785, 3785: 3786, 3786: 3787, 3787: 3788, 3788: 3789, 3789: 3790, 3790: 3791, 3791: 3792, 3792: 3793, 3793: 3794, 3794: 3795, 3795: 3796, 3796: 3797, 3797: 3798, 3798: 3799, 3799: 3800, 3800: 3801, 3801: 3802, 3802: 3803, 3803: 3804, 3804: 3805, 3805: 3806, 3806: 3807, 3807: 3808, 3808: 3809, 3809: 3810, 3810: 3811, 3811: 3812, 3812: 3813, 3813: 3814, 3814: 3815, 3815: 3816, 3816: 3817, 3817: 3818, 3818: 3819, 3819: 3820, 3820: 3821, 3821: 3822, 3822: 3823, 3823: 3824, 3824: 3825, 3825: 3826, 3826: 3827, 3827: 3828, 3828: 3829, 3829: 3830, 3830: 3831, 3831: 3832, 3832: 3833, 3833: 3834, 3834: 3835, 3835: 3836, 3836: 3837, 3837: 3838, 3838: 3839, 3839: 3840, 3840: 3841, 3841: 3842, 3842: 3843, 3843: 3844, 3844: 3845, 3845: 3846, 3846: 3847, 3847: 3848, 3848: 3849, 3849: 3850, 3850: 3851, 3851: 3852, 3852: 3853, 3853: 3854, 3854: 3855, 3855: 3856, 3856: 3857, 3857: 3858, 3858: 3859, 3859: 3860, 3860: 3861, 3861: 3862, 3862: 3863, 3863: 3864, 3864: 3865, 3865: 3866, 3866: 3867, 3867: 3868, 3868: 3869, 3869: 3870, 3870: 3871, 3871: 3872, 3872: 3873, 3873: 3874, 3874: 3875, 3875: 3876, 3876: 3877, 3877: 3878, 3878: 3879, 3879: 3880, 3880: 3881, 3881: 3882, 3882: 3883, 3883: 3884, 3884: 3885, 3885: 3886, 3886: 3887, 3887: 3888, 3888: 3889, 3889: 3890, 3890: 3891, 3891: 3892, 3892: 3893, 3893: 3894, 3894: 3895, 3895: 3896, 3896: 3897, 3897: 3898, 3898: 3899, 3899: 3900, 3900: 3901, 3901: 3902, 3902: 3903, 3903: 3904, 3904: 3905, 3905: 3906, 3906: 3907, 3907: 3908, 3908: 3909, 3909: 3910, 3910: 3911, 3911: 3912, 3912: 3913, 3913: 3914, 3914: 3915, 3915: 3916, 3916: 3917, 3917: 3918, 3918: 3919, 3919: 3920, 3920: 3921, 3921: 3922, 3922: 3923, 3923: 3924, 3924: 3925, 3925: 3926, 3926: 3927, 3927: 3928, 3928: 3929, 3929: 3930, 3930: 3931, 3931: 3932, 3932: 3933, 3933: 3934, 3934: 3935, 3935: 3936, 3936: 3937, 3937: 3938, 3938: 3939, 3939: 3940, 3940: 3941, 3941: 3942, 3942: 3943, 3943: 3944, 3944: 3945, 3945: 3946, 3946: 3947, 3947: 3948, 3948: 3949, 3949: 3950, 3950: 3951, 3951: 3952, 3952: 3953, 3953: 3954, 3954: 3955, 3955: 3956, 3956: 3957, 3957: 3958, 3958: 3959, 3959: 3960, 3960: 3961, 3961: 3962, 3962: 3963, 3963: 3964, 3964: 3965, 3965: 3966, 3966: 3967, 3967: 3968, 3968: 3969, 3969: 3970, 3970: 3971, 3971: 3972, 3972: 3973, 3973: 3974, 3974: 3975, 3975: 3976, 3976: 3977, 3977: 3978, 3978: 3979, 3979: 3980, 3980: 3981, 3981: 3982, 3982: 3983, 3983: 3984, 3984: 3985, 3985: 3986, 3986: 3987, 3987: 3988, 3988: 3989, 3989: 3990, 3990: 3991, 3991: 3992, 3992: 3993, 3993: 3994, 3994: 3995, 3995: 3996, 3996: 3997, 3997: 3998, 3998: 3999, 3999: 4000, 4000: 4001, 4001: 4002, 4002: 4003, 4003: 4004, 4004: 4005, 4005: 4006, 4006: 4007, 4007: 4008, 4008: 4009, 4009: 4010, 4010: 4011, 4011: 4012, 4012: 4013, 4013: 4014, 4014: 4015, 4015: 4016, 4016: 4017, 4017: 4018, 4018: 4019, 4019: 4020, 4020: 4021, 4021: 4022, 4022: 4023, 4023: 4024, 4024: 4025, 4025: 4026, 4026: 4027, 4027: 4028, 4028: 4029, 4029: 4030, 4030: 4031, 4031: 4032, 4032: 4033, 4033: 4034, 4034: 4035, 4035: 4036, 4036: 4037, 4037: 4038, 4038: 4039, 4039: 4040, 4040: 4041, 4041: 4042, 4042: 4043, 4043: 4044, 4044: 4045, 4045: 4046, 4046: 4047, 4047: 4048, 4048: 4049, 4049: 4050, 4050: 4051, 4051: 4052, 4052: 4053, 4053: 4054, 4054: 4055, 4055: 4056, 4056: 4057, 4057: 4058, 4058: 4059, 4059: 4060, 4060: 4061, 4061: 4062, 4062: 4063, 4063: 4064, 4064: 4065, 4065: 4066, 4066: 4067, 4067: 4068, 4068: 4069, 4069: 4070, 4070: 4071, 4071: 4072, 4072: 4073, 4073: 4074, 4074: 4075, 4075: 4076, 4076: 4077, 4077: 4078, 4078: 4079, 4079: 4080, 4080: 4081, 4081: 4082, 4082: 4083, 4083: 4084, 4084: 4085, 4085: 4086, 4086: 4087, 4087: 4088, 4088: 4089, 4089: 4090, 4090: 4091, 4091: 4092, 4092: 4093, 4093: 4094, 4094: 4095, 4095: 4096, 4096: 4097, 4097: 4098, 4098: 4099, 4099: 4100, 4100: 4101, 4101: 4102, 4102: 4103, 4103: 4104, 4104: 4105, 4105: 4106, 4106: 4107, 4107: 4108, 4108: 4109, 4109: 4110, 4110: 4111, 4111: 4112, 4112: 4113, 4113: 4114, 4114: 4115, 4115: 4116, 4116: 4117, 4117: 4118, 4118: 4119, 4119: 4120, 4120: 4121, 4121: 4122, 4122: 4123, 4123: 4124, 4124: 4125, 4125: 4126, 4126: 4127, 4127: 4128, 4128: 4129, 4129: 4130, 4130: 4131, 4131: 4132, 4132: 4133, 4133: 4134, 4134: 4135, 4135: 4136, 4136: 4137, 4137: 4138, 4138: 4139, 4139: 4140, 4140: 4141, 4141: 4142, 4142: 4143, 4143: 4144, 4144: 4145, 4145: 4146, 4146: 4147, 4147: 4148, 4148: 4149, 4149: 4150, 4150: 4151, 4151: 4152, 4152: 4153, 4153: 4154, 4154: 4155, 4155: 4156, 4156: 4157, 4157: 4158, 4158: 4159, 4159: 4160, 4160: 4161, 4161: 4162, 4162: 4163, 4163: 4164, 4164: 4165, 4165: 4166, 4166: 4167, 4167: 4168, 4168: 4169, 4169: 4170, 4170: 4171, 4171: 4172, 4172: 4173, 4173: 4174, 4174: 4175, 4175: 4176, 4176: 4177, 4177: 4178, 4178: 4179, 4179: 4180, 4180: 4181, 4181: 4182, 4182: 4183, 4183: 4184, 4184: 4185, 4185: 4186, 4186: 4187, 4187: 4188, 4188: 4189, 4189: 4190, 4190: 4191, 4191: 4192, 4192: 4193, 4193: 4194, 4194: 4195, 4195: 4196, 4196: 4197, 4197: 4198, 4198: 4199, 4199: 4200, 4200: 4201, 4201: 4202, 4202: 4203, 4203: 4204, 4204: 4205, 4205: 4206, 4206: 4207, 4207: 4208, 4208: 4209, 4209: 4210, 4210: 4211, 4211: 4212, 4212: 4213, 4213: 4214, 4214: 4215, 4215: 4216, 4216: 4217, 4217: 4218, 4218: 4219, 4219: 4220, 4220: 4221, 4221: 4222, 4222: 4223, 4223: 4224, 4224: 4225, 4225: 4226, 4226: 4227, 4227: 4228, 4228: 4229, 4229: 4230, 4230: 4231, 4231: 4232, 4232: 4233, 4233: 4234, 4234: 4235, 4235: 4236, 4236: 4237, 4237: 4238, 4238: 4239, 4239: 4240, 4240: 4241, 4241: 4242, 4242: 4243, 4243: 4244, 4244: 4245, 4245: 4246, 4246: 4247, 4247: 4248, 4248: 4249, 4249: 4250, 4250: 4251, 4251: 4252, 4252: 4253, 4253: 4254, 4254: 4255, 4255: 4256, 4256: 4257, 4257: 4258, 4258: 4259, 4259: 4260, 4260: 4261, 4261: 4262, 4262: 4263, 4263: 4264, 4264: 4265, 4265: 4266, 4266: 4267, 4267: 4268, 4268: 4269, 4269: 4270, 4270: 4271, 4271: 4272, 4272: 4273, 4273: 4274, 4274: 4275, 4275: 4276, 4276: 4277, 4277: 4278, 4278: 4279, 4279: 4280, 4280: 4281, 4281: 4282, 4282: 4283, 4283: 4284, 4284: 4285, 4285: 4286, 4286: 4287, 4287: 4288, 4288: 4289, 4289: 4290, 4290: 4291, 4291: 4292, 4292: 4293, 4293: 4294, 4294: 4295, 4295: 4296, 4296: 4297, 4297: 4298, 4298: 4299, 4299: 4300, 4300: 4301, 4301: 4302, 4302: 4303, 4303: 4304, 4304: 4305, 4305: 4306, 4306: 4307, 4307: 4308, 4308: 4309, 4309: 4310, 4310: 4311, 4311: 4312, 4312: 4313, 4313: 4314, 4314: 4315, 4315: 4316, 4316: 4317, 4317: 4318, 4318: 4319, 4319: 4320, 4320: 4321, 4321: 4322, 4322: 4323, 4323: 4324, 4324: 4325, 4325: 4326, 4326: 4327, 4327: 4328, 4328: 4329, 4329: 4330, 4330: 4331, 4331: 4332, 4332: 4333, 4333: 4334, 4334: 4335, 4335: 4336, 4336: 4337, 4337: 4338, 4338: 4339, 4339: 4340, 4340: 4341, 4341: 4342, 4342: 4343, 4343: 4344, 4344: 4345, 4345: 4346, 4346: 4347, 4347: 4348, 4348: 4349, 4349: 4350, 4350: 4351, 4351: 4352, 4352: 4353, 4353: 4354, 4354: 4355, 4355: 4356, 4356: 4357, 4357: 4358, 4358: 4359, 4359: 4360, 4360: 4361, 4361: 4362, 4362: 4363, 4363: 4364, 4364: 4365, 4365: 4366, 4366: 4367, 4367: 4368, 4368: 4369, 4369: 4370, 4370: 4371, 4371: 4372, 4372: 4373, 4373: 4374, 4374: 4375, 4375: 4376, 4376: 4377, 4377: 4378, 4378: 4379, 4379: 4380, 4380: 4381, 4381: 4382, 4382: 4383, 4383: 4384, 4384: 4385, 4385: 4386, 4386: 4387, 4387: 4388, 4388: 4389, 4389: 4390, 4390: 4391, 4391: 4392, 4392: 4393, 4393: 4394, 4394: 4395, 4395: 4396, 4396: 4397, 4397: 4398, 4398: 4399, 4399: 4400, 4400: 4401, 4401: 4402, 4402: 4403, 4403: 4404, 4404: 4405, 4405: 4406, 4406: 4407, 4407: 4408, 4408: 4409, 4409: 4410, 4410: 4411, 4411: 4412, 4412: 4413, 4413: 4414, 4414: 4415, 4415: 4416, 4416: 4417, 4417: 4418, 4418: 4419, 4419: 4420, 4420: 4421, 4421: 4422, 4422: 4423, 4423: 4424, 4424: 4425, 4425: 4426, 4426: 4427, 4427: 4428, 4428: 4429, 4429: 4430, 4430: 4431, 4431: 4432, 4432: 4433, 4433: 4434, 4434: 4435, 4435: 4436, 4436: 4437, 4437: 4438, 4438: 4439, 4439: 4440, 4440: 4441, 4441: 4442, 4442: 4443, 4443: 4444, 4444: 4445, 4445: 4446, 4446: 4447, 4447: 4448, 4448: 4449, 4449: 4450, 4450: 4451, 4451: 4452, 4452: 4453, 4453: 4454, 4454: 4455, 4455: 4456, 4456: 4457, 4457: 4458, 4458: 4459, 4459: 4460, 4460: 4461, 4461: 4462, 4462: 4463, 4463: 4464, 4464: 4465, 4465: 4466, 4466: 4467, 4467: 4468, 4468: 4469, 4469: 4470, 4470: 4471, 4471: 4472, 4472: 4473, 4473: 4474, 4474: 4475, 4475: 4476, 4476: 4477, 4477: 4478, 4478: 4479, 4479: 4480, 4480: 4481, 4481: 4482, 4482: 4483, 4483: 4484, 4484: 4485, 4485: 4486, 4486: 4487, 4487: 4488, 4488: 4489, 4489: 4490, 4490: 4491, 4491: 4492, 4492: 4493, 4493: 4494, 4494: 4495, 4495: 4496, 4496: 4497, 4497: 4498, 4498: 4499, 4499: 4500, 4500: 4501, 4501: 4502, 4502: 4503, 4503: 4504, 4504: 4505, 4505: 4506, 4506: 4507, 4507: 4508, 4508: 4509, 4509: 4510, 4510: 4511, 4511: 4512, 4512: 4513, 4513: 4514, 4514: 4515, 4515: 4516, 4516: 4517, 4517: 4518, 4518: 4519, 4519: 4520, 4520: 4521, 4521: 4522, 4522: 4523, 4523: 4524, 4524: 4525, 4525: 4526, 4526: 4527, 4527: 4528, 4528: 4529, 4529: 4530, 4530: 4531, 4531: 4532, 4532: 4533, 4533: 4534, 4534: 4535, 4535: 4536, 4536: 4537, 4537: 4538, 4538: 4539, 4539: 4540, 4540: 4541, 4541: 4542, 4542: 4543, 4543: 4544, 4544: 4545, 4545: 4546, 4546: 4547, 4547: 4548, 4548: 4549, 4549: 4550, 4550: 4551, 4551: 4552, 4552: 4553, 4553: 4554, 4554: 4555, 4555: 4556, 4556: 4557, 4557: 4558, 4558: 4559, 4559: 4560, 4560: 4561, 4561: 4562, 4562: 4563, 4563: 4564, 4564: 4565, 4565: 4566, 4566: 4567, 4567: 4568, 4568: 4569, 4569: 4570, 4570: 4571, 4571: 4572, 4572: 4573, 4573: 4574, 4574: 4575, 4575: 4576, 4576: 4577, 4577: 4578, 4578: 4579, 4579: 4580, 4580: 4581, 4581: 4582, 4582: 4583, 4583: 4584, 4584: 4585, 4585: 4586, 4586: 4587, 4587: 4588, 4588: 4589, 4589: 4590, 4590: 4591, 4591: 4592, 4592: 4593, 4593: 4594, 4594: 4595, 4595: 4596, 4596: 4597, 4597: 4598, 4598: 4599, 4599: 4600, 4600: 4601, 4601: 4602, 4602: 4603, 4603: 4604, 4604: 4605, 4605: 4606, 4606: 4607, 4607: 4608, 4608: 4609, 4609: 4610, 4610: 4611, 4611: 4612, 4612: 4613, 4613: 4614, 4614: 4615, 4615: 4616, 4616: 4617, 4617: 4618, 4618: 4619, 4619: 4620, 4620: 4621, 4621: 4622, 4622: 4623, 4623: 4624, 4624: 4625, 4625: 4626, 4626: 4627, 4627: 4628, 4628: 4629, 4629: 4630, 4630: 4631, 4631: 4632, 4632: 4633, 4633: 4634, 4634: 4635, 4635: 4636, 4636: 4637, 4637: 4638, 4638: 4639, 4639: 4640, 4640: 4641, 4641: 4642, 4642: 4643, 4643: 4644, 4644: 4645, 4645: 4646, 4646: 4647, 4647: 4648, 4648: 4649, 4649: 4650, 4650: 4651, 4651: 4652, 4652: 4653, 4653: 4654, 4654: 4655, 4655: 4656, 4656: 4657, 4657: 4658, 4658: 4659, 4659: 4660, 4660: 4661, 4661: 4662, 4662: 4663, 4663: 4664, 4664: 4665, 4665: 4666, 4666: 4667, 4667: 4668, 4668: 4669, 4669: 4670, 4670: 4671, 4671: 4672, 4672: 4673, 4673: 4674, 4674: 4675, 4675: 4676, 4676: 4677, 4677: 4678, 4678: 4679, 4679: 4680, 4680: 4681, 4681: 4682, 4682: 4683, 4683: 4684, 4684: 4685, 4685: 4686, 4686: 4687, 4687: 4688, 4688: 4689, 4689: 4690, 4690: 4691, 4691: 4692, 4692: 4693, 4693: 4694, 4694: 4695, 4695: 4696, 4696: 4697, 4697: 4698, 4698: 4699, 4699: 4700, 4700: 4701, 4701: 4702, 4702: 4703, 4703: 4704, 4704: 4705, 4705: 4706, 4706: 4707, 4707: 4708, 4708: 4709, 4709: 4710, 4710: 4711, 4711: 4712, 4712: 4713, 4713: 4714, 4714: 4715, 4715: 4716, 4716: 4717, 4717: 4718, 4718: 4719, 4719: 4720, 4720: 4721, 4721: 4722, 4722: 4723, 4723: 4724, 4724: 4725, 4725: 4726, 4726: 4727, 4727: 4728, 4728: 4729, 4729: 4730, 4730: 4731, 4731: 4732, 4732: 4733, 4733: 4734, 4734: 4735, 4735: 4736, 4736: 4737, 4737: 4738, 4738: 4739, 4739: 4740, 4740: 4741, 4741: 4742, 4742: 4743, 4743: 4744, 4744: 4745, 4745: 4746, 4746: 4747, 4747: 4748, 4748: 4749, 4749: 4750, 4750: 4751, 4751: 4752, 4752: 4753, 4753: 4754, 4754: 4755, 4755: 4756, 4756: 4757, 4757: 4758, 4758: 4759, 4759: 4760, 4760: 4761, 4761: 4762, 4762: 4763, 4763: 4764, 4764: 4765, 4765: 4766, 4766: 4767, 4767: 4768, 4768: 4769, 4769: 4770, 4770: 4771, 4771: 4772, 4772: 4773, 4773: 4774, 4774: 4775, 4775: 4776, 4776: 4777, 4777: 4778, 4778: 4779, 4779: 4780, 4780: 4781, 4781: 4782, 4782: 4783, 4783: 4784, 4784: 4785, 4785: 4786, 4786: 4787, 4787: 4788, 4788: 4789, 4789: 4790, 4790: 4791, 4791: 4792, 4792: 4793, 4793: 4794, 4794: 4795, 4795: 4796, 4796: 4797, 4797: 4798, 4798: 4799, 4799: 4800, 4800: 4801, 4801: 4802, 4802: 4803, 4803: 4804, 4804: 4805, 4805: 4806, 4806: 4807, 4807: 4808, 4808: 4809, 4809: 4810, 4810: 4811, 4811: 4812, 4812: 4813, 4813: 4814, 4814: 4815, 4815: 4816, 4816: 4817, 4817: 4818, 4818: 4819, 4819: 4820, 4820: 4821, 4821: 4822, 4822: 4823, 4823: 4824, 4824: 4825, 4825: 4826, 4826: 4827, 4827: 4828, 4828: 4829, 4829: 4830, 4830: 4831, 4831: 4832, 4832: 4833, 4833: 4834, 4834: 4835, 4835: 4836, 4836: 4837, 4837: 4838, 4838: 4839, 4839: 4840, 4840: 4841, 4841: 4842, 4842: 4843, 4843: 4844, 4844: 4845, 4845: 4846, 4846: 4847, 4847: 4848, 4848: 4849, 4849: 4850, 4850: 4851, 4851: 4852, 4852: 4853, 4853: 4854, 4854: 4855, 4855: 4856, 4856: 4857, 4857: 4858, 4858: 4859, 4859: 4860, 4860: 4861, 4861: 4862, 4862: 4863, 4863: 4864, 4864: 4865, 4865: 4866, 4866: 4867, 4867: 4868, 4868: 4869, 4869: 4870, 4870: 4871, 4871: 4872, 4872: 4873, 4873: 4874, 4874: 4875, 4875: 4876, 4876: 4877, 4877: 4878, 4878: 4879, 4879: 4880, 4880: 4881, 4881: 4882, 4882: 4883, 4883: 4884, 4884: 4885, 4885: 4886, 4886: 4887, 4887: 4888, 4888: 4889, 4889: 4890, 4890: 4891, 4891: 4892, 4892: 4893, 4893: 4894, 4894: 4895, 4895: 4896, 4896: 4897, 4897: 4898, 4898: 4899, 4899: 4900, 4900: 4901, 4901: 4902, 4902: 4903, 4903: 4904, 4904: 4905, 4905: 4906, 4906: 4907, 4907: 4908, 4908: 4909, 4909: 4910, 4910: 4911, 4911: 4912, 4912: 4913, 4913: 4914, 4914: 4915, 4915: 4916, 4916: 4917, 4917: 4918, 4918: 4919, 4919: 4920, 4920: 4921, 4921: 4922, 4922: 4923, 4923: 4924, 4924: 4925, 4925: 4926, 4926: 4927, 4927: 4928, 4928: 4929, 4929: 4930, 4930: 4931, 4931: 4932, 4932: 4933, 4933: 4934, 4934: 4935, 4935: 4936, 4936: 4937, 4937: 4938, 4938: 4939, 4939: 4940, 4940: 4941, 4941: 4942, 4942: 4943, 4943: 4944, 4944: 4945, 4945: 4946, 4946: 4947, 4947: 4948, 4948: 4949, 4949: 4950, 4950: 4951, 4951: 4952, 4952: 4953, 4953: 4954, 4954: 4955, 4955: 4956, 4956: 4957, 4957: 4958, 4958: 4959, 4959: 4960, 4960: 4961, 4961: 4962, 4962: 4963, 4963: 4964, 4964: 4965, 4965: 4966, 4966: 4967, 4967: 4968, 4968: 4969, 4969: 4970, 4970: 4971, 4971: 4972, 4972: 4973, 4973: 4974, 4974: 4975, 4975: 4976, 4976: 4977, 4977: 4978, 4978: 4979, 4979: 4980, 4980: 4981, 4981: 4982, 4982: 4983, 4983: 4984, 4984: 4985, 4985: 4986, 4986: 4987, 4987: 4988, 4988: 4989, 4989: 4990, 4990: 4991, 4991: 4992, 4992: 4993, 4993: 4994, 4994: 4995, 4995: 4996, 4996: 4997, 4997: 4998, 4998: 4999, 4999: 5000, 5000: 5001, 5001: 5002, 5002: 5003, 5003: 5004, 5004: 5005, 5005: 5006, 5006: 5007, 5007: 5008, 5008: 5009, 5009: 5010, 5010: 5011, 5011: 5012, 5012: 5013, 5013: 5014, 5014: 5015, 5015: 5016, 5016: 5017, 5017: 5018, 5018: 5019, 5019: 5020, 5020: 5021, 5021: 5022, 5022: 5023, 5023: 5024, 5024: 5025, 5025: 5026, 5026: 5027, 5027: 5028, 5028: 5029, 5029: 5030, 5030: 5031, 5031: 5032, 5032: 5033, 5033: 5034, 5034: 5035, 5035: 5036, 5036: 5037, 5037: 5038, 5038: 5039, 5039: 5040, 5040: 5041, 5041: 5042, 5042: 5043, 5043: 5044, 5044: 5045, 5045: 5046, 5046: 5047, 5047: 5048, 5048: 5049, 5049: 5050, 5050: 5051, 5051: 5052, 5052: 5053, 5053: 5054, 5054: 5055, 5055: 5056, 5056: 5057, 5057: 5058, 5058: 5059, 5059: 5060, 5060: 5061, 5061: 5062, 5062: 5063, 5063: 5064, 5064: 5065, 5065: 5066, 5066: 5067, 5067: 5068, 5068: 5069, 5069: 5070, 5070: 5071, 5071: 5072, 5072: 5073, 5073: 5074, 5074: 5075, 5075: 5076, 5076: 5077, 5077: 5078, 5078: 5079, 5079: 5080, 5080: 5081, 5081: 5082, 5082: 5083, 5083: 5084, 5084: 5085, 5085: 5086, 5086: 5087, 5087: 5088, 5088: 5089, 5089: 5090, 5090: 5091, 5091: 5092, 5092: 5093, 5093: 5094, 5094: 5095, 5095: 5096, 5096: 5097, 5097: 5098, 5098: 5099, 5099: 5100, 5100: 5101, 5101: 5102, 5102: 5103, 5103: 5104, 5104: 5105, 5105: 5106, 5106: 5107, 5107: 5108, 5108: 5109, 5109: 5110, 5110: 5111, 5111: 5112, 5112: 5113, 5113: 5114, 5114: 5115, 5115: 5116, 5116: 5117, 5117: 5118, 5118: 5119, 5119: 5120, 5120: 5121, 5121: 5122, 5122: 5123, 5123: 5124, 5124: 5125, 5125: 5126, 5126: 5127, 5127: 5128, 5128: 5129, 5129: 5130, 5130: 5131, 5131: 5132, 5132: 5133, 5133: 5134, 5134: 5135, 5135: 5136, 5136: 5137, 5137: 5138, 5138: 5139, 5139: 5140, 5140: 5141, 5141: 5142, 5142: 5143, 5143: 5144, 5144: 5145, 5145: 5146, 5146: 5147, 5147: 5148, 5148: 5149, 5149: 5150, 5150: 5151, 5151: 5152, 5152: 5153, 5153: 5154, 5154: 5155, 5155: 5156, 5156: 5157, 5157: 5158, 5158: 5159, 5159: 5160, 5160: 5161, 5161: 5162, 5162: 5163, 5163: 5164, 5164: 5165, 5165: 5166, 5166: 5167, 5167: 5168, 5168: 5169, 5169: 5170, 5170: 5171, 5171: 5172, 5172: 5173, 5173: 5174, 5174: 5175, 5175: 5176, 5176: 5177, 5177: 5178, 5178: 5179, 5179: 5180, 5180: 5181, 5181: 5182, 5182: 5183, 5183: 5184, 5184: 5185, 5185: 5186, 5186: 5187, 5187: 5188, 5188: 5189, 5189: 5190, 5190: 5191, 5191: 5192, 5192: 5193, 5193: 5194, 5194: 5195, 5195: 5196, 5196: 5197, 5197: 5198, 5198: 5199, 5199: 5200, 5200: 5201, 5201: 5202, 5202: 5203, 5203: 5204, 5204: 5205, 5205: 5206, 5206: 5207, 5207: 5208, 5208: 5209, 5209: 5210, 5210: 5211, 5211: 5212, 5212: 5213, 5213: 5214, 5214: 5215, 5215: 5216, 5216: 5217, 5217: 5218, 5218: 5219, 5219: 5220, 5220: 5221, 5221: 5222, 5222: 5223, 5223: 5224, 5224: 5225, 5225: 5226, 5226: 5227, 5227: 5228, 5228: 5229, 5229: 5230, 5230: 5231, 5231: 5232, 5232: 5233, 5233: 5234, 5234: 5235, 5235: 5236, 5236: 5237, 5237: 5238, 5238: 5239, 5239: 5240, 5240: 5241, 5241: 5242, 5242: 5243, 5243: 5244, 5244: 5245, 5245: 5246, 5246: 5247, 5247: 5248, 5248: 5249, 5249: 5250, 5250: 5251, 5251: 5252, 5252: 5253, 5253: 5254, 5254: 5255, 5255: 5256, 5256: 5257, 5257: 5258, 5258: 5259, 5259: 5260, 5260: 5261, 5261: 5262, 5262: 5263, 5263: 5264, 5264: 5265, 5265: 5266, 5266: 5267, 5267: 5268, 5268: 5269, 5269: 5270, 5270: 5271, 5271: 5272, 5272: 5273, 5273: 5274, 5274: 5275, 5275: 5276, 5276: 5277, 5277: 5278, 5278: 5279, 5279: 5280, 5280: 5281, 5281: 5282, 5282: 5283, 5283: 5284, 5284: 5285, 5285: 5286, 5286: 5287, 5287: 5288, 5288: 5289, 5289: 5290, 5290: 5291, 5291: 5292, 5292: 5293, 5293: 5294, 5294: 5295, 5295: 5296, 5296: 5297, 5297: 5298, 5298: 5299, 5299: 5300, 5300: 5301, 5301: 5302, 5302: 5303, 5303: 5304, 5304: 5305, 5305: 5306, 5306: 5307, 5307: 5308, 5308: 5309, 5309: 5310, 5310: 5311, 5311: 5312, 5312: 5313, 5313: 5314, 5314: 5315, 5315: 5316, 5316: 5317, 5317: 5318, 5318: 5319, 5319: 5320, 5320: 5321, 5321: 5322, 5322: 5323, 5323: 5324, 5324: 5325, 5325: 5326, 5326: 5327, 5327: 5328, 5328: 5329, 5329: 5330, 5330: 5331, 5331: 5332, 5332: 5333, 5333: 5334, 5334: 5335, 5335: 5336, 5336: 5337, 5337: 5338, 5338: 5339, 5339: 5340, 5340: 5341, 5341: 5342, 5342: 5343, 5343: 5344, 5344: 5345, 5345: 5346, 5346: 5347, 5347: 5348, 5348: 5349, 5349: 5350, 5350: 5351, 5351: 5352, 5352: 5353, 5353: 5354, 5354: 5355, 5355: 5356, 5356: 5357, 5357: 5358, 5358: 5359, 5359: 5360, 5360: 5361, 5361: 5362, 5362: 5363, 5363: 5364, 5364: 5365, 5365: 5366, 5366: 5367, 5367: 5368, 5368: 5369, 5369: 5370, 5370: 5371, 5371: 5372, 5372: 5373, 5373: 5374, 5374: 5375, 5375: 5376, 5376: 5377, 5377: 5378, 5378: 5379, 5379: 5380, 5380: 5381, 5381: 5382, 5382: 5383, 5383: 5384, 5384: 5385, 5385: 5386, 5386: 5387, 5387: 5388, 5388: 5389, 5389: 5390, 5390: 5391, 5391: 5392, 5392: 5393, 5393: 5394, 5394: 5395, 5395: 5396, 5396: 5397, 5397: 5398, 5398: 5399, 5399: 5400, 5400: 5401, 5401: 5402, 5402: 5403, 5403: 5404, 5404: 5405, 5405: 5406, 5406: 5407, 5407: 5408, 5408: 5409, 5409: 5410, 5410: 5411, 5411: 5412, 5412: 5413, 5413: 5414, 5414: 5415, 5415: 5416, 5416: 5417, 5417: 5418, 5418: 5419, 5419: 5420, 5420: 5421, 5421: 5422, 5422: 5423, 5423: 5424, 5424: 5425, 5425: 5426, 5426: 5427, 5427: 5428, 5428: 5429, 5429: 5430, 5430: 5431, 5431: 5432, 5432: 5433, 5433: 5434, 5434: 5435, 5435: 5436, 5436: 5437, 5437: 5438, 5438: 5439, 5439: 5440, 5440: 5441, 5441: 5442, 5442: 5443, 5443: 5444, 5444: 5445, 5445: 5446, 5446: 5447, 5447: 5448, 5448: 5449, 5449: 5450, 5450: 5451, 5451: 5452, 5452: 5453, 5453: 5454, 5454: 5455, 5455: 5456, 5456: 5457, 5457: 5458, 5458: 5459, 5459: 5460, 5460: 5461, 5461: 5462, 5462: 5463, 5463: 5464, 5464: 5465, 5465: 5466, 5466: 5467, 5467: 5468, 5468: 5469, 5469: 5470, 5470: 5471, 5471: 5472, 5472: 5473, 5473: 5474, 5474: 5475, 5475: 5476, 5476: 5477, 5477: 5478, 5478: 5479, 5479: 5480, 5480: 5481, 5481: 5482, 5482: 5483, 5483: 5484, 5484: 5485, 5485: 5486, 5486: 5487, 5487: 5488, 5488: 5489, 5489: 5490, 5490: 5491, 5491: 5492, 5492: 5493, 5493: 5494, 5494: 5495, 5495: 5496, 5496: 5497, 5497: 5498, 5498: 5499, 5499: 5500, 5500: 5501, 5501: 5502, 5502: 5503, 5503: 5504, 5504: 5505, 5505: 5506, 5506: 5507, 5507: 5508, 5508: 5509, 5509: 5510, 5510: 5511, 5511: 5512, 5512: 5513, 5513: 5514, 5514: 5515, 5515: 5516, 5516: 5517, 5517: 5518, 5518: 5519, 5519: 5520, 5520: 5521, 5521: 5522, 5522: 5523, 5523: 5524, 5524: 5525, 5525: 5526, 5526: 5527, 5527: 5528, 5528: 5529, 5529: 5530, 5530: 5531, 5531: 5532, 5532: 5533, 5533: 5534, 5534: 5535, 5535: 5536, 5536: 5537, 5537: 5538, 5538: 5539, 5539: 5540, 5540: 5541, 5541: 5542, 5542: 5543, 5543: 5544, 5544: 5545, 5545: 5546, 5546: 5547, 5547: 5548, 5548: 5549, 5549: 5550, 5550: 5551, 5551: 5552, 5552: 5553, 5553: 5554, 5554: 5555, 5555: 5556, 5556: 5557, 5557: 5558, 5558: 5559, 5559: 5560, 5560: 5561, 5561: 5562, 5562: 5563, 5563: 5564, 5564: 5565, 5565: 5566, 5566: 5567, 5567: 5568, 5568: 5569, 5569: 5570, 5570: 5571, 5571: 5572, 5572: 5573, 5573: 5574, 5574: 5575, 5575: 5576, 5576: 5577, 5577: 5578, 5578: 5579, 5579: 5580, 5580: 5581, 5581: 5582, 5582: 5583, 5583: 5584, 5584: 5585, 5585: 5586, 5586: 5587, 5587: 5588, 5588: 5589, 5589: 5590, 5590: 5591, 5591: 5592, 5592: 5593, 5593: 5594, 5594: 5595, 5595: 5596, 5596: 5597, 5597: 5598, 5598: 5599, 5599: 5600, 5600: 5601, 5601: 5602, 5602: 5603, 5603: 5604, 5604: 5605, 5605: 5606, 5606: 5607, 5607: 5608, 5608: 5609, 5609: 5610, 5610: 5611, 5611: 5612, 5612: 5613, 5613: 5614, 5614: 5615, 5615: 5616, 5616: 5617, 5617: 5618, 5618: 5619, 5619: 5620, 5620: 5621, 5621: 5622, 5622: 5623, 5623: 5624, 5624: 5625, 5625: 5626, 5626: 5627, 5627: 5628, 5628: 5629, 5629: 5630, 5630: 5631, 5631: 5632, 5632: 5633, 5633: 5634, 5634: 5635, 5635: 5636, 5636: 5637, 5637: 5638, 5638: 5639, 5639: 5640, 5640: 5641, 5641: 5642, 5642: 5643, 5643: 5644, 5644: 5645, 5645: 5646, 5646: 5647, 5647: 5648, 5648: 5649, 5649: 5650, 5650: 5651, 5651: 5652, 5652: 5653, 5653: 5654, 5654: 5655, 5655: 5656, 5656: 5657, 5657: 5658, 5658: 5659, 5659: 5660, 5660: 5661, 5661: 5662, 5662: 5663, 5663: 5664, 5664: 5665, 5665: 5666, 5666: 5667, 5667: 5668, 5668: 5669, 5669: 5670, 5670: 5671, 5671: 5672, 5672: 5673, 5673: 5674, 5674: 5675, 5675: 5676, 5676: 5677, 5677: 5678, 5678: 5679, 5679: 5680, 5680: 5681, 5681: 5682, 5682: 5683, 5683: 5684, 5684: 5685, 5685: 5686, 5686: 5687, 5687: 5688, 5688: 5689, 5689: 5690, 5690: 5691, 5691: 5692, 5692: 5693, 5693: 5694, 5694: 5695, 5695: 5696, 5696: 5697, 5697: 5698, 5698: 5699, 5699: 5700, 5700: 5701, 5701: 5702, 5702: 5703, 5703: 5704, 5704: 5705, 5705: 5706, 5706: 5707, 5707: 5708, 5708: 5709, 5709: 5710, 5710: 5711, 5711: 5712, 5712: 5713, 5713: 5714, 5714: 5715, 5715: 5716, 5716: 5717, 5717: 5718, 5718: 5719, 5719: 5720, 5720: 5721, 5721: 5722, 5722: 5723, 5723: 5724, 5724: 5725, 5725: 5726, 5726: 5727, 5727: 5728, 5728: 5729, 5729: 5730, 5730: 5731, 5731: 5732, 5732: 5733, 5733: 5734, 5734: 5735, 5735: 5736, 5736: 5737, 5737: 5738, 5738: 5739, 5739: 5740, 5740: 5741, 5741: 5742, 5742: 5743, 5743: 5744, 5744: 5745, 5745: 5746, 5746: 5747, 5747: 5748, 5748: 5749, 5749: 5750, 5750: 5751, 5751: 5752, 5752: 5753, 5753: 5754, 5754: 5755, 5755: 5756, 5756: 5757, 5757: 5758, 5758: 5759, 5759: 5760, 5760: 5761, 5761: 5762, 5762: 5763, 5763: 5764, 5764: 5765, 5765: 5766, 5766: 5767, 5767: 5768, 5768: 5769, 5769: 5770, 5770: 5771, 5771: 5772, 5772: 5773, 5773: 5774, 5774: 5775, 5775: 5776, 5776: 5777, 5777: 5778, 5778: 5779, 5779: 5780, 5780: 5781, 5781: 5782, 5782: 5783, 5783: 5784, 5784: 5785, 5785: 5786, 5786: 5787, 5787: 5788, 5788: 5789, 5789: 5790, 5790: 5791, 5791: 5792, 5792: 5793, 5793: 5794, 5794: 5795, 5795: 5796, 5796: 5797, 5797: 5798, 5798: 5799, 5799: 5800, 5800: 5801, 5801: 5802, 5802: 5803, 5803: 5804, 5804: 5805, 5805: 5806, 5806: 5807, 5807: 5808, 5808: 5809, 5809: 5810, 5810: 5811, 5811: 5812, 5812: 5813, 5813: 5814, 5814: 5815, 5815: 5816, 5816: 5817, 5817: 5818, 5818: 5819, 5819: 5820, 5820: 5821, 5821: 5822, 5822: 5823, 5823: 5824, 5824: 5825, 5825: 5826, 5826: 5827, 5827: 5828, 5828: 5829, 5829: 5830, 5830: 5831, 5831: 5832, 5832: 5833, 5833: 5834, 5834: 5835, 5835: 5836, 5836: 5837, 5837: 5838, 5838: 5839, 5839: 5840, 5840: 5841, 5841: 5842, 5842: 5843, 5843: 5844, 5844: 5845, 5845: 5846, 5846: 5847, 5847: 5848, 5848: 5849, 5849: 5850, 5850: 5851, 5851: 5852, 5852: 5853, 5853: 5854, 5854: 5855, 5855: 5856, 5856: 5857, 5857: 5858, 5858: 5859, 5859: 5860, 5860: 5861, 5861: 5862, 5862: 5863, 5863: 5864, 5864: 5865, 5865: 5866, 5866: 5867, 5867: 5868, 5868: 5869, 5869: 5870, 5870: 5871, 5871: 5872, 5872: 5873, 5873: 5874, 5874: 5875, 5875: 5876, 5876: 5877, 5877: 5878, 5878: 5879, 5879: 5880, 5880: 5881, 5881: 5882, 5882: 5883, 5883: 5884, 5884: 5885, 5885: 5886, 5886: 5887, 5887: 5888, 5888: 5889, 5889: 5890, 5890: 5891, 5891: 5892, 5892: 5893, 5893: 5894, 5894: 5895, 5895: 5896, 5896: 5897, 5897: 5898, 5898: 5899, 5899: 5900, 5900: 5901, 5901: 5902, 5902: 5903, 5903: 5904, 5904: 5905, 5905: 5906, 5906: 5907, 5907: 5908, 5908: 5909, 5909: 5910, 5910: 5911, 5911: 5912, 5912: 5913, 5913: 5914, 5914: 5915, 5915: 5916, 5916: 5917, 5917: 5918, 5918: 5919, 5919: 5920, 5920: 5921, 5921: 5922, 5922: 5923, 5923: 5924, 5924: 5925, 5925: 5926, 5926: 5927, 5927: 5928, 5928: 5929, 5929: 5930, 5930: 5931, 5931: 5932, 5932: 5933, 5933: 5934, 5934: 5935, 5935: 5936, 5936: 5937, 5937: 5938, 5938: 5939, 5939: 5940, 5940: 5941, 5941: 5942, 5942: 5943, 5943: 5944, 5944: 5945, 5945: 5946, 5946: 5947, 5947: 5948, 5948: 5949, 5949: 5950, 5950: 5951, 5951: 5952, 5952: 5953, 5953: 5954, 5954: 5955, 5955: 5956, 5956: 5957, 5957: 5958, 5958: 5959, 5959: 5960, 5960: 5961, 5961: 5962, 5962: 5963, 5963: 5964, 5964: 5965, 5965: 5966, 5966: 5967, 5967: 5968, 5968: 5969, 5969: 5970, 5970: 5971, 5971: 5972, 5972: 5973, 5973: 5974, 5974: 5975, 5975: 5976, 5976: 5977, 5977: 5978, 5978: 5979, 5979: 5980, 5980: 5981, 5981: 5982, 5982: 5983, 5983: 5984, 5984: 5985, 5985: 5986, 5986: 5987, 5987: 5988, 5988: 5989, 5989: 5990, 5990: 5991, 5991: 5992, 5992: 5993, 5993: 5994, 5994: 5995, 5995: 5996, 5996: 5997, 5997: 5998, 5998: 5999, 5999: 6000, 6000: 6001, 6001: 6002, 6002: 6003, 6003: 6004, 6004: 6005, 6005: 6006, 6006: 6007, 6007: 6008, 6008: 6009, 6009: 6010, 6010: 6011, 6011: 6012, 6012: 6013, 6013: 6014, 6014: 6015, 6015: 6016, 6016: 6017, 6017: 6018, 6018: 6019, 6019: 6020, 6020: 6021, 6021: 6022, 6022: 6023, 6023: 6024, 6024: 6025, 6025: 6026, 6026: 6027, 6027: 6028, 6028: 6029, 6029: 6030, 6030: 6031, 6031: 6032, 6032: 6033, 6033: 6034, 6034: 6035, 6035: 6036, 6036: 6037, 6037: 6038, 6038: 6039, 6039: 6040, 6040: 6041, 6041: 6042, 6042: 6043, 6043: 6044, 6044: 6045, 6045: 6046, 6046: 6047, 6047: 6048, 6048: 6049, 6049: 6050, 6050: 6051, 6051: 6052, 6052: 6053, 6053: 6054, 6054: 6055, 6055: 6056, 6056: 6057, 6057: 6058, 6058: 6059, 6059: 6060, 6060: 6061, 6061: 6062, 6062: 6063, 6063: 6064, 6064: 6065, 6065: 6066, 6066: 6067, 6067: 6068, 6068: 6069, 6069: 6070, 6070: 6071, 6071: 6072, 6072: 6073, 6073: 6074, 6074: 6075, 6075: 6076, 6076: 6077, 6077: 6078, 6078: 6079, 6079: 6080, 6080: 6081, 6081: 6082, 6082: 6083, 6083: 6084, 6084: 6085, 6085: 6086, 6086: 6087, 6087: 6088, 6088: 6089, 6089: 6090, 6090: 6091, 6091: 6092, 6092: 6093, 6093: 6094, 6094: 6095, 6095: 6096, 6096: 6097, 6097: 6098, 6098: 6099, 6099: 6100, 6100: 6101, 6101: 6102, 6102: 6103, 6103: 6104, 6104: 6105, 6105: 6106, 6106: 6107, 6107: 6108, 6108: 6109, 6109: 6110, 6110: 6111, 6111: 6112, 6112: 6113, 6113: 6114, 6114: 6115, 6115: 6116, 6116: 6117, 6117: 6118, 6118: 6119, 6119: 6120, 6120: 6121, 6121: 6122, 6122: 6123, 6123: 6124, 6124: 6125, 6125: 6126, 6126: 6127, 6127: 6128, 6128: 6129, 6129: 6130, 6130: 6131, 6131: 6132, 6132: 6133, 6133: 6134, 6134: 6135, 6135: 6136, 6136: 6137, 6137: 6138, 6138: 6139, 6139: 6140, 6140: 6141, 6141: 6142, 6142: 6143, 6143: 6144, 6144: 6145, 6145: 6146, 6146: 6147, 6147: 6148, 6148: 6149, 6149: 6150, 6150: 6151, 6151: 6152, 6152: 6153, 6153: 6154, 6154: 6155, 6155: 6156, 6156: 6157, 6157: 6158, 6158: 6159, 6159: 6160, 6160: 6161, 6161: 6162, 6162: 6163, 6163: 6164, 6164: 6165, 6165: 6166, 6166: 6167, 6167: 6168, 6168: 6169, 6169: 6170, 6170: 6171, 6171: 6172, 6172: 6173, 6173: 6174, 6174: 6175, 6175: 6176, 6176: 6177, 6177: 6178, 6178: 6179, 6179: 6180, 6180: 6181, 6181: 6182, 6182: 6183, 6183: 6184, 6184: 6185, 6185: 6186, 6186: 6187, 6187: 6188, 6188: 6189, 6189: 6190, 6190: 6191, 6191: 6192, 6192: 6193, 6193: 6194, 6194: 6195, 6195: 6196, 6196: 6197, 6197: 6198, 6198: 6199, 6199: 6200, 6200: 6201, 6201: 6202, 6202: 6203, 6203: 6204, 6204: 6205, 6205: 6206, 6206: 6207, 6207: 6208, 6208: 6209, 6209: 6210, 6210: 6211, 6211: 6212, 6212: 6213, 6213: 6214, 6214: 6215, 6215: 6216, 6216: 6217, 6217: 6218, 6218: 6219, 6219: 6220, 6220: 6221, 6221: 6222, 6222: 6223, 6223: 6224, 6224: 6225, 6225: 6226, 6226: 6227, 6227: 6228, 6228: 6229, 6229: 6230, 6230: 6231, 6231: 6232, 6232: 6233, 6233: 6234, 6234: 6235, 6235: 6236, 6236: 6237, 6237: 6238, 6238: 6239, 6239: 6240, 6240: 6241, 6241: 6242, 6242: 6243, 6243: 6244, 6244: 6245, 6245: 6246, 6246: 6247, 6247: 6248, 6248: 6249, 6249: 6250, 6250: 6251, 6251: 6252, 6252: 6253, 6253: 6254, 6254: 6255, 6255: 6256, 6256: 6257, 6257: 6258, 6258: 6259, 6259: 6260, 6260: 6261, 6261: 6262, 6262: 6263, 6263: 6264, 6264: 6265, 6265: 6266, 6266: 6267, 6267: 6268, 6268: 6269, 6269: 6270, 6270: 6271, 6271: 6272, 6272: 6273, 6273: 6274, 6274: 6275, 6275: 6276, 6276: 6277, 6277: 6278, 6278: 6279, 6279: 6280, 6280: 6281, 6281: 6282, 6282: 6283, 6283: 6284, 6284: 6285, 6285: 6286, 6286: 6287, 6287: 6288, 6288: 6289, 6289: 6290, 6290: 6291, 6291: 6292, 6292: 6293, 6293: 6294, 6294: 6295, 6295: 6296, 6296: 6297, 6297: 6298, 6298: 6299, 6299: 6300, 6300: 6301, 6301: 6302, 6302: 6303, 6303: 6304, 6304: 6305, 6305: 6306, 6306: 6307, 6307: 6308, 6308: 6309, 6309: 6310, 6310: 6311, 6311: 6312, 6312: 6313, 6313: 6314, 6314: 6315, 6315: 6316, 6316: 6317, 6317: 6318, 6318: 6319, 6319: 6320, 6320: 6321, 6321: 6322, 6322: 6323, 6323: 6324, 6324: 6325, 6325: 6326, 6326: 6327, 6327: 6328, 6328: 6329, 6329: 6330, 6330: 6331, 6331: 6332, 6332: 6333, 6333: 6334, 6334: 6335, 6335: 6336, 6336: 6337, 6337: 6338, 6338: 6339, 6339: 6340, 6340: 6341, 6341: 6342, 6342: 6343, 6343: 6344, 6344: 6345, 6345: 6346, 6346: 6347, 6347: 6348, 6348: 6349, 6349: 6350, 6350: 6351, 6351: 6352, 6352: 6353, 6353: 6354, 6354: 6355, 6355: 6356, 6356: 6357, 6357: 6358, 6358: 6359, 6359: 6360, 6360: 6361, 6361: 6362, 6362: 6363, 6363: 6364, 6364: 6365, 6365: 6366, 6366: 6367, 6367: 6368, 6368: 6369, 6369: 6370, 6370: 6371, 6371: 6372, 6372: 6373, 6373: 6374, 6374: 6375, 6375: 6376, 6376: 6377, 6377: 6378, 6378: 6379, 6379: 6380, 6380: 6381, 6381: 6382, 6382: 6383, 6383: 6384, 6384: 6385, 6385: 6386, 6386: 6387, 6387: 6388, 6388: 6389, 6389: 6390, 6390: 6391, 6391: 6392, 6392: 6393, 6393: 6394, 6394: 6395, 6395: 6396, 6396: 6397, 6397: 6398, 6398: 6399, 6399: 6400, 6400: 6401, 6401: 6402, 6402: 6403, 6403: 6404, 6404: 6405, 6405: 6406, 6406: 6407, 6407: 6408, 6408: 6409, 6409: 6410, 6410: 6411, 6411: 6412, 6412: 6413, 6413: 6414, 6414: 6415, 6415: 6416, 6416: 6417, 6417: 6418, 6418: 6419, 6419: 6420, 6420: 6421, 6421: 6422, 6422: 6423, 6423: 6424, 6424: 6425, 6425: 6426, 6426: 6427, 6427: 6428, 6428: 6429, 6429: 6430, 6430: 6431, 6431: 6432, 6432: 6433, 6433: 6434, 6434: 6435, 6435: 6436, 6436: 6437, 6437: 6438, 6438: 6439, 6439: 6440, 6440: 6441, 6441: 6442, 6442: 6443, 6443: 6444, 6444: 6445, 6445: 6446, 6446: 6447, 6447: 6448, 6448: 6449, 6449: 6450, 6450: 6451, 6451: 6452, 6452: 6453, 6453: 6454, 6454: 6455, 6455: 6456, 6456: 6457, 6457: 6458, 6458: 6459, 6459: 6460, 6460: 6461, 6461: 6462, 6462: 6463, 6463: 6464, 6464: 6465, 6465: 6466, 6466: 6467, 6467: 6468, 6468: 6469, 6469: 6470, 6470: 6471, 6471: 6472, 6472: 6473, 6473: 6474, 6474: 6475, 6475: 6476, 6476: 6477, 6477: 6478, 6478: 6479, 6479: 6480, 6480: 6481, 6481: 6482, 6482: 6483, 6483: 6484, 6484: 6485, 6485: 6486, 6486: 6487, 6487: 6488, 6488: 6489, 6489: 6490, 6490: 6491, 6491: 6492, 6492: 6493, 6493: 6494, 6494: 6495, 6495: 6496, 6496: 6497, 6497: 6498, 6498: 6499, 6499: 6500, 6500: 6501, 6501: 6502, 6502: 6503, 6503: 6504, 6504: 6505, 6505: 6506, 6506: 6507, 6507: 6508, 6508: 6509, 6509: 6510, 6510: 6511, 6511: 6512, 6512: 6513, 6513: 6514, 6514: 6515, 6515: 6516, 6516: 6517, 6517: 6518, 6518: 6519, 6519: 6520, 6520: 6521, 6521: 6522, 6522: 6523, 6523: 6524, 6524: 6525, 6525: 6526, 6526: 6527, 6527: 6528, 6528: 6529, 6529: 6530, 6530: 6531, 6531: 6532, 6532: 6533, 6533: 6534, 6534: 6535, 6535: 6536, 6536: 6537, 6537: 6538, 6538: 6539, 6539: 6540, 6540: 6541, 6541: 6542, 6542: 6543, 6543: 6544, 6544: 6545, 6545: 6546, 6546: 6547, 6547: 6548, 6548: 6549, 6549: 6550, 6550: 6551, 6551: 6552, 6552: 6553, 6553: 6554, 6554: 6555, 6555: 6556, 6556: 6557, 6557: 6558, 6558: 6559, 6559: 6560, 6560: 6561, 6561: 6562, 6562: 6563, 6563: 6564, 6564: 6565, 6565: 6566, 6566: 6567, 6567: 6568, 6568: 6569, 6569: 6570, 6570: 6571, 6571: 6572, 6572: 6573, 6573: 6574, 6574: 6575, 6575: 6576, 6576: 6577, 6577: 6578, 6578: 6579, 6579: 6580, 6580: 6581, 6581: 6582, 6582: 6583, 6583: 6584, 6584: 6585, 6585: 6586, 6586: 6587, 6587: 6588, 6588: 6589, 6589: 6590, 6590: 6591, 6591: 6592, 6592: 6593, 6593: 6594, 6594: 6595, 6595: 6596, 6596: 6597, 6597: 6598, 6598: 6599, 6599: 6600, 6600: 6601, 6601: 6602, 6602: 6603, 6603: 6604, 6604: 6605, 6605: 6606, 6606: 6607, 6607: 6608, 6608: 6609, 6609: 6610, 6610: 6611, 6611: 6612, 6612: 6613, 6613: 6614, 6614: 6615, 6615: 6616, 6616: 6617, 6617: 6618, 6618: 6619, 6619: 6620, 6620: 6621, 6621: 6622, 6622: 6623, 6623: 6624, 6624: 6625, 6625: 6626, 6626: 6627, 6627: 6628, 6628: 6629, 6629: 6630, 6630: 6631, 6631: 6632, 6632: 6633, 6633: 6634, 6634: 6635, 6635: 6636, 6636: 6637, 6637: 6638, 6638: 6639, 6639: 6640, 6640: 6641, 6641: 6642, 6642: 6643, 6643: 6644, 6644: 6645, 6645: 6646, 6646: 6647, 6647: 6648, 6648: 6649, 6649: 6650, 6650: 6651, 6651: 6652, 6652: 6653, 6653: 6654, 6654: 6655, 6655: 6656, 6656: 6657, 6657: 6658, 6658: 6659, 6659: 6660, 6660: 6661, 6661: 6662, 6662: 6663, 6663: 6664, 6664: 6665, 6665: 6666, 6666: 6667, 6667: 6668, 6668: 6669, 6669: 6670, 6670: 6671, 6671: 6672, 6672: 6673, 6673: 6674, 6674: 6675, 6675: 6676, 6676: 6677, 6677: 6678, 6678: 6679, 6679: 6680, 6680: 6681, 6681: 6682, 6682: 6683, 6683: 6684, 6684: 6685, 6685: 6686, 6686: 6687, 6687: 6688, 6688: 6689, 6689: 6690, 6690: 6691, 6691: 6692, 6692: 6693, 6693: 6694, 6694: 6695, 6695: 6696, 6696: 6697, 6697: 6698, 6698: 6699, 6699: 6700, 6700: 6701, 6701: 6702, 6702: 6703, 6703: 6704, 6704: 6705, 6705: 6706, 6706: 6707, 6707: 6708, 6708: 6709, 6709: 6710, 6710: 6711, 6711: 6712, 6712: 6713, 6713: 6714, 6714: 6715, 6715: 6716, 6716: 6717, 6717: 6718, 6718: 6719, 6719: 6720, 6720: 6721, 6721: 6722, 6722: 6723, 6723: 6724, 6724: 6725, 6725: 6726, 6726: 6727, 6727: 6728, 6728: 6729, 6729: 6730, 6730: 6731, 6731: 6732, 6732: 6733, 6733: 6734, 6734: 6735, 6735: 6736, 6736: 6737, 6737: 6738, 6738: 6739, 6739: 6740, 6740: 6741, 6741: 6742, 6742: 6743, 6743: 6744, 6744: 6745, 6745: 6746, 6746: 6747, 6747: 6748, 6748: 6749, 6749: 6750, 6750: 6751, 6751: 6752, 6752: 6753, 6753: 6754, 6754: 6755, 6755: 6756, 6756: 6757, 6757: 6758, 6758: 6759, 6759: 6760, 6760: 6761, 6761: 6762, 6762: 6763, 6763: 6764, 6764: 6765, 6765: 6766, 6766: 6767, 6767: 6768, 6768: 6769, 6769: 6770, 6770: 6771, 6771: 6772, 6772: 6773, 6773: 6774, 6774: 6775, 6775: 6776, 6776: 6777, 6777: 6778, 6778: 6779, 6779: 6780, 6780: 6781, 6781: 6782, 6782: 6783, 6783: 6784, 6784: 6785, 6785: 6786, 6786: 6787, 6787: 6788, 6788: 6789, 6789: 6790, 6790: 6791, 6791: 6792, 6792: 6793, 6793: 6794, 6794: 6795, 6795: 6796, 6796: 6797, 6797: 6798, 6798: 6799, 6799: 6800, 6800: 6801, 6801: 6802, 6802: 6803, 6803: 6804, 6804: 6805, 6805: 6806, 6806: 6807, 6807: 6808, 6808: 6809, 6809: 6810, 6810: 6811, 6811: 6812, 6812: 6813, 6813: 6814, 6814: 6815, 6815: 6816, 6816: 6817, 6817: 6818, 6818: 6819, 6819: 6820, 6820: 6821, 6821: 6822, 6822: 6823, 6823: 6824, 6824: 6825, 6825: 6826, 6826: 6827, 6827: 6828, 6828: 6829, 6829: 6830, 6830: 6831, 6831: 6832, 6832: 6833, 6833: 6834, 6834: 6835, 6835: 6836, 6836: 6837, 6837: 6838, 6838: 6839, 6839: 6840, 6840: 6841, 6841: 6842, 6842: 6843, 6843: 6844, 6844: 6845, 6845: 6846, 6846: 6847, 6847: 6848, 6848: 6849, 6849: 6850, 6850: 6851, 6851: 6852, 6852: 6853, 6853: 6854, 6854: 6855, 6855: 6856, 6856: 6857, 6857: 6858, 6858: 6859, 6859: 6860, 6860: 6861, 6861: 6862, 6862: 6863, 6863: 6864, 6864: 6865, 6865: 6866, 6866: 6867, 6867: 6868, 6868: 6869, 6869: 6870, 6870: 6871, 6871: 6872, 6872: 6873, 6873: 6874, 6874: 6875, 6875: 6876, 6876: 6877, 6877: 6878, 6878: 6879, 6879: 6880, 6880: 6881, 6881: 6882, 6882: 6883, 6883: 6884, 6884: 6885, 6885: 6886, 6886: 6887, 6887: 6888, 6888: 6889, 6889: 6890, 6890: 6891, 6891: 6892, 6892: 6893, 6893: 6894, 6894: 6895, 6895: 6896, 6896: 6897, 6897: 6898, 6898: 6899, 6899: 6900, 6900: 6901, 6901: 6902, 6902: 6903, 6903: 6904, 6904: 6905, 6905: 6906, 6906: 6907, 6907: 6908, 6908: 6909, 6909: 6910, 6910: 6911, 6911: 6912, 6912: 6913, 6913: 6914, 6914: 6915, 6915: 6916, 6916: 6917, 6917: 6918, 6918: 6919, 6919: 6920, 6920: 6921, 6921: 6922, 6922: 6923, 6923: 6924, 6924: 6925, 6925: 6926, 6926: 6927, 6927: 6928, 6928: 6929, 6929: 6930, 6930: 6931, 6931: 6932, 6932: 6933, 6933: 6934, 6934: 6935, 6935: 6936, 6936: 6937, 6937: 6938, 6938: 6939, 6939: 6940, 6940: 6941, 6941: 6942, 6942: 6943, 6943: 6944, 6944: 6945, 6945: 6946, 6946: 6947, 6947: 6948, 6948: 6949, 6949: 6950, 6950: 6951, 6951: 6952, 6952: 6953, 6953: 6954, 6954: 6955, 6955: 6956, 6956: 6957, 6957: 6958, 6958: 6959, 6959: 6960, 6960: 6961, 6961: 6962, 6962: 6963, 6963: 6964, 6964: 6965, 6965: 6966, 6966: 6967, 6967: 6968, 6968: 6969, 6969: 6970, 6970: 6971, 6971: 6972, 6972: 6973, 6973: 6974, 6974: 6975, 6975: 6976, 6976: 6977, 6977: 6978, 6978: 6979, 6979: 6980, 6980: 6981, 6981: 6982, 6982: 6983, 6983: 6984, 6984: 6985, 6985: 6986, 6986: 6987, 6987: 6988, 6988: 6989, 6989: 6990, 6990: 6991, 6991: 6992, 6992: 6993, 6993: 6994, 6994: 6995, 6995: 6996, 6996: 6997, 6997: 6998, 6998: 6999, 6999: 7000, 7000: 7001, 7001: 7002, 7002: 7003, 7003: 7004, 7004: 7005, 7005: 7006, 7006: 7007, 7007: 7008, 7008: 7009, 7009: 7010, 7010: 7011, 7011: 7012, 7012: 7013, 7013: 7014, 7014: 7015, 7015: 7016, 7016: 7017, 7017: 7018, 7018: 7019, 7019: 7020, 7020: 7021, 7021: 7022, 7022: 7023, 7023: 7024, 7024: 7025, 7025: 7026, 7026: 7027, 7027: 7028, 7028: 7029, 7029: 7030, 7030: 7031, 7031: 7032, 7032: 7033, 7033: 7034, 7034: 7035, 7035: 7036, 7036: 7037, 7037: 7038, 7038: 7039, 7039: 7040, 7040: 7041, 7041: 7042, 7042: 7043, 7043: 7044, 7044: 7045, 7045: 7046, 7046: 7047, 7047: 7048, 7048: 7049, 7049: 7050, 7050: 7051, 7051: 7052, 7052: 7053, 7053: 7054, 7054: 7055, 7055: 7056, 7056: 7057, 7057: 7058, 7058: 7059, 7059: 7060, 7060: 7061, 7061: 7062, 7062: 7063, 7063: 7064, 7064: 7065, 7065: 7066, 7066: 7067, 7067: 7068, 7068: 7069, 7069: 7070, 7070: 7071, 7071: 7072, 7072: 7073, 7073: 7074, 7074: 7075, 7075: 7076, 7076: 7077, 7077: 7078, 7078: 7079, 7079: 7080, 7080: 7081, 7081: 7082, 7082: 7083, 7083: 7084, 7084: 7085, 7085: 7086, 7086: 7087, 7087: 7088, 7088: 7089, 7089: 7090, 7090: 7091, 7091: 7092, 7092: 7093, 7093: 7094, 7094: 7095, 7095: 7096, 7096: 7097, 7097: 7098, 7098: 7099, 7099: 7100, 7100: 7101, 7101: 7102, 7102: 7103, 7103: 7104, 7104: 7105, 7105: 7106, 7106: 7107, 7107: 7108, 7108: 7109, 7109: 7110, 7110: 7111, 7111: 7112, 7112: 7113, 7113: 7114, 7114: 7115, 7115: 7116, 7116: 7117, 7117: 7118, 7118: 7119, 7119: 7120, 7120: 7121, 7121: 7122, 7122: 7123, 7123: 7124, 7124: 7125, 7125: 7126, 7126: 7127, 7127: 7128, 7128: 7129, 7129: 7130, 7130: 7131, 7131: 7132, 7132: 7133, 7133: 7134, 7134: 7135, 7135: 7136, 7136: 7137, 7137: 7138, 7138: 7139, 7139: 7140, 7140: 7141, 7141: 7142, 7142: 7143, 7143: 7144, 7144: 7145, 7145: 7146, 7146: 7147, 7147: 7148, 7148: 7149, 7149: 7150, 7150: 7151, 7151: 7152, 7152: 7153, 7153: 7154, 7154: 7155, 7155: 7156, 7156: 7157, 7157: 7158, 7158: 7159, 7159: 7160, 7160: 7161, 7161: 7162, 7162: 7163, 7163: 7164, 7164: 7165, 7165: 7166, 7166: 7167, 7167: 7168, 7168: 7169, 7169: 7170, 7170: 7171, 7171: 7172, 7172: 7173, 7173: 7174, 7174: 7175, 7175: 7176, 7176: 7177, 7177: 7178, 7178: 7179, 7179: 7180, 7180: 7181, 7181: 7182, 7182: 7183, 7183: 7184, 7184: 7185, 7185: 7186, 7186: 7187, 7187: 7188, 7188: 7189, 7189: 7190, 7190: 7191, 7191: 7192, 7192: 7193, 7193: 7194, 7194: 7195, 7195: 7196, 7196: 7197, 7197: 7198, 7198: 7199, 7199: 7200, 7200: 7201, 7201: 7202, 7202: 7203, 7203: 7204, 7204: 7205, 7205: 7206, 7206: 7207, 7207: 7208, 7208: 7209, 7209: 7210, 7210: 7211, 7211: 7212, 7212: 7213, 7213: 7214, 7214: 7215, 7215: 7216, 7216: 7217, 7217: 7218, 7218: 7219, 7219: 7220, 7220: 7221, 7221: 7222, 7222: 7223, 7223: 7224, 7224: 7225, 7225: 7226, 7226: 7227, 7227: 7228, 7228: 7229, 7229: 7230, 7230: 7231, 7231: 7232, 7232: 7233, 7233: 7234, 7234: 7235, 7235: 7236, 7236: 7237, 7237: 7238, 7238: 7239, 7239: 7240, 7240: 7241, 7241: 7242, 7242: 7243, 7243: 7244, 7244: 7245, 7245: 7246, 7246: 7247, 7247: 7248, 7248: 7249, 7249: 7250, 7250: 7251, 7251: 7252, 7252: 7253, 7253: 7254, 7254: 7255, 7255: 7256, 7256: 7257, 7257: 7258, 7258: 7259, 7259: 7260, 7260: 7261, 7261: 7262, 7262: 7263, 7263: 7264, 7264: 7265, 7265: 7266, 7266: 7267, 7267: 7268, 7268: 7269, 7269: 7270, 7270: 7271, 7271: 7272, 7272: 7273, 7273: 7274, 7274: 7275, 7275: 7276, 7276: 7277, 7277: 7278, 7278: 7279, 7279: 7280, 7280: 7281, 7281: 7282, 7282: 7283, 7283: 7284, 7284: 7285, 7285: 7286, 7286: 7287, 7287: 7288, 7288: 7289, 7289: 7290, 7290: 7291, 7291: 7292, 7292: 7293, 7293: 7294, 7294: 7295, 7295: 7296, 7296: 7297, 7297: 7298, 7298: 7299, 7299: 7300, 7300: 7301, 7301: 7302, 7302: 7303, 7303: 7304, 7304: 7305, 7305: 7306, 7306: 7307, 7307: 7308, 7308: 7309, 7309: 7310, 7310: 7311, 7311: 7312, 7312: 7313, 7313: 7314, 7314: 7315, 7315: 7316, 7316: 7317, 7317: 7318, 7318: 7319, 7319: 7320, 7320: 7321, 7321: 7322, 7322: 7323, 7323: 7324, 7324: 7325, 7325: 7326, 7326: 7327, 7327: 7328, 7328: 7329, 7329: 7330, 7330: 7331, 7331: 7332, 7332: 7333, 7333: 7334, 7334: 7335, 7335: 7336, 7336: 7337, 7337: 7338, 7338: 7339, 7339: 7340, 7340: 7341, 7341: 7342, 7342: 7343, 7343: 7344, 7344: 7345, 7345: 7346, 7346: 7347, 7347: 7348, 7348: 7349, 7349: 7350, 7350: 7351, 7351: 7352, 7352: 7353, 7353: 7354, 7354: 7355, 7355: 7356, 7356: 7357, 7357: 7358, 7358: 7359, 7359: 7360, 7360: 7361, 7361: 7362, 7362: 7363, 7363: 7364, 7364: 7365, 7365: 7366, 7366: 7367, 7367: 7368, 7368: 7369, 7369: 7370, 7370: 7371, 7371: 7372, 7372: 7373, 7373: 7374, 7374: 7375, 7375: 7376, 7376: 7377, 7377: 7378, 7378: 7379, 7379: 7380, 7380: 7381, 7381: 7382, 7382: 7383, 7383: 7384, 7384: 7385, 7385: 7386, 7386: 7387, 7387: 7388, 7388: 7389, 7389: 7390, 7390: 7391, 7391: 7392, 7392: 7393, 7393: 7394, 7394: 7395, 7395: 7396, 7396: 7397, 7397: 7398, 7398: 7399, 7399: 7400, 7400: 7401, 7401: 7402, 7402: 7403, 7403: 7404, 7404: 7405, 7405: 7406, 7406: 7407, 7407: 7408, 7408: 7409, 7409: 7410, 7410: 7411, 7411: 7412, 7412: 7413, 7413: 7414, 7414: 7415, 7415: 7416, 7416: 7417, 7417: 7418, 7418: 7419, 7419: 7420, 7420: 7421, 7421: 7422, 7422: 7423, 7423: 7424, 7424: 7425, 7425: 7426, 7426: 7427, 7427: 7428, 7428: 7429, 7429: 7430, 7430: 7431, 7431: 7432, 7432: 7433, 7433: 7434, 7434: 7435, 7435: 7436, 7436: 7437, 7437: 7438, 7438: 7439, 7439: 7440, 7440: 7441, 7441: 7442, 7442: 7443, 7443: 7444, 7444: 7445, 7445: 7446, 7446: 7447, 7447: 7448, 7448: 7449, 7449: 7450, 7450: 7451, 7451: 7452, 7452: 7453, 7453: 7454, 7454: 7455, 7455: 7456, 7456: 7457, 7457: 7458, 7458: 7459, 7459: 7460, 7460: 7461, 7461: 7462, 7462: 7463, 7463: 7464, 7464: 7465, 7465: 7466, 7466: 7467, 7467: 7468, 7468: 7469, 7469: 7470, 7470: 7471, 7471: 7472, 7472: 7473, 7473: 7474, 7474: 7475, 7475: 7476, 7476: 7477, 7477: 7478, 7478: 7479, 7479: 7480, 7480: 7481, 7481: 7482, 7482: 7483, 7483: 7484, 7484: 7485, 7485: 7486, 7486: 7487, 7487: 7488, 7488: 7489, 7489: 7490, 7490: 7491, 7491: 7492, 7492: 7493, 7493: 7494, 7494: 7495, 7495: 7496, 7496: 7497, 7497: 7498, 7498: 7499, 7499: 7500, 7500: 7501, 7501: 7502, 7502: 7503, 7503: 7504, 7504: 7505, 7505: 7506, 7506: 7507, 7507: 7508, 7508: 7509, 7509: 7510, 7510: 7511, 7511: 7512, 7512: 7513, 7513: 7514, 7514: 7515, 7515: 7516, 7516: 7517, 7517: 7518, 7518: 7519, 7519: 7520, 7520: 7521, 7521: 7522, 7522: 7523, 7523: 7524, 7524: 7525, 7525: 7526, 7526: 7527, 7527: 7528, 7528: 7529, 7529: 7530, 7530: 7531, 7531: 7532, 7532: 7533, 7533: 7534, 7534: 7535, 7535: 7536, 7536: 7537, 7537: 7538, 7538: 7539, 7539: 7540, 7540: 7541, 7541: 7542, 7542: 7543, 7543: 7544, 7544: 7545, 7545: 7546, 7546: 7547, 7547: 7548, 7548: 7549, 7549: 7550, 7550: 7551, 7551: 7552, 7552: 7553, 7553: 7554, 7554: 7555, 7555: 7556, 7556: 7557, 7557: 7558, 7558: 7559, 7559: 7560, 7560: 7561, 7561: 7562, 7562: 7563, 7563: 7564, 7564: 7565, 7565: 7566, 7566: 7567, 7567: 7568, 7568: 7569, 7569: 7570, 7570: 7571, 7571: 7572, 7572: 7573, 7573: 7574, 7574: 7575, 7575: 7576, 7576: 7577, 7577: 7578, 7578: 7579, 7579: 7580, 7580: 7581, 7581: 7582, 7582: 7583, 7583: 7584, 7584: 7585, 7585: 7586, 7586: 7587, 7587: 7588, 7588: 7589, 7589: 7590, 7590: 7591, 7591: 7592, 7592: 7593, 7593: 7594, 7594: 7595, 7595: 7596, 7596: 7597, 7597: 7598, 7598: 7599, 7599: 7600, 7600: 7601, 7601: 7602, 7602: 7603, 7603: 7604, 7604: 7605, 7605: 7606, 7606: 7607, 7607: 7608, 7608: 7609, 7609: 7610, 7610: 7611, 7611: 7612, 7612: 7613, 7613: 7614, 7614: 7615, 7615: 7616, 7616: 7617, 7617: 7618, 7618: 7619, 7619: 7620, 7620: 7621, 7621: 7622, 7622: 7623, 7623: 7624, 7624: 7625, 7625: 7626, 7626: 7627, 7627: 7628, 7628: 7629, 7629: 7630, 7630: 7631, 7631: 7632, 7632: 7633, 7633: 7634, 7634: 7635, 7635: 7636, 7636: 7637, 7637: 7638, 7638: 7639, 7639: 7640, 7640: 7641, 7641: 7642, 7642: 7643, 7643: 7644, 7644: 7645, 7645: 7646, 7646: 7647, 7647: 7648, 7648: 7649, 7649: 7650, 7650: 7651, 7651: 7652, 7652: 7653, 7653: 7654, 7654: 7655, 7655: 7656, 7656: 7657, 7657: 7658, 7658: 7659, 7659: 7660, 7660: 7661, 7661: 7662, 7662: 7663, 7663: 7664, 7664: 7665, 7665: 7666, 7666: 7667, 7667: 7668, 7668: 7669, 7669: 7670, 7670: 7671, 7671: 7672, 7672: 7673, 7673: 7674, 7674: 7675, 7675: 7676, 7676: 7677, 7677: 7678, 7678: 7679, 7679: 7680, 7680: 7681, 7681: 7682, 7682: 7683, 7683: 7684, 7684: 7685, 7685: 7686, 7686: 7687, 7687: 7688, 7688: 7689, 7689: 7690, 7690: 7691, 7691: 7692, 7692: 7693, 7693: 7694, 7694: 7695, 7695: 7696, 7696: 7697, 7697: 7698, 7698: 7699, 7699: 7700, 7700: 7701, 7701: 7702, 7702: 7703, 7703: 7704, 7704: 7705, 7705: 7706, 7706: 7707, 7707: 7708, 7708: 7709, 7709: 7710, 7710: 7711, 7711: 7712, 7712: 7713, 7713: 7714, 7714: 7715, 7715: 7716, 7716: 7717, 7717: 7718, 7718: 7719, 7719: 7720, 7720: 7721, 7721: 7722, 7722: 7723, 7723: 7724, 7724: 7725, 7725: 7726, 7726: 7727, 7727: 7728, 7728: 7729, 7729: 7730, 7730: 7731, 7731: 7732, 7732: 7733, 7733: 7734, 7734: 7735, 7735: 7736, 7736: 7737, 7737: 7738, 7738: 7739, 7739: 7740, 7740: 7741, 7741: 7742, 7742: 7743, 7743: 7744, 7744: 7745, 7745: 7746, 7746: 7747, 7747: 7748, 7748: 7749, 7749: 7750, 7750: 7751, 7751: 7752, 7752: 7753, 7753: 7754, 7754: 7755, 7755: 7756, 7756: 7757, 7757: 7758, 7758: 7759, 7759: 7760, 7760: 7761, 7761: 7762, 7762: 7763, 7763: 7764, 7764: 7765, 7765: 7766, 7766: 7767, 7767: 7768, 7768: 7769, 7769: 7770, 7770: 7771, 7771: 7772, 7772: 7773, 7773: 7774, 7774: 7775, 7775: 7776, 7776: 7777, 7777: 7778, 7778: 7779, 7779: 7780, 7780: 7781, 7781: 7782, 7782: 7783, 7783: 7784, 7784: 7785, 7785: 7786, 7786: 7787, 7787: 7788, 7788: 7789, 7789: 7790, 7790: 7791, 7791: 7792, 7792: 7793, 7793: 7794, 7794: 7795, 7795: 7796, 7796: 7797, 7797: 7798, 7798: 7799, 7799: 7800, 7800: 7801, 7801: 7802, 7802: 7803, 7803: 7804, 7804: 7805, 7805: 7806, 7806: 7807, 7807: 7808, 7808: 7809, 7809: 7810, 7810: 7811, 7811: 7812, 7812: 7813, 7813: 7814, 7814: 7815, 7815: 7816, 7816: 7817, 7817: 7818, 7818: 7819, 7819: 7820, 7820: 7821, 7821: 7822, 7822: 7823, 7823: 7824, 7824: 7825, 7825: 7826, 7826: 7827, 7827: 7828, 7828: 7829, 7829: 7830, 7830: 7831, 7831: 7832, 7832: 7833, 7833: 7834, 7834: 7835, 7835: 7836, 7836: 7837, 7837: 7838, 7838: 7839, 7839: 7840, 7840: 7841, 7841: 7842, 7842: 7843, 7843: 7844, 7844: 7845, 7845: 7846, 7846: 7847, 7847: 7848, 7848: 7849, 7849: 7850, 7850: 7851, 7851: 7852, 7852: 7853, 7853: 7854, 7854: 7855, 7855: 7856, 7856: 7857, 7857: 7858, 7858: 7859, 7859: 7860, 7860: 7861, 7861: 7862, 7862: 7863, 7863: 7864, 7864: 7865, 7865: 7866, 7866: 7867, 7867: 7868, 7868: 7869, 7869: 7870, 7870: 7871, 7871: 7872, 7872: 7873, 7873: 7874, 7874: 7875, 7875: 7876, 7876: 7877, 7877: 7878, 7878: 7879, 7879: 7880, 7880: 7881, 7881: 7882, 7882: 7883, 7883: 7884, 7884: 7885, 7885: 7886, 7886: 7887, 7887: 7888, 7888: 7889, 7889: 7890, 7890: 7891, 7891: 7892, 7892: 7893, 7893: 7894, 7894: 7895, 7895: 7896, 7896: 7897, 7897: 7898, 7898: 7899, 7899: 7900, 7900: 7901, 7901: 7902, 7902: 7903, 7903: 7904, 7904: 7905, 7905: 7906, 7906: 7907, 7907: 7908, 7908: 7909, 7909: 7910, 7910: 7911, 7911: 7912, 7912: 7913, 7913: 7914, 7914: 7915, 7915: 7916, 7916: 7917, 7917: 7918, 7918: 7919, 7919: 7920, 7920: 7921, 7921: 7922, 7922: 7923, 7923: 7924, 7924: 7925, 7925: 7926, 7926: 7927, 7927: 7928, 7928: 7929, 7929: 7930, 7930: 7931, 7931: 7932, 7932: 7933, 7933: 7934, 7934: 7935, 7935: 7936, 7936: 7937, 7937: 7938, 7938: 7939, 7939: 7940, 7940: 7941, 7941: 7942, 7942: 7943, 7943: 7944, 7944: 7945, 7945: 7946, 7946: 7947, 7947: 7948, 7948: 7949, 7949: 7950, 7950: 7951, 7951: 7952, 7952: 7953, 7953: 7954, 7954: 7955, 7955: 7956, 7956: 7957, 7957: 7958, 7958: 7959, 7959: 7960, 7960: 7961, 7961: 7962, 7962: 7963, 7963: 7964, 7964: 7965, 7965: 7966, 7966: 7967, 7967: 7968, 7968: 7969, 7969: 7970, 7970: 7971, 7971: 7972, 7972: 7973, 7973: 7974, 7974: 7975, 7975: 7976, 7976: 7977, 7977: 7978, 7978: 7979, 7979: 7980, 7980: 7981, 7981: 7982, 7982: 7983, 7983: 7984, 7984: 7985, 7985: 7986, 7986: 7987, 7987: 7988, 7988: 7989, 7989: 7990, 7990: 7991, 7991: 7992, 7992: 7993, 7993: 7994, 7994: 7995, 7995: 7996, 7996: 7997, 7997: 7998, 7998: 7999, 7999: 8000, 8000: 8001, 8001: 8002, 8002: 8003, 8003: 8004, 8004: 8005, 8005: 8006, 8006: 8007, 8007: 8008, 8008: 8009, 8009: 8010, 8010: 8011, 8011: 8012, 8012: 8013, 8013: 8014, 8014: 8015, 8015: 8016, 8016: 8017, 8017: 8018, 8018: 8019, 8019: 8020, 8020: 8021, 8021: 8022, 8022: 8023, 8023: 8024, 8024: 8025, 8025: 8026, 8026: 8027, 8027: 8028, 8028: 8029, 8029: 8030, 8030: 8031, 8031: 8032, 8032: 8033, 8033: 8034, 8034: 8035, 8035: 8036, 8036: 8037, 8037: 8038, 8038: 8039, 8039: 8040, 8040: 8041, 8041: 8042, 8042: 8043, 8043: 8044, 8044: 8045, 8045: 8046, 8046: 8047, 8047: 8048, 8048: 8049, 8049: 8050, 8050: 8051, 8051: 8052, 8052: 8053, 8053: 8054, 8054: 8055, 8055: 8056, 8056: 8057, 8057: 8058, 8058: 8059, 8059: 8060, 8060: 8061, 8061: 8062, 8062: 8063, 8063: 8064, 8064: 8065, 8065: 8066, 8066: 8067, 8067: 8068, 8068: 8069, 8069: 8070, 8070: 8071, 8071: 8072, 8072: 8073, 8073: 8074, 8074: 8075, 8075: 8076, 8076: 8077, 8077: 8078, 8078: 8079, 8079: 8080, 8080: 8081, 8081: 8082, 8082: 8083, 8083: 8084, 8084: 8085, 8085: 8086, 8086: 8087, 8087: 8088, 8088: 8089, 8089: 8090, 8090: 8091, 8091: 8092, 8092: 8093, 8093: 8094, 8094: 8095, 8095: 8096, 8096: 8097, 8097: 8098, 8098: 8099, 8099: 8100, 8100: 8101, 8101: 8102, 8102: 8103, 8103: 8104, 8104: 8105, 8105: 8106, 8106: 8107, 8107: 8108, 8108: 8109, 8109: 8110, 8110: 8111, 8111: 8112, 8112: 8113, 8113: 8114, 8114: 8115, 8115: 8116, 8116: 8117, 8117: 8118, 8118: 8119, 8119: 8120, 8120: 8121, 8121: 8122, 8122: 8123, 8123: 8124, 8124: 8125, 8125: 8126, 8126: 8127, 8127: 8128, 8128: 8129, 8129: 8130, 8130: 8131, 8131: 8132, 8132: 8133, 8133: 8134, 8134: 8135, 8135: 8136, 8136: 8137, 8137: 8138, 8138: 8139, 8139: 8140, 8140: 8141, 8141: 8142, 8142: 8143, 8143: 8144, 8144: 8145, 8145: 8146, 8146: 8147, 8147: 8148, 8148: 8149, 8149: 8150, 8150: 8151, 8151: 8152, 8152: 8153, 8153: 8154, 8154: 8155, 8155: 8156, 8156: 8157, 8157: 8158, 8158: 8159, 8159: 8160, 8160: 8161, 8161: 8162, 8162: 8163, 8163: 8164, 8164: 8165, 8165: 8166, 8166: 8167, 8167: 8168, 8168: 8169, 8169: 8170, 8170: 8171, 8171: 8172, 8172: 8173, 8173: 8174, 8174: 8175, 8175: 8176, 8176: 8177, 8177: 8178, 8178: 8179, 8179: 8180, 8180: 8181, 8181: 8182, 8182: 8183, 8183: 8184, 8184: 8185, 8185: 8186, 8186: 8187, 8187: 8188, 8188: 8189, 8189: 8190, 8190: 8191, 8191: 8192, 8192: 8193, 8193: 8194, 8194: 8195, 8195: 8196, 8196: 8197, 8197: 8198, 8198: 8199, 8199: 8200, 8200: 8201, 8201: 8202, 8202: 8203, 8203: 8204, 8204: 8205, 8205: 8206, 8206: 8207, 8207: 8208, 8208: 8209, 8209: 8210, 8210: 8211, 8211: 8212, 8212: 8213, 8213: 8214, 8214: 8215, 8215: 8216, 8216: 8217, 8217: 8218, 8218: 8219, 8219: 8220, 8220: 8221, 8221: 8222, 8222: 8223, 8223: 8224, 8224: 8225, 8225: 8226, 8226: 8227, 8227: 8228, 8228: 8229, 8229: 8230, 8230: 8231, 8231: 8232, 8232: 8233, 8233: 8234, 8234: 8235, 8235: 8236, 8236: 8237, 8237: 8238, 8238: 8239, 8239: 8240, 8240: 8241, 8241: 8242, 8242: 8243, 8243: 8244, 8244: 8245, 8245: 8246, 8246: 8247, 8247: 8248, 8248: 8249, 8249: 8250, 8250: 8251, 8251: 8252, 8252: 8253, 8253: 8254, 8254: 8255, 8255: 8256, 8256: 8257, 8257: 8258, 8258: 8259, 8259: 8260, 8260: 8261, 8261: 8262, 8262: 8263, 8263: 8264, 8264: 8265, 8265: 8266, 8266: 8267, 8267: 8268, 8268: 8269, 8269: 8270, 8270: 8271, 8271: 8272, 8272: 8273, 8273: 8274, 8274: 8275, 8275: 8276, 8276: 8277, 8277: 8278, 8278: 8279, 8279: 8280, 8280: 8281, 8281: 8282, 8282: 8283, 8283: 8284, 8284: 8285, 8285: 8286, 8286: 8287, 8287: 8288, 8288: 8289, 8289: 8290, 8290: 8291, 8291: 8292, 8292: 8293, 8293: 8294, 8294: 8295, 8295: 8296, 8296: 8297, 8297: 8298, 8298: 8299, 8299: 8300, 8300: 8301, 8301: 8302, 8302: 8303, 8303: 8304, 8304: 8305, 8305: 8306, 8306: 8307, 8307: 8308, 8308: 8309, 8309: 8310, 8310: 8311, 8311: 8312, 8312: 8313, 8313: 8314, 8314: 8315, 8315: 8316, 8316: 8317, 8317: 8318, 8318: 8319, 8319: 8320, 8320: 8321, 8321: 8322, 8322: 8323, 8323: 8324, 8324: 8325, 8325: 8326, 8326: 8327, 8327: 8328, 8328: 8329, 8329: 8330, 8330: 8331, 8331: 8332, 8332: 8333, 8333: 8334, 8334: 8335, 8335: 8336, 8336: 8337, 8337: 8338, 8338: 8339, 8339: 8340, 8340: 8341, 8341: 8342, 8342: 8343, 8343: 8344, 8344: 8345, 8345: 8346, 8346: 8347, 8347: 8348, 8348: 8349, 8349: 8350, 8350: 8351, 8351: 8352, 8352: 8353, 8353: 8354, 8354: 8355, 8355: 8356, 8356: 8357, 8357: 8358, 8358: 8359, 8359: 8360, 8360: 8361, 8361: 8362, 8362: 8363, 8363: 8364, 8364: 8365, 8365: 8366, 8366: 8367, 8367: 8368, 8368: 8369, 8369: 8370, 8370: 8371, 8371: 8372, 8372: 8373, 8373: 8374, 8374: 8375, 8375: 8376, 8376: 8377, 8377: 8378, 8378: 8379, 8379: 8380, 8380: 8381, 8381: 8382, 8382: 8383, 8383: 8384, 8384: 8385, 8385: 8386, 8386: 8387, 8387: 8388, 8388: 8389, 8389: 8390, 8390: 8391, 8391: 8392, 8392: 8393, 8393: 8394, 8394: 8395, 8395: 8396, 8396: 8397, 8397: 8398, 8398: 8399, 8399: 8400, 8400: 8401, 8401: 8402, 8402: 8403, 8403: 8404, 8404: 8405, 8405: 8406, 8406: 8407, 8407: 8408, 8408: 8409, 8409: 8410, 8410: 8411, 8411: 8412, 8412: 8413, 8413: 8414, 8414: 8415, 8415: 8416, 8416: 8417, 8417: 8418, 8418: 8419, 8419: 8420, 8420: 8421, 8421: 8422, 8422: 8423, 8423: 8424, 8424: 8425, 8425: 8426, 8426: 8427, 8427: 8428, 8428: 8429, 8429: 8430, 8430: 8431, 8431: 8432, 8432: 8433, 8433: 8434, 8434: 8435, 8435: 8436, 8436: 8437, 8437: 8438, 8438: 8439, 8439: 8440, 8440: 8441, 8441: 8442, 8442: 8443, 8443: 8444, 8444: 8445, 8445: 8446, 8446: 8447, 8447: 8448, 8448: 8449, 8449: 8450, 8450: 8451, 8451: 8452, 8452: 8453, 8453: 8454, 8454: 8455, 8455: 8456, 8456: 8457, 8457: 8458, 8458: 8459, 8459: 8460, 8460: 8461, 8461: 8462, 8462: 8463, 8463: 8464, 8464: 8465, 8465: 8466, 8466: 8467, 8467: 8468, 8468: 8469, 8469: 8470, 8470: 8471, 8471: 8472, 8472: 8473, 8473: 8474, 8474: 8475, 8475: 8476, 8476: 8477, 8477: 8478, 8478: 8479, 8479: 8480, 8480: 8481, 8481: 8482, 8482: 8483, 8483: 8484, 8484: 8485, 8485: 8486, 8486: 8487, 8487: 8488, 8488: 8489, 8489: 8490, 8490: 8491, 8491: 8492, 8492: 8493, 8493: 8494, 8494: 8495, 8495: 8496, 8496: 8497, 8497: 8498, 8498: 8499, 8499: 8500, 8500: 8501, 8501: 8502, 8502: 8503, 8503: 8504, 8504: 8505, 8505: 8506, 8506: 8507, 8507: 8508, 8508: 8509, 8509: 8510, 8510: 8511, 8511: 8512, 8512: 8513, 8513: 8514, 8514: 8515, 8515: 8516, 8516: 8517, 8517: 8518, 8518: 8519, 8519: 8520, 8520: 8521, 8521: 8522, 8522: 8523, 8523: 8524, 8524: 8525, 8525: 8526, 8526: 8527, 8527: 8528, 8528: 8529, 8529: 8530, 8530: 8531, 8531: 8532, 8532: 8533, 8533: 8534, 8534: 8535, 8535: 8536, 8536: 8537, 8537: 8538, 8538: 8539, 8539: 8540, 8540: 8541, 8541: 8542, 8542: 8543, 8543: 8544, 8544: 8545, 8545: 8546, 8546: 8547, 8547: 8548, 8548: 8549, 8549: 8550, 8550: 8551, 8551: 8552, 8552: 8553, 8553: 8554, 8554: 8555, 8555: 8556, 8556: 8557, 8557: 8558, 8558: 8559, 8559: 8560, 8560: 8561, 8561: 8562, 8562: 8563, 8563: 8564, 8564: 8565, 8565: 8566, 8566: 8567, 8567: 8568, 8568: 8569, 8569: 8570, 8570: 8571, 8571: 8572, 8572: 8573, 8573: 8574, 8574: 8575, 8575: 8576, 8576: 8577, 8577: 8578, 8578: 8579, 8579: 8580, 8580: 8581, 8581: 8582, 8582: 8583, 8583: 8584, 8584: 8585, 8585: 8586, 8586: 8587, 8587: 8588, 8588: 8589, 8589: 8590, 8590: 8591, 8591: 8592, 8592: 8593, 8593: 8594, 8594: 8595, 8595: 8596, 8596: 8597, 8597: 8598, 8598: 8599, 8599: 8600, 8600: 8601, 8601: 8602, 8602: 8603, 8603: 8604, 8604: 8605, 8605: 8606, 8606: 8607, 8607: 8608, 8608: 8609, 8609: 8610, 8610: 8611, 8611: 8612, 8612: 8613, 8613: 8614, 8614: 8615, 8615: 8616, 8616: 8617, 8617: 8618, 8618: 8619, 8619: 8620, 8620: 8621, 8621: 8622, 8622: 8623, 8623: 8624, 8624: 8625, 8625: 8626, 8626: 8627, 8627: 8628, 8628: 8629, 8629: 8630, 8630: 8631, 8631: 8632, 8632: 8633, 8633: 8634, 8634: 8635, 8635: 8636, 8636: 8637, 8637: 8638, 8638: 8639, 8639: 8640, 8640: 8641, 8641: 8642, 8642: 8643, 8643: 8644, 8644: 8645, 8645: 8646, 8646: 8647, 8647: 8648, 8648: 8649, 8649: 8650, 8650: 8651, 8651: 8652, 8652: 8653, 8653: 8654, 8654: 8655, 8655: 8656, 8656: 8657, 8657: 8658, 8658: 8659, 8659: 8660, 8660: 8661, 8661: 8662, 8662: 8663, 8663: 8664, 8664: 8665, 8665: 8666, 8666: 8667, 8667: 8668, 8668: 8669, 8669: 8670, 8670: 8671, 8671: 8672, 8672: 8673, 8673: 8674, 8674: 8675, 8675: 8676, 8676: 8677, 8677: 8678, 8678: 8679, 8679: 8680, 8680: 8681, 8681: 8682, 8682: 8683, 8683: 8684, 8684: 8685, 8685: 8686, 8686: 8687, 8687: 8688, 8688: 8689, 8689: 8690, 8690: 8691, 8691: 8692, 8692: 8693, 8693: 8694, 8694: 8695, 8695: 8696, 8696: 8697, 8697: 8698, 8698: 8699, 8699: 8700, 8700: 8701, 8701: 8702, 8702: 8703, 8703: 8704, 8704: 8705, 8705: 8706, 8706: 8707, 8707: 8708, 8708: 8709, 8709: 8710, 8710: 8711, 8711: 8712, 8712: 8713, 8713: 8714, 8714: 8715, 8715: 8716, 8716: 8717, 8717: 8718, 8718: 8719, 8719: 8720, 8720: 8721, 8721: 8722, 8722: 8723, 8723: 8724, 8724: 8725, 8725: 8726, 8726: 8727, 8727: 8728, 8728: 8729, 8729: 8730, 8730: 8731, 8731: 8732, 8732: 8733, 8733: 8734, 8734: 8735, 8735: 8736, 8736: 8737, 8737: 8738, 8738: 8739, 8739: 8740, 8740: 8741, 8741: 8742, 8742: 8743, 8743: 8744, 8744: 8745, 8745: 8746, 8746: 8747, 8747: 8748, 8748: 8749, 8749: 8750, 8750: 8751, 8751: 8752, 8752: 8753, 8753: 8754, 8754: 8755, 8755: 8756, 8756: 8757, 8757: 8758, 8758: 8759, 8759: 8760, 8760: 8761, 8761: 8762, 8762: 8763, 8763: 8764, 8764: 8765, 8765: 8766, 8766: 8767, 8767: 8768, 8768: 8769, 8769: 8770, 8770: 8771, 8771: 8772, 8772: 8773, 8773: 8774, 8774: 8775, 8775: 8776, 8776: 8777, 8777: 8778, 8778: 8779, 8779: 8780, 8780: 8781, 8781: 8782, 8782: 8783, 8783: 8784, 8784: 8785, 8785: 8786, 8786: 8787, 8787: 8788, 8788: 8789, 8789: 8790, 8790: 8791, 8791: 8792, 8792: 8793, 8793: 8794, 8794: 8795, 8795: 8796, 8796: 8797, 8797: 8798, 8798: 8799, 8799: 8800, 8800: 8801, 8801: 8802, 8802: 8803, 8803: 8804, 8804: 8805, 8805: 8806, 8806: 8807, 8807: 8808, 8808: 8809, 8809: 8810, 8810: 8811, 8811: 8812, 8812: 8813, 8813: 8814, 8814: 8815, 8815: 8816, 8816: 8817, 8817: 8818, 8818: 8819, 8819: 8820, 8820: 8821, 8821: 8822, 8822: 8823, 8823: 8824, 8824: 8825, 8825: 8826, 8826: 8827, 8827: 8828, 8828: 8829, 8829: 8830, 8830: 8831, 8831: 8832, 8832: 8833, 8833: 8834, 8834: 8835, 8835: 8836, 8836: 8837, 8837: 8838, 8838: 8839, 8839: 8840, 8840: 8841, 8841: 8842, 8842: 8843, 8843: 8844, 8844: 8845, 8845: 8846, 8846: 8847, 8847: 8848, 8848: 8849, 8849: 8850, 8850: 8851, 8851: 8852, 8852: 8853, 8853: 8854, 8854: 8855, 8855: 8856, 8856: 8857, 8857: 8858, 8858: 8859, 8859: 8860, 8860: 8861, 8861: 8862, 8862: 8863, 8863: 8864, 8864: 8865, 8865: 8866, 8866: 8867, 8867: 8868, 8868: 8869, 8869: 8870, 8870: 8871, 8871: 8872, 8872: 8873, 8873: 8874, 8874: 8875, 8875: 8876, 8876: 8877, 8877: 8878, 8878: 8879, 8879: 8880, 8880: 8881, 8881: 8882, 8882: 8883, 8883: 8884, 8884: 8885, 8885: 8886, 8886: 8887, 8887: 8888, 8888: 8889, 8889: 8890, 8890: 8891, 8891: 8892, 8892: 8893, 8893: 8894, 8894: 8895, 8895: 8896, 8896: 8897, 8897: 8898, 8898: 8899, 8899: 8900, 8900: 8901, 8901: 8902, 8902: 8903, 8903: 8904, 8904: 8905, 8905: 8906, 8906: 8907, 8907: 8908, 8908: 8909, 8909: 8910, 8910: 8911, 8911: 8912, 8912: 8913, 8913: 8914, 8914: 8915, 8915: 8916, 8916: 8917, 8917: 8918, 8918: 8919, 8919: 8920, 8920: 8921, 8921: 8922, 8922: 8923, 8923: 8924, 8924: 8925, 8925: 8926, 8926: 8927, 8927: 8928, 8928: 8929, 8929: 8930, 8930: 8931, 8931: 8932, 8932: 8933, 8933: 8934, 8934: 8935, 8935: 8936, 8936: 8937, 8937: 8938, 8938: 8939, 8939: 8940, 8940: 8941, 8941: 8942, 8942: 8943, 8943: 8944, 8944: 8945, 8945: 8946, 8946: 8947, 8947: 8948, 8948: 8949, 8949: 8950, 8950: 8951, 8951: 8952, 8952: 8953, 8953: 8954, 8954: 8955, 8955: 8956, 8956: 8957, 8957: 8958, 8958: 8959, 8959: 8960, 8960: 8961, 8961: 8962, 8962: 8963, 8963: 8964, 8964: 8965, 8965: 8966, 8966: 8967, 8967: 8968, 8968: 8969, 8969: 8970, 8970: 8971, 8971: 8972, 8972: 8973, 8973: 8974, 8974: 8975, 8975: 8976, 8976: 8977, 8977: 8978, 8978: 8979, 8979: 8980, 8980: 8981, 8981: 8982, 8982: 8983, 8983: 8984, 8984: 8985, 8985: 8986, 8986: 8987, 8987: 8988, 8988: 8989, 8989: 8990, 8990: 8991, 8991: 8992, 8992: 8993, 8993: 8994, 8994: 8995, 8995: 8996, 8996: 8997, 8997: 8998, 8998: 8999, 8999: 9000, 9000: 9001, 9001: 9002, 9002: 9003, 9003: 9004, 9004: 9005, 9005: 9006, 9006: 9007, 9007: 9008, 9008: 9009, 9009: 9010, 9010: 9011, 9011: 9012, 9012: 9013, 9013: 9014, 9014: 9015, 9015: 9016, 9016: 9017, 9017: 9018, 9018: 9019, 9019: 9020, 9020: 9021, 9021: 9022, 9022: 9023, 9023: 9024, 9024: 9025, 9025: 9026, 9026: 9027, 9027: 9028, 9028: 9029, 9029: 9030, 9030: 9031, 9031: 9032, 9032: 9033, 9033: 9034, 9034: 9035, 9035: 9036, 9036: 9037, 9037: 9038, 9038: 9039, 9039: 9040, 9040: 9041, 9041: 9042, 9042: 9043, 9043: 9044, 9044: 9045, 9045: 9046, 9046: 9047, 9047: 9048, 9048: 9049, 9049: 9050, 9050: 9051, 9051: 9052, 9052: 9053, 9053: 9054, 9054: 9055, 9055: 9056, 9056: 9057, 9057: 9058, 9058: 9059, 9059: 9060, 9060: 9061, 9061: 9062, 9062: 9063, 9063: 9064, 9064: 9065, 9065: 9066, 9066: 9067, 9067: 9068, 9068: 9069, 9069: 9070, 9070: 9071, 9071: 9072, 9072: 9073, 9073: 9074, 9074: 9075, 9075: 9076, 9076: 9077, 9077: 9078, 9078: 9079, 9079: 9080, 9080: 9081, 9081: 9082, 9082: 9083, 9083: 9084, 9084: 9085, 9085: 9086, 9086: 9087, 9087: 9088, 9088: 9089, 9089: 9090, 9090: 9091, 9091: 9092, 9092: 9093, 9093: 9094, 9094: 9095, 9095: 9096, 9096: 9097, 9097: 9098, 9098: 9099, 9099: 9100, 9100: 9101, 9101: 9102, 9102: 9103, 9103: 9104, 9104: 9105, 9105: 9106, 9106: 9107, 9107: 9108, 9108: 9109, 9109: 9110, 9110: 9111, 9111: 9112, 9112: 9113, 9113: 9114, 9114: 9115, 9115: 9116, 9116: 9117, 9117: 9118, 9118: 9119, 9119: 9120, 9120: 9121, 9121: 9122, 9122: 9123, 9123: 9124, 9124: 9125, 9125: 9126, 9126: 9127, 9127: 9128, 9128: 9129, 9129: 9130, 9130: 9131, 9131: 9132, 9132: 9133, 9133: 9134, 9134: 9135, 9135: 9136, 9136: 9137, 9137: 9138, 9138: 9139, 9139: 9140, 9140: 9141, 9141: 9142, 9142: 9143, 9143: 9144, 9144: 9145, 9145: 9146, 9146: 9147, 9147: 9148, 9148: 9149, 9149: 9150, 9150: 9151, 9151: 9152, 9152: 9153, 9153: 9154, 9154: 9155, 9155: 9156, 9156: 9157, 9157: 9158, 9158: 9159, 9159: 9160, 9160: 9161, 9161: 9162, 9162: 9163, 9163: 9164, 9164: 9165, 9165: 9166, 9166: 9167, 9167: 9168, 9168: 9169, 9169: 9170, 9170: 9171, 9171: 9172, 9172: 9173, 9173: 9174, 9174: 9175, 9175: 9176, 9176: 9177, 9177: 9178, 9178: 9179, 9179: 9180, 9180: 9181, 9181: 9182, 9182: 9183, 9183: 9184, 9184: 9185, 9185: 9186, 9186: 9187, 9187: 9188, 9188: 9189, 9189: 9190, 9190: 9191, 9191: 9192, 9192: 9193, 9193: 9194, 9194: 9195, 9195: 9196, 9196: 9197, 9197: 9198, 9198: 9199, 9199: 9200, 9200: 9201, 9201: 9202, 9202: 9203, 9203: 9204, 9204: 9205, 9205: 9206, 9206: 9207, 9207: 9208, 9208: 9209, 9209: 9210, 9210: 9211, 9211: 9212, 9212: 9213, 9213: 9214, 9214: 9215, 9215: 9216, 9216: 9217, 9217: 9218, 9218: 9219, 9219: 9220, 9220: 9221, 9221: 9222, 9222: 9223, 9223: 9224, 9224: 9225, 9225: 9226, 9226: 9227, 9227: 9228, 9228: 9229, 9229: 9230, 9230: 9231, 9231: 9232, 9232: 9233, 9233: 9234, 9234: 9235, 9235: 9236, 9236: 9237, 9237: 9238, 9238: 9239, 9239: 9240, 9240: 9241, 9241: 9242, 9242: 9243, 9243: 9244, 9244: 9245, 9245: 9246, 9246: 9247, 9247: 9248, 9248: 9249, 9249: 9250, 9250: 9251, 9251: 9252, 9252: 9253, 9253: 9254, 9254: 9255, 9255: 9256, 9256: 9257, 9257: 9258, 9258: 9259, 9259: 9260, 9260: 9261, 9261: 9262, 9262: 9263, 9263: 9264, 9264: 9265, 9265: 9266, 9266: 9267, 9267: 9268, 9268: 9269, 9269: 9270, 9270: 9271, 9271: 9272, 9272: 9273, 9273: 9274, 9274: 9275, 9275: 9276, 9276: 9277, 9277: 9278, 9278: 9279, 9279: 9280, 9280: 9281, 9281: 9282, 9282: 9283, 9283: 9284, 9284: 9285, 9285: 9286, 9286: 9287, 9287: 9288, 9288: 9289, 9289: 9290, 9290: 9291, 9291: 9292, 9292: 9293, 9293: 9294, 9294: 9295, 9295: 9296, 9296: 9297, 9297: 9298, 9298: 9299, 9299: 9300, 9300: 9301, 9301: 9302, 9302: 9303, 9303: 9304, 9304: 9305, 9305: 9306, 9306: 9307, 9307: 9308, 9308: 9309, 9309: 9310, 9310: 9311, 9311: 9312, 9312: 9313, 9313: 9314, 9314: 9315, 9315: 9316, 9316: 9317, 9317: 9318, 9318: 9319, 9319: 9320, 9320: 9321, 9321: 9322, 9322: 9323, 9323: 9324, 9324: 9325, 9325: 9326, 9326: 9327, 9327: 9328, 9328: 9329, 9329: 9330, 9330: 9331, 9331: 9332, 9332: 9333, 9333: 9334, 9334: 9335, 9335: 9336, 9336: 9337, 9337: 9338, 9338: 9339, 9339: 9340, 9340: 9341, 9341: 9342, 9342: 9343, 9343: 9344, 9344: 9345, 9345: 9346, 9346: 9347, 9347: 9348, 9348: 9349, 9349: 9350, 9350: 9351, 9351: 9352, 9352: 9353, 9353: 9354, 9354: 9355, 9355: 9356, 9356: 9357, 9357: 9358, 9358: 9359, 9359: 9360, 9360: 9361, 9361: 9362, 9362: 9363, 9363: 9364, 9364: 9365, 9365: 9366, 9366: 9367, 9367: 9368, 9368: 9369, 9369: 9370, 9370: 9371, 9371: 9372, 9372: 9373, 9373: 9374, 9374: 9375, 9375: 9376, 9376: 9377, 9377: 9378, 9378: 9379, 9379: 9380, 9380: 9381, 9381: 9382, 9382: 9383, 9383: 9384, 9384: 9385, 9385: 9386, 9386: 9387, 9387: 9388, 9388: 9389, 9389: 9390, 9390: 9391, 9391: 9392, 9392: 9393, 9393: 9394, 9394: 9395, 9395: 9396, 9396: 9397, 9397: 9398, 9398: 9399, 9399: 9400, 9400: 9401, 9401: 9402}\n"
          ],
          "name": "stdout"
        }
      ]
    },
    {
      "cell_type": "code",
      "metadata": {
        "colab_type": "code",
        "id": "Y3mmPsi8TiUD",
        "colab": {
          "base_uri": "https://localhost:8080/",
          "height": 34
        },
        "outputId": "1c007a94-bc74-4607-e5b5-ef31d3fdb83b"
      },
      "source": [
        "d[2922]"
      ],
      "execution_count": null,
      "outputs": [
        {
          "output_type": "execute_result",
          "data": {
            "text/plain": [
              "2923"
            ]
          },
          "metadata": {
            "tags": []
          },
          "execution_count": 67
        }
      ]
    },
    {
      "cell_type": "code",
      "metadata": {
        "colab_type": "code",
        "id": "qCJTO59bK3hY",
        "colab": {
          "base_uri": "https://localhost:8080/",
          "height": 195
        },
        "outputId": "2ac382c4-6fbc-4990-ee02-3964f1cd9f4e"
      },
      "source": [
        "train_df.head()"
      ],
      "execution_count": null,
      "outputs": [
        {
          "output_type": "execute_result",
          "data": {
            "text/html": [
              "<div>\n",
              "<style scoped>\n",
              "    .dataframe tbody tr th:only-of-type {\n",
              "        vertical-align: middle;\n",
              "    }\n",
              "\n",
              "    .dataframe tbody tr th {\n",
              "        vertical-align: top;\n",
              "    }\n",
              "\n",
              "    .dataframe thead th {\n",
              "        text-align: right;\n",
              "    }\n",
              "</style>\n",
              "<table border=\"1\" class=\"dataframe\">\n",
              "  <thead>\n",
              "    <tr style=\"text-align: right;\">\n",
              "      <th></th>\n",
              "      <th>UserID</th>\n",
              "      <th>ItemID</th>\n",
              "      <th>Rating</th>\n",
              "      <th>User_ID</th>\n",
              "      <th>Item_ID</th>\n",
              "    </tr>\n",
              "  </thead>\n",
              "  <tbody>\n",
              "    <tr>\n",
              "      <th>0</th>\n",
              "      <td>2923</td>\n",
              "      <td>7476</td>\n",
              "      <td>4</td>\n",
              "      <td>2922</td>\n",
              "      <td>7306</td>\n",
              "    </tr>\n",
              "    <tr>\n",
              "      <th>1</th>\n",
              "      <td>2923</td>\n",
              "      <td>6318</td>\n",
              "      <td>5</td>\n",
              "      <td>2922</td>\n",
              "      <td>6165</td>\n",
              "    </tr>\n",
              "    <tr>\n",
              "      <th>2</th>\n",
              "      <td>2923</td>\n",
              "      <td>4595</td>\n",
              "      <td>5</td>\n",
              "      <td>2922</td>\n",
              "      <td>4486</td>\n",
              "    </tr>\n",
              "    <tr>\n",
              "      <th>3</th>\n",
              "      <td>2923</td>\n",
              "      <td>7264</td>\n",
              "      <td>5</td>\n",
              "      <td>2922</td>\n",
              "      <td>7095</td>\n",
              "    </tr>\n",
              "    <tr>\n",
              "      <th>4</th>\n",
              "      <td>2923</td>\n",
              "      <td>8325</td>\n",
              "      <td>5</td>\n",
              "      <td>2922</td>\n",
              "      <td>8133</td>\n",
              "    </tr>\n",
              "  </tbody>\n",
              "</table>\n",
              "</div>"
            ],
            "text/plain": [
              "  UserID ItemID  Rating  User_ID  Item_ID\n",
              "0   2923   7476       4     2922     7306\n",
              "1   2923   6318       5     2922     6165\n",
              "2   2923   4595       5     2922     4486\n",
              "3   2923   7264       5     2922     7095\n",
              "4   2923   8325       5     2922     8133"
            ]
          },
          "metadata": {
            "tags": []
          },
          "execution_count": 127
        }
      ]
    },
    {
      "cell_type": "code",
      "metadata": {
        "colab_type": "code",
        "id": "GWGhtOmq3p7t",
        "colab": {}
      },
      "source": [
        "\n",
        "sparse_content_person = sparse.csr_matrix((train_df['Rating'].astype(float), (train_df['Item_ID'], train_df['User_ID'])))\n",
        "sparse_person_content = sparse.csr_matrix((train_df['Rating'].astype(float), (train_df['User_ID'], train_df['Item_ID'])))"
      ],
      "execution_count": null,
      "outputs": []
    },
    {
      "cell_type": "code",
      "metadata": {
        "colab_type": "code",
        "id": "eIJy5JBXAmvI",
        "colab": {
          "base_uri": "https://localhost:8080/",
          "height": 84,
          "referenced_widgets": [
            "94d1b69390524a70ada7389690951112",
            "cbbbd22060ce41c69c13970c7104e3a8",
            "e856de41c39a463687768635c0285be0",
            "b65c054fdf124fe4a691c5fa845a0c4f",
            "b365b127c17e40b6beec30f1bef30f01",
            "debadc4e83e04e428dd8fc48843775e3",
            "2b14b425c4184114957df8fdfe08071e",
            "be336e5c23f945f2b10d3dc33ca0aa32"
          ]
        },
        "outputId": "e521b60d-bf4b-477d-e669-e9d97fd897e6"
      },
      "source": [
        "model = implicit.als.AlternatingLeastSquares(factors=32, regularization=0.1, iterations=50)\n",
        "alpha = 15\n",
        "data = (sparse_content_person * alpha).astype('double')\n",
        "\n",
        "# Fit the model\n",
        "model.fit(data)"
      ],
      "execution_count": null,
      "outputs": [
        {
          "output_type": "stream",
          "text": [
            "WARNING:root:OpenBLAS detected. Its highly recommend to set the environment variable 'export OPENBLAS_NUM_THREADS=1' to disable its internal multithreading\n"
          ],
          "name": "stderr"
        },
        {
          "output_type": "display_data",
          "data": {
            "application/vnd.jupyter.widget-view+json": {
              "model_id": "94d1b69390524a70ada7389690951112",
              "version_major": 2,
              "version_minor": 0
            },
            "text/plain": [
              "HBox(children=(FloatProgress(value=0.0, max=50.0), HTML(value='')))"
            ]
          },
          "metadata": {
            "tags": []
          }
        },
        {
          "output_type": "stream",
          "text": [
            "\n"
          ],
          "name": "stdout"
        }
      ]
    },
    {
      "cell_type": "code",
      "metadata": {
        "colab_type": "code",
        "id": "xqEPwaobA5NY",
        "colab": {}
      },
      "source": [
        "content_id = 450\n",
        "n_similar = 10\n",
        "\n",
        "person_vecs = model.user_factors\n",
        "content_vecs = model.item_factors\n",
        "\n",
        "content_norms = np.sqrt((content_vecs * content_vecs).sum(axis=1))\n",
        "\n",
        "scores = content_vecs.dot(content_vecs[content_id]) / content_norms\n",
        "top_idx = np.argpartition(scores, -n_similar)[-n_similar:]\n",
        "similar = sorted(zip(top_idx, scores[top_idx] / content_norms[content_id]), key=lambda x: -x[1])"
      ],
      "execution_count": null,
      "outputs": []
    },
    {
      "cell_type": "code",
      "metadata": {
        "colab_type": "code",
        "id": "qUhPcoR3CI0H",
        "colab": {
          "base_uri": "https://localhost:8080/",
          "height": 193
        },
        "outputId": "f18ae7ef-e9c5-41ee-cca9-e89ed0a9b843"
      },
      "source": [
        "for content in similar:\n",
        "    idx, score = content\n",
        "    print(train_df.Item_ID.loc[train_df.Item_ID == idx].iloc[0])"
      ],
      "execution_count": null,
      "outputs": [
        {
          "output_type": "stream",
          "text": [
            "450\n",
            "2561\n",
            "11\n",
            "10215\n",
            "7981\n",
            "4904\n",
            "8849\n",
            "3328\n",
            "12054\n",
            "8064\n"
          ],
          "name": "stdout"
        }
      ]
    },
    {
      "cell_type": "code",
      "metadata": {
        "colab_type": "code",
        "id": "9geK-Z8dCSXq",
        "colab": {}
      },
      "source": [
        "def recommend(person_id, sparse_person_content, person_vecs, content_vecs, num_contents=50):\n",
        "    person_interactions = sparse_person_content[person_id,:].toarray()\n",
        "    person_interactions = person_interactions.reshape(-1) + 1\n",
        "    person_interactions[person_interactions > 1] = 0\n",
        "    rec_vector = person_vecs[person_id,:].dot(content_vecs.T).toarray()\n",
        "    min_max = MinMaxScaler()\n",
        "    rec_vector_scaled = min_max.fit_transform(rec_vector.reshape(-1,1))[:,0]\n",
        "\n",
        "    recommend_vector = person_interactions * rec_vector_scaled\n",
        "    content_idx = np.argsort(recommend_vector)[::-1][:num_contents]\n",
        "    \n",
        "    items = []\n",
        "    scores = []\n",
        "\n",
        "    for idx in content_idx:\n",
        "        items.append(train_df.ItemID.loc[train_df.Item_ID == idx].iloc[0])\n",
        "        scores.append(recommend_vector[idx])\n",
        "\n",
        "    recommendations = pd.DataFrame({'item': items, 'score': scores})\n",
        "\n",
        "    return recommendations"
      ],
      "execution_count": null,
      "outputs": []
    },
    {
      "cell_type": "markdown",
      "metadata": {
        "colab_type": "text",
        "id": "RFqiuEe5U0CX"
      },
      "source": [
        "Make recommendations to users"
      ]
    },
    {
      "cell_type": "code",
      "metadata": {
        "colab_type": "code",
        "id": "N3IiJa-fXrxd",
        "colab": {
          "base_uri": "https://localhost:8080/",
          "height": 34
        },
        "outputId": "a29b215f-b336-40ca-c925-ce0eb92c60ed"
      },
      "source": [
        "num_of_user = train_df.UserID.nunique()\n",
        "num_of_user"
      ],
      "execution_count": null,
      "outputs": [
        {
          "output_type": "execute_result",
          "data": {
            "text/plain": [
              "9402"
            ]
          },
          "metadata": {
            "tags": []
          },
          "execution_count": 18
        }
      ]
    },
    {
      "cell_type": "code",
      "metadata": {
        "colab_type": "code",
        "id": "JIBCCiboPMBl",
        "colab": {}
      },
      "source": [
        "person_vecs = sparse.csr_matrix(model.user_factors)\n",
        "content_vecs = sparse.csr_matrix(model.item_factors)\n",
        "user_rec_lst = []\n",
        "user_id_lst=[]\n",
        "for i in range(0,num_of_user):\n",
        "  person_id = i\n",
        "  recommendations = recommend(person_id, sparse_person_content, person_vecs, content_vecs)\n",
        "  user_rec_lst.append(list(recommendations.item))\n",
        "  user_id_lst.append(d[i])"
      ],
      "execution_count": null,
      "outputs": []
    },
    {
      "cell_type": "code",
      "metadata": {
        "colab_type": "code",
        "id": "pmFQBZXJgjWX",
        "colab": {}
      },
      "source": [
        "recommendations = recommend(person_id, sparse_person_content, person_vecs, content_vecs)"
      ],
      "execution_count": null,
      "outputs": []
    },
    {
      "cell_type": "code",
      "metadata": {
        "colab_type": "code",
        "id": "Mv2sQxJ5QI4S",
        "colab": {}
      },
      "source": [
        "output_lst = [x for _,x in sorted(zip(user_id_lst,user_rec_lst))]"
      ],
      "execution_count": null,
      "outputs": []
    },
    {
      "cell_type": "markdown",
      "metadata": {
        "colab_type": "text",
        "id": "XJzg1uT_dYkb"
      },
      "source": [
        "Evaluation"
      ]
    },
    {
      "cell_type": "markdown",
      "metadata": {
        "colab_type": "text",
        "id": "kPl3Fdw1ovSF"
      },
      "source": [
        "Recall-50"
      ]
    },
    {
      "cell_type": "code",
      "metadata": {
        "colab_type": "code",
        "id": "ET4UVsEoeRbJ",
        "colab": {}
      },
      "source": [
        "#test_df['ItemID'] = test_df['ItemID'].astype(np.uint8)\n",
        "recall_lst = []\n",
        "for i in range(0,num_of_user):\n",
        "  true_userid = d[i]\n",
        "  recommened_itemlst = output_lst[d[i]-1]\n",
        "  user_cur = test_df.loc[test_df['UserID']==true_userid]\n",
        "  user_cur = user_cur.sort_values(by=['Rating'],ascending=False)\n",
        "  if user_cur.shape[0]<=50:\n",
        "    ground_truth = set(user_cur['ItemID'])\n",
        "    \n",
        "  else: \n",
        "    ground_truth = set(user_cur['ItemID'][:50])\n",
        "  recall = len(set(recommened_itemlst) & set(ground_truth))/len(ground_truth)\n",
        "  recall_lst.append(recall)"
      ],
      "execution_count": null,
      "outputs": []
    },
    {
      "cell_type": "code",
      "metadata": {
        "colab_type": "code",
        "id": "EOOTvwNfjCQS",
        "colab": {
          "base_uri": "https://localhost:8080/",
          "height": 34
        },
        "outputId": "e15984da-475d-495d-eb88-6ae53962041d"
      },
      "source": [
        "recall_50 = sum(recall_lst) / len(recall_lst) \n",
        "print(recall_50)"
      ],
      "execution_count": null,
      "outputs": [
        {
          "output_type": "stream",
          "text": [
            "0.3388373152365161\n"
          ],
          "name": "stdout"
        }
      ]
    },
    {
      "cell_type": "markdown",
      "metadata": {
        "colab_type": "text",
        "id": "vvbPR4A-tTet"
      },
      "source": [
        "Parameter Tuning"
      ]
    },
    {
      "cell_type": "code",
      "metadata": {
        "colab_type": "code",
        "id": "6wVtw2zItSbr",
        "colab": {
          "base_uri": "https://localhost:8080/",
          "height": 218,
          "referenced_widgets": [
            "df90f79645134c25a8cfd230ba62de91",
            "badbbb52b9f6492cb4d22180c8016836",
            "b050e356d9974b5796c1721427afda3e",
            "583dfc1d56864e83b5b4e5cbafeff8f4",
            "b3d2664fe1d34f6f9c26933760752cd3",
            "4be0768be99944d5b27d0c5859c33bbb",
            "5fed64d010584751829d3ce71c03489d",
            "365c07b4011c44f1b53028097da3419b",
            "b6bfa139319c43dab18f37e9da427144",
            "a4065b580e7645169826843115d076cd",
            "d4c419ddb25a4fed8f7a6937eb211e03",
            "fae542c6915a44fb97b93d59ee9ba481",
            "fe37091a40604fa394acddd19532f0f2",
            "09ee21dd9cdd4802a394e043ae4e0b47",
            "8f0bdbc4daf34b7cabce2494e80be748",
            "7e5e8ae2622d4214bae8774cdbfa2711",
            "5ef7a3513e1c4b8499fd870c019c7776",
            "b62573f82ca046f786ef0d596c3e1dcc",
            "674ac0e956eb43acb5cb17c54ef0f3d2",
            "47b23d64c7374600855aefbbbde68c18",
            "9c7a0be8cabe4845b05ba8c5b7711181",
            "2d95c3d5354f459285a135140832e6e1",
            "41d067d4ede240e8b9247d97384f94de",
            "e70dff6c02fd468e9a12f48faa3e446c"
          ]
        },
        "outputId": "4dce3fa3-9bb2-4a0e-b3d5-5b7acd348d7d"
      },
      "source": [
        "alpha_lst = [5,15,25]\n",
        "\n",
        "for i in range(0,len(alpha_lst)):\n",
        "  model = implicit.als.AlternatingLeastSquares(factors=32, regularization=0.1, iterations=50)\n",
        "  alpha = alpha_lst[i]\n",
        "  data = (sparse_content_person * alpha).astype('double')\n",
        "\n",
        "  # Fit the model\n",
        "  model.fit(data)\n",
        "  person_vecs = sparse.csr_matrix(model.user_factors)\n",
        "  content_vecs = sparse.csr_matrix(model.item_factors)\n",
        "  user_rec_lst = []\n",
        "  user_id_lst=[]\n",
        "  for i in range(0,num_of_user):\n",
        "    person_id = i\n",
        "    recommendations = recommend(person_id, sparse_person_content, person_vecs, content_vecs)\n",
        "    user_rec_lst.append(list(recommendations.item))\n",
        "    user_id_lst.append(d[i])\n",
        "  output_lst = [x for _,x in sorted(zip(user_id_lst,user_rec_lst))]\n",
        "  recall_lst = []\n",
        "  for i in range(0,num_of_user):\n",
        "    true_userid = d[i]\n",
        "    recommened_itemlst = output_lst[d[i]-1]\n",
        "    user_cur = test_df.loc[test_df['UserID']==true_userid]\n",
        "    user_cur = user_cur.sort_values(by=['Rating'],ascending=False)\n",
        "    if user_cur.shape[0]<=50:\n",
        "      ground_truth = set(user_cur['ItemID'])\n",
        "      \n",
        "    else: \n",
        "      ground_truth = set(user_cur['ItemID'][:50])\n",
        "    recall = len(set(recommened_itemlst) & set(ground_truth))/len(ground_truth)\n",
        "    recall_lst.append(recall)\n",
        "  recall_50 = sum(recall_lst) / len(recall_lst) \n",
        "  print('Recall for alpha '+str(alpha)+' is '+str(recall_50))"
      ],
      "execution_count": null,
      "outputs": [
        {
          "output_type": "display_data",
          "data": {
            "application/vnd.jupyter.widget-view+json": {
              "model_id": "df90f79645134c25a8cfd230ba62de91",
              "version_major": 2,
              "version_minor": 0
            },
            "text/plain": [
              "HBox(children=(FloatProgress(value=0.0, max=50.0), HTML(value='')))"
            ]
          },
          "metadata": {
            "tags": []
          }
        },
        {
          "output_type": "stream",
          "text": [
            "\n",
            "Recall for alpha 5 is 0.336090223047496\n"
          ],
          "name": "stdout"
        },
        {
          "output_type": "display_data",
          "data": {
            "application/vnd.jupyter.widget-view+json": {
              "model_id": "b6bfa139319c43dab18f37e9da427144",
              "version_major": 2,
              "version_minor": 0
            },
            "text/plain": [
              "HBox(children=(FloatProgress(value=0.0, max=50.0), HTML(value='')))"
            ]
          },
          "metadata": {
            "tags": []
          }
        },
        {
          "output_type": "stream",
          "text": [
            "\n",
            "Recall for alpha 15 is 0.3404429001099177\n"
          ],
          "name": "stdout"
        },
        {
          "output_type": "display_data",
          "data": {
            "application/vnd.jupyter.widget-view+json": {
              "model_id": "5ef7a3513e1c4b8499fd870c019c7776",
              "version_major": 2,
              "version_minor": 0
            },
            "text/plain": [
              "HBox(children=(FloatProgress(value=0.0, max=50.0), HTML(value='')))"
            ]
          },
          "metadata": {
            "tags": []
          }
        },
        {
          "output_type": "stream",
          "text": [
            "\n",
            "Recall for alpha 25 is 0.3368934673810467\n"
          ],
          "name": "stdout"
        }
      ]
    }
  ]
}